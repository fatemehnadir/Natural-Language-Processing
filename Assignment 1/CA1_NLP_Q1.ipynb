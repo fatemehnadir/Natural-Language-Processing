{
 "cells": [
  {
   "cell_type": "markdown",
   "id": "75e8db71",
   "metadata": {},
   "source": [
    "## Text preprocessing"
   ]
  },
  {
   "cell_type": "markdown",
   "id": "763b7daf",
   "metadata": {},
   "source": [
    "#### Install required libraries"
   ]
  },
  {
   "cell_type": "code",
   "execution_count": 1,
   "id": "123480a7",
   "metadata": {},
   "outputs": [],
   "source": [
    "import random \n",
    "import numpy as np\n",
    "import nltk\n",
    "import pandas as pd\n",
    "import codecs\n",
    "import tqdm\n",
    "import re\n",
    "\n",
    "from nltk import FreqDist\n",
    "import itertools\n",
    "\n",
    "from collections.abc import Sequence\n",
    "from nltk.lm.preprocessing import padded_everygram_pipeline\n",
    "from nltk.lm import MLE\n",
    "from nltk.tokenize.treebank import TreebankWordDetokenizer\n",
    "\n",
    "from nltk import word_tokenize\n",
    "from nltk.lm import MLE, Laplace\n",
    "from nltk.lm.preprocessing import pad_both_ends, padded_everygram_pipeline\n",
    "\n",
    "\n",
    "\n",
    "from __future__ import unicode_literals\n",
    "from hazm import *"
   ]
  },
  {
   "cell_type": "code",
   "execution_count": 2,
   "id": "e5db5d65",
   "metadata": {},
   "outputs": [
    {
     "name": "stdout",
     "output_type": "stream",
     "text": [
      "Requirement already satisfied: hazm in /Library/Frameworks/Python.framework/Versions/3.10/lib/python3.10/site-packages (0.7.1)\n",
      "Requirement already satisfied: libwapiti>=0.2.1 in /Library/Frameworks/Python.framework/Versions/3.10/lib/python3.10/site-packages (from hazm) (0.2.1)\n",
      "Requirement already satisfied: nltk==3.4 in /Library/Frameworks/Python.framework/Versions/3.10/lib/python3.10/site-packages (from hazm) (3.4)\n",
      "Requirement already satisfied: singledispatch in /Library/Frameworks/Python.framework/Versions/3.10/lib/python3.10/site-packages (from nltk==3.4->hazm) (4.0.0)\n",
      "Requirement already satisfied: six in /Library/Frameworks/Python.framework/Versions/3.10/lib/python3.10/site-packages (from nltk==3.4->hazm) (1.16.0)\n",
      "\n",
      "\u001b[1m[\u001b[0m\u001b[34;49mnotice\u001b[0m\u001b[1;39;49m]\u001b[0m\u001b[39;49m A new release of pip available: \u001b[0m\u001b[31;49m22.3.1\u001b[0m\u001b[39;49m -> \u001b[0m\u001b[32;49m23.0.1\u001b[0m\n",
      "\u001b[1m[\u001b[0m\u001b[34;49mnotice\u001b[0m\u001b[1;39;49m]\u001b[0m\u001b[39;49m To update, run: \u001b[0m\u001b[32;49mpip install --upgrade pip\u001b[0m\n",
      "Requirement already satisfied: dadmatools in /Library/Frameworks/Python.framework/Versions/3.10/lib/python3.10/site-packages (1.5.2)\n",
      "Requirement already satisfied: bpemb>=0.3.3 in /Library/Frameworks/Python.framework/Versions/3.10/lib/python3.10/site-packages (from dadmatools) (0.3.4)\n",
      "Requirement already satisfied: py7zr>=0.17.2 in /Library/Frameworks/Python.framework/Versions/3.10/lib/python3.10/site-packages (from dadmatools) (0.20.4)\n",
      "Requirement already satisfied: folium>=0.2.1 in /Library/Frameworks/Python.framework/Versions/3.10/lib/python3.10/site-packages (from dadmatools) (0.14.0)\n",
      "Requirement already satisfied: hyperopt>=0.2.5 in /Library/Frameworks/Python.framework/Versions/3.10/lib/python3.10/site-packages (from dadmatools) (0.2.7)\n",
      "Requirement already satisfied: pyconll>=3.1.0 in /Library/Frameworks/Python.framework/Versions/3.10/lib/python3.10/site-packages (from dadmatools) (3.1.0)\n",
      "Requirement already satisfied: NERDA in /Library/Frameworks/Python.framework/Versions/3.10/lib/python3.10/site-packages (from dadmatools) (1.0.0)\n",
      "Requirement already satisfied: conllu in /Library/Frameworks/Python.framework/Versions/3.10/lib/python3.10/site-packages (from dadmatools) (4.5.2)\n",
      "Requirement already satisfied: gensim>=3.6.0 in /Library/Frameworks/Python.framework/Versions/3.10/lib/python3.10/site-packages (from dadmatools) (4.3.1)\n",
      "Requirement already satisfied: h5py>=3.3.0 in /Library/Frameworks/Python.framework/Versions/3.10/lib/python3.10/site-packages (from dadmatools) (3.7.0)\n",
      "Requirement already satisfied: gdown>=4.3.1 in /Library/Frameworks/Python.framework/Versions/3.10/lib/python3.10/site-packages (from dadmatools) (4.6.4)\n",
      "Requirement already satisfied: html2text in /Library/Frameworks/Python.framework/Versions/3.10/lib/python3.10/site-packages (from dadmatools) (2020.1.16)\n",
      "Requirement already satisfied: supar==1.1.2 in /Library/Frameworks/Python.framework/Versions/3.10/lib/python3.10/site-packages (from dadmatools) (1.1.2)\n",
      "Requirement already satisfied: spacy>=3.0.0 in /Library/Frameworks/Python.framework/Versions/3.10/lib/python3.10/site-packages (from dadmatools) (3.5.1)\n",
      "Requirement already satisfied: segtok>=1.5.7 in /Library/Frameworks/Python.framework/Versions/3.10/lib/python3.10/site-packages (from dadmatools) (1.5.11)\n",
      "Requirement already satisfied: tabulate>=0.8.6 in /Library/Frameworks/Python.framework/Versions/3.10/lib/python3.10/site-packages (from dadmatools) (0.9.0)\n",
      "Requirement already satisfied: transformers>=4.9.1 in /Library/Frameworks/Python.framework/Versions/3.10/lib/python3.10/site-packages (from dadmatools) (4.25.1)\n",
      "Requirement already satisfied: tf-estimator-nightly==2.8.0.dev2021122109 in /Library/Frameworks/Python.framework/Versions/3.10/lib/python3.10/site-packages (from dadmatools) (2.8.0.dev2021122109)\n",
      "Requirement already satisfied: torch>=1.7.1 in /Library/Frameworks/Python.framework/Versions/3.10/lib/python3.10/site-packages (from dadmatools) (1.13.0)\n",
      "Requirement already satisfied: Deprecated==1.2.6 in /Library/Frameworks/Python.framework/Versions/3.10/lib/python3.10/site-packages (from dadmatools) (1.2.6)\n",
      "Requirement already satisfied: pytorch-transformers>=1.1.0 in /Library/Frameworks/Python.framework/Versions/3.10/lib/python3.10/site-packages (from dadmatools) (1.2.0)\n",
      "Requirement already satisfied: nltk in /Library/Frameworks/Python.framework/Versions/3.10/lib/python3.10/site-packages (from dadmatools) (3.4)\n",
      "Requirement already satisfied: sklearn>=0.0 in /Library/Frameworks/Python.framework/Versions/3.10/lib/python3.10/site-packages (from dadmatools) (0.0.post1)\n",
      "Requirement already satisfied: wrapt<2,>=1.10 in /Library/Frameworks/Python.framework/Versions/3.10/lib/python3.10/site-packages (from Deprecated==1.2.6->dadmatools) (1.15.0)\n",
      "Requirement already satisfied: dill in /Library/Frameworks/Python.framework/Versions/3.10/lib/python3.10/site-packages (from supar==1.1.2->dadmatools) (0.3.6)\n",
      "Requirement already satisfied: stanza in /Library/Frameworks/Python.framework/Versions/3.10/lib/python3.10/site-packages (from supar==1.1.2->dadmatools) (1.4.2)\n",
      "Requirement already satisfied: numpy in /Library/Frameworks/Python.framework/Versions/3.10/lib/python3.10/site-packages (from bpemb>=0.3.3->dadmatools) (1.23.3)\n",
      "Requirement already satisfied: sentencepiece in /Library/Frameworks/Python.framework/Versions/3.10/lib/python3.10/site-packages (from bpemb>=0.3.3->dadmatools) (0.1.97)\n",
      "Requirement already satisfied: tqdm in /Library/Frameworks/Python.framework/Versions/3.10/lib/python3.10/site-packages (from bpemb>=0.3.3->dadmatools) (4.64.1)\n",
      "Requirement already satisfied: requests in /Library/Frameworks/Python.framework/Versions/3.10/lib/python3.10/site-packages (from bpemb>=0.3.3->dadmatools) (2.28.1)\n",
      "Requirement already satisfied: jinja2>=2.9 in /Library/Frameworks/Python.framework/Versions/3.10/lib/python3.10/site-packages (from folium>=0.2.1->dadmatools) (3.1.2)\n",
      "Requirement already satisfied: branca>=0.6.0 in /Library/Frameworks/Python.framework/Versions/3.10/lib/python3.10/site-packages (from folium>=0.2.1->dadmatools) (0.6.0)\n",
      "Requirement already satisfied: filelock in /Library/Frameworks/Python.framework/Versions/3.10/lib/python3.10/site-packages (from gdown>=4.3.1->dadmatools) (3.8.0)\n",
      "Requirement already satisfied: beautifulsoup4 in /Library/Frameworks/Python.framework/Versions/3.10/lib/python3.10/site-packages (from gdown>=4.3.1->dadmatools) (4.11.1)\n",
      "Requirement already satisfied: six in /Library/Frameworks/Python.framework/Versions/3.10/lib/python3.10/site-packages (from gdown>=4.3.1->dadmatools) (1.16.0)\n",
      "Requirement already satisfied: scipy>=1.7.0 in /Library/Frameworks/Python.framework/Versions/3.10/lib/python3.10/site-packages (from gensim>=3.6.0->dadmatools) (1.9.3)\n",
      "Requirement already satisfied: smart-open>=1.8.1 in /Library/Frameworks/Python.framework/Versions/3.10/lib/python3.10/site-packages (from gensim>=3.6.0->dadmatools) (6.3.0)\n",
      "Requirement already satisfied: py4j in /Library/Frameworks/Python.framework/Versions/3.10/lib/python3.10/site-packages (from hyperopt>=0.2.5->dadmatools) (0.10.9.7)\n",
      "Requirement already satisfied: networkx>=2.2 in /Library/Frameworks/Python.framework/Versions/3.10/lib/python3.10/site-packages (from hyperopt>=0.2.5->dadmatools) (3.0)\n",
      "Requirement already satisfied: future in /Library/Frameworks/Python.framework/Versions/3.10/lib/python3.10/site-packages (from hyperopt>=0.2.5->dadmatools) (0.18.2)\n",
      "Requirement already satisfied: cloudpickle in /Library/Frameworks/Python.framework/Versions/3.10/lib/python3.10/site-packages (from hyperopt>=0.2.5->dadmatools) (2.2.1)\n",
      "Requirement already satisfied: pybcj>=0.6.0 in /Library/Frameworks/Python.framework/Versions/3.10/lib/python3.10/site-packages (from py7zr>=0.17.2->dadmatools) (1.0.1)\n",
      "Requirement already satisfied: inflate64>=0.3.1 in /Library/Frameworks/Python.framework/Versions/3.10/lib/python3.10/site-packages (from py7zr>=0.17.2->dadmatools) (0.3.1)\n",
      "Requirement already satisfied: psutil in /Library/Frameworks/Python.framework/Versions/3.10/lib/python3.10/site-packages (from py7zr>=0.17.2->dadmatools) (5.9.2)\n",
      "Requirement already satisfied: pyzstd>=0.14.4 in /Library/Frameworks/Python.framework/Versions/3.10/lib/python3.10/site-packages (from py7zr>=0.17.2->dadmatools) (0.15.4)\n",
      "Requirement already satisfied: brotli>=1.0.9 in /Library/Frameworks/Python.framework/Versions/3.10/lib/python3.10/site-packages (from py7zr>=0.17.2->dadmatools) (1.0.9)\n",
      "Requirement already satisfied: texttable in /Library/Frameworks/Python.framework/Versions/3.10/lib/python3.10/site-packages (from py7zr>=0.17.2->dadmatools) (1.6.7)\n",
      "Requirement already satisfied: multivolumefile>=0.2.3 in /Library/Frameworks/Python.framework/Versions/3.10/lib/python3.10/site-packages (from py7zr>=0.17.2->dadmatools) (0.2.3)\n",
      "Requirement already satisfied: pyppmd<1.1.0,>=0.18.1 in /Library/Frameworks/Python.framework/Versions/3.10/lib/python3.10/site-packages (from py7zr>=0.17.2->dadmatools) (1.0.0)\n",
      "Requirement already satisfied: pycryptodomex>=3.6.6 in /Library/Frameworks/Python.framework/Versions/3.10/lib/python3.10/site-packages (from py7zr>=0.17.2->dadmatools) (3.17)\n",
      "Requirement already satisfied: boto3 in /Library/Frameworks/Python.framework/Versions/3.10/lib/python3.10/site-packages (from pytorch-transformers>=1.1.0->dadmatools) (1.26.89)\n",
      "Requirement already satisfied: sacremoses in /Library/Frameworks/Python.framework/Versions/3.10/lib/python3.10/site-packages (from pytorch-transformers>=1.1.0->dadmatools) (0.0.53)\n",
      "Requirement already satisfied: regex in /Library/Frameworks/Python.framework/Versions/3.10/lib/python3.10/site-packages (from pytorch-transformers>=1.1.0->dadmatools) (2022.10.31)\n"
     ]
    },
    {
     "name": "stdout",
     "output_type": "stream",
     "text": [
      "Requirement already satisfied: catalogue<2.1.0,>=2.0.6 in /Library/Frameworks/Python.framework/Versions/3.10/lib/python3.10/site-packages (from spacy>=3.0.0->dadmatools) (2.0.8)\n",
      "Requirement already satisfied: typer<0.8.0,>=0.3.0 in /Library/Frameworks/Python.framework/Versions/3.10/lib/python3.10/site-packages (from spacy>=3.0.0->dadmatools) (0.7.0)\n",
      "Requirement already satisfied: spacy-loggers<2.0.0,>=1.0.0 in /Library/Frameworks/Python.framework/Versions/3.10/lib/python3.10/site-packages (from spacy>=3.0.0->dadmatools) (1.0.4)\n",
      "Requirement already satisfied: wasabi<1.2.0,>=0.9.1 in /Library/Frameworks/Python.framework/Versions/3.10/lib/python3.10/site-packages (from spacy>=3.0.0->dadmatools) (1.1.1)\n",
      "Requirement already satisfied: langcodes<4.0.0,>=3.2.0 in /Library/Frameworks/Python.framework/Versions/3.10/lib/python3.10/site-packages (from spacy>=3.0.0->dadmatools) (3.3.0)\n",
      "Requirement already satisfied: pathy>=0.10.0 in /Library/Frameworks/Python.framework/Versions/3.10/lib/python3.10/site-packages (from spacy>=3.0.0->dadmatools) (0.10.1)\n",
      "Requirement already satisfied: srsly<3.0.0,>=2.4.3 in /Library/Frameworks/Python.framework/Versions/3.10/lib/python3.10/site-packages (from spacy>=3.0.0->dadmatools) (2.4.6)\n",
      "Requirement already satisfied: cymem<2.1.0,>=2.0.2 in /Library/Frameworks/Python.framework/Versions/3.10/lib/python3.10/site-packages (from spacy>=3.0.0->dadmatools) (2.0.7)\n",
      "Requirement already satisfied: setuptools in /Library/Frameworks/Python.framework/Versions/3.10/lib/python3.10/site-packages (from spacy>=3.0.0->dadmatools) (63.2.0)\n",
      "Requirement already satisfied: spacy-legacy<3.1.0,>=3.0.11 in /Library/Frameworks/Python.framework/Versions/3.10/lib/python3.10/site-packages (from spacy>=3.0.0->dadmatools) (3.0.12)\n",
      "Requirement already satisfied: packaging>=20.0 in /Library/Frameworks/Python.framework/Versions/3.10/lib/python3.10/site-packages (from spacy>=3.0.0->dadmatools) (21.3)\n",
      "Requirement already satisfied: murmurhash<1.1.0,>=0.28.0 in /Library/Frameworks/Python.framework/Versions/3.10/lib/python3.10/site-packages (from spacy>=3.0.0->dadmatools) (1.0.9)\n",
      "Requirement already satisfied: preshed<3.1.0,>=3.0.2 in /Library/Frameworks/Python.framework/Versions/3.10/lib/python3.10/site-packages (from spacy>=3.0.0->dadmatools) (3.0.8)\n",
      "Requirement already satisfied: pydantic!=1.8,!=1.8.1,<1.11.0,>=1.7.4 in /Library/Frameworks/Python.framework/Versions/3.10/lib/python3.10/site-packages (from spacy>=3.0.0->dadmatools) (1.10.6)\n",
      "Requirement already satisfied: thinc<8.2.0,>=8.1.8 in /Library/Frameworks/Python.framework/Versions/3.10/lib/python3.10/site-packages (from spacy>=3.0.0->dadmatools) (8.1.9)\n",
      "Requirement already satisfied: typing-extensions in /Library/Frameworks/Python.framework/Versions/3.10/lib/python3.10/site-packages (from torch>=1.7.1->dadmatools) (4.4.0)\n",
      "Requirement already satisfied: tokenizers!=0.11.3,<0.14,>=0.11.1 in /Library/Frameworks/Python.framework/Versions/3.10/lib/python3.10/site-packages (from transformers>=4.9.1->dadmatools) (0.13.2)\n",
      "Requirement already satisfied: huggingface-hub<1.0,>=0.10.0 in /Library/Frameworks/Python.framework/Versions/3.10/lib/python3.10/site-packages (from transformers>=4.9.1->dadmatools) (0.11.1)\n",
      "Requirement already satisfied: pyyaml>=5.1 in /Library/Frameworks/Python.framework/Versions/3.10/lib/python3.10/site-packages (from transformers>=4.9.1->dadmatools) (6.0)\n",
      "Requirement already satisfied: progressbar in /Library/Frameworks/Python.framework/Versions/3.10/lib/python3.10/site-packages (from NERDA->dadmatools) (2.5)\n",
      "Requirement already satisfied: pandas in /Library/Frameworks/Python.framework/Versions/3.10/lib/python3.10/site-packages (from NERDA->dadmatools) (1.5.0)\n",
      "Requirement already satisfied: singledispatch in /Library/Frameworks/Python.framework/Versions/3.10/lib/python3.10/site-packages (from nltk->dadmatools) (4.0.0)\n",
      "Requirement already satisfied: MarkupSafe>=2.0 in /Library/Frameworks/Python.framework/Versions/3.10/lib/python3.10/site-packages (from jinja2>=2.9->folium>=0.2.1->dadmatools) (2.1.1)\n",
      "Requirement already satisfied: pyparsing!=3.0.5,>=2.0.2 in /Library/Frameworks/Python.framework/Versions/3.10/lib/python3.10/site-packages (from packaging>=20.0->spacy>=3.0.0->dadmatools) (3.0.9)\n",
      "Requirement already satisfied: urllib3<1.27,>=1.21.1 in /Library/Frameworks/Python.framework/Versions/3.10/lib/python3.10/site-packages (from requests->bpemb>=0.3.3->dadmatools) (1.26.12)\n",
      "Requirement already satisfied: certifi>=2017.4.17 in /Library/Frameworks/Python.framework/Versions/3.10/lib/python3.10/site-packages (from requests->bpemb>=0.3.3->dadmatools) (2022.9.24)\n",
      "Requirement already satisfied: charset-normalizer<3,>=2 in /Library/Frameworks/Python.framework/Versions/3.10/lib/python3.10/site-packages (from requests->bpemb>=0.3.3->dadmatools) (2.1.1)\n",
      "Requirement already satisfied: idna<4,>=2.5 in /Library/Frameworks/Python.framework/Versions/3.10/lib/python3.10/site-packages (from requests->bpemb>=0.3.3->dadmatools) (3.4)\n",
      "Requirement already satisfied: blis<0.8.0,>=0.7.8 in /Library/Frameworks/Python.framework/Versions/3.10/lib/python3.10/site-packages (from thinc<8.2.0,>=8.1.8->spacy>=3.0.0->dadmatools) (0.7.9)\n",
      "Requirement already satisfied: confection<1.0.0,>=0.0.1 in /Library/Frameworks/Python.framework/Versions/3.10/lib/python3.10/site-packages (from thinc<8.2.0,>=8.1.8->spacy>=3.0.0->dadmatools) (0.0.4)\n",
      "Requirement already satisfied: click<9.0.0,>=7.1.1 in /Library/Frameworks/Python.framework/Versions/3.10/lib/python3.10/site-packages (from typer<0.8.0,>=0.3.0->spacy>=3.0.0->dadmatools) (8.1.3)\n",
      "Requirement already satisfied: soupsieve>1.2 in /Library/Frameworks/Python.framework/Versions/3.10/lib/python3.10/site-packages (from beautifulsoup4->gdown>=4.3.1->dadmatools) (2.3.2.post1)\n",
      "Requirement already satisfied: botocore<1.30.0,>=1.29.89 in /Library/Frameworks/Python.framework/Versions/3.10/lib/python3.10/site-packages (from boto3->pytorch-transformers>=1.1.0->dadmatools) (1.29.89)\n",
      "Requirement already satisfied: jmespath<2.0.0,>=0.7.1 in /Library/Frameworks/Python.framework/Versions/3.10/lib/python3.10/site-packages (from boto3->pytorch-transformers>=1.1.0->dadmatools) (1.0.1)\n",
      "Requirement already satisfied: s3transfer<0.7.0,>=0.6.0 in /Library/Frameworks/Python.framework/Versions/3.10/lib/python3.10/site-packages (from boto3->pytorch-transformers>=1.1.0->dadmatools) (0.6.0)\n",
      "Requirement already satisfied: pytz>=2020.1 in /Library/Frameworks/Python.framework/Versions/3.10/lib/python3.10/site-packages (from pandas->NERDA->dadmatools) (2022.4)\n",
      "Requirement already satisfied: python-dateutil>=2.8.1 in /Library/Frameworks/Python.framework/Versions/3.10/lib/python3.10/site-packages (from pandas->NERDA->dadmatools) (2.8.2)\n",
      "Requirement already satisfied: PySocks!=1.5.7,>=1.5.6 in /Library/Frameworks/Python.framework/Versions/3.10/lib/python3.10/site-packages (from requests->bpemb>=0.3.3->dadmatools) (1.7.1)\n",
      "Requirement already satisfied: joblib in /Library/Frameworks/Python.framework/Versions/3.10/lib/python3.10/site-packages (from sacremoses->pytorch-transformers>=1.1.0->dadmatools) (1.2.0)\n",
      "Requirement already satisfied: emoji in /Library/Frameworks/Python.framework/Versions/3.10/lib/python3.10/site-packages (from stanza->supar==1.1.2->dadmatools) (2.2.0)\n",
      "Requirement already satisfied: protobuf in /Library/Frameworks/Python.framework/Versions/3.10/lib/python3.10/site-packages (from stanza->supar==1.1.2->dadmatools) (3.20.3)\n",
      "\n",
      "\u001b[1m[\u001b[0m\u001b[34;49mnotice\u001b[0m\u001b[1;39;49m]\u001b[0m\u001b[39;49m A new release of pip available: \u001b[0m\u001b[31;49m22.3.1\u001b[0m\u001b[39;49m -> \u001b[0m\u001b[32;49m23.0.1\u001b[0m\n",
      "\u001b[1m[\u001b[0m\u001b[34;49mnotice\u001b[0m\u001b[1;39;49m]\u001b[0m\u001b[39;49m To update, run: \u001b[0m\u001b[32;49mpip install --upgrade pip\u001b[0m\n",
      "Requirement already satisfied: pandas in /Library/Frameworks/Python.framework/Versions/3.10/lib/python3.10/site-packages (1.5.0)\n",
      "Requirement already satisfied: pytz>=2020.1 in /Library/Frameworks/Python.framework/Versions/3.10/lib/python3.10/site-packages (from pandas) (2022.4)\n",
      "Requirement already satisfied: python-dateutil>=2.8.1 in /Library/Frameworks/Python.framework/Versions/3.10/lib/python3.10/site-packages (from pandas) (2.8.2)\n",
      "Requirement already satisfied: numpy>=1.21.0 in /Library/Frameworks/Python.framework/Versions/3.10/lib/python3.10/site-packages (from pandas) (1.23.3)\n",
      "Requirement already satisfied: six>=1.5 in /Library/Frameworks/Python.framework/Versions/3.10/lib/python3.10/site-packages (from python-dateutil>=2.8.1->pandas) (1.16.0)\n"
     ]
    },
    {
     "name": "stdout",
     "output_type": "stream",
     "text": [
      "\n",
      "\u001b[1m[\u001b[0m\u001b[34;49mnotice\u001b[0m\u001b[1;39;49m]\u001b[0m\u001b[39;49m A new release of pip available: \u001b[0m\u001b[31;49m22.3.1\u001b[0m\u001b[39;49m -> \u001b[0m\u001b[32;49m23.0.1\u001b[0m\n",
      "\u001b[1m[\u001b[0m\u001b[34;49mnotice\u001b[0m\u001b[1;39;49m]\u001b[0m\u001b[39;49m To update, run: \u001b[0m\u001b[32;49mpip install --upgrade pip\u001b[0m\n",
      "Requirement already satisfied: yake in /Library/Frameworks/Python.framework/Versions/3.10/lib/python3.10/site-packages (0.4.8)\n",
      "Requirement already satisfied: networkx in /Library/Frameworks/Python.framework/Versions/3.10/lib/python3.10/site-packages (from yake) (3.0)\n",
      "Requirement already satisfied: numpy in /Library/Frameworks/Python.framework/Versions/3.10/lib/python3.10/site-packages (from yake) (1.23.3)\n",
      "Requirement already satisfied: segtok in /Library/Frameworks/Python.framework/Versions/3.10/lib/python3.10/site-packages (from yake) (1.5.11)\n",
      "Requirement already satisfied: click>=6.0 in /Library/Frameworks/Python.framework/Versions/3.10/lib/python3.10/site-packages (from yake) (8.1.3)\n",
      "Requirement already satisfied: tabulate in /Library/Frameworks/Python.framework/Versions/3.10/lib/python3.10/site-packages (from yake) (0.9.0)\n",
      "Requirement already satisfied: jellyfish in /Library/Frameworks/Python.framework/Versions/3.10/lib/python3.10/site-packages (from yake) (0.9.0)\n",
      "Requirement already satisfied: regex in /Library/Frameworks/Python.framework/Versions/3.10/lib/python3.10/site-packages (from segtok->yake) (2022.10.31)\n",
      "\n",
      "\u001b[1m[\u001b[0m\u001b[34;49mnotice\u001b[0m\u001b[1;39;49m]\u001b[0m\u001b[39;49m A new release of pip available: \u001b[0m\u001b[31;49m22.3.1\u001b[0m\u001b[39;49m -> \u001b[0m\u001b[32;49m23.0.1\u001b[0m\n",
      "\u001b[1m[\u001b[0m\u001b[34;49mnotice\u001b[0m\u001b[1;39;49m]\u001b[0m\u001b[39;49m To update, run: \u001b[0m\u001b[32;49mpip install --upgrade pip\u001b[0m\n",
      "Collecting https://github.com/sobhe/hazm/archive/master.zip\n",
      "  Using cached https://github.com/sobhe/hazm/archive/master.zip\n",
      "  Preparing metadata (setup.py) ... \u001b[?25ldone\n",
      "\u001b[?25hRequirement already satisfied: nltk==3.4 in /Library/Frameworks/Python.framework/Versions/3.10/lib/python3.10/site-packages (from hazm==0.7.1) (3.4)\n",
      "Requirement already satisfied: libwapiti>=0.2.1 in /Library/Frameworks/Python.framework/Versions/3.10/lib/python3.10/site-packages (from hazm==0.7.1) (0.2.1)\n",
      "Requirement already satisfied: six in /Library/Frameworks/Python.framework/Versions/3.10/lib/python3.10/site-packages (from nltk==3.4->hazm==0.7.1) (1.16.0)\n",
      "Requirement already satisfied: singledispatch in /Library/Frameworks/Python.framework/Versions/3.10/lib/python3.10/site-packages (from nltk==3.4->hazm==0.7.1) (4.0.0)\n",
      "\n",
      "\u001b[1m[\u001b[0m\u001b[34;49mnotice\u001b[0m\u001b[1;39;49m]\u001b[0m\u001b[39;49m A new release of pip available: \u001b[0m\u001b[31;49m22.3.1\u001b[0m\u001b[39;49m -> \u001b[0m\u001b[32;49m23.0.1\u001b[0m\n",
      "\u001b[1m[\u001b[0m\u001b[34;49mnotice\u001b[0m\u001b[1;39;49m]\u001b[0m\u001b[39;49m To update, run: \u001b[0m\u001b[32;49mpip install --upgrade pip\u001b[0m\n"
     ]
    }
   ],
   "source": [
    "!pip install hazm\n",
    "!pip install dadmatools\n",
    "!pip install pandas\n",
    "!pip install yake\n",
    "!pip install https://github.com/sobhe/hazm/archive/master.zip --upgrade # to update hazm"
   ]
  },
  {
   "cell_type": "markdown",
   "id": "8caf2946",
   "metadata": {},
   "source": [
    "### read file"
   ]
  },
  {
   "cell_type": "code",
   "execution_count": 3,
   "id": "d85656d2",
   "metadata": {},
   "outputs": [],
   "source": [
    "file_dir = './data/'\n",
    "\n",
    "with open(file_dir + 'hp_fa.txt', 'r') as f:\n",
    "    hp_fa = f.read()"
   ]
  },
  {
   "cell_type": "markdown",
   "id": "8ab20e0c",
   "metadata": {},
   "source": [
    "### Part A"
   ]
  },
  {
   "cell_type": "markdown",
   "id": "b902d420",
   "metadata": {},
   "source": [
    "A data can be split into sentences using the method sent_tokenize():"
   ]
  },
  {
   "cell_type": "code",
   "execution_count": 4,
   "id": "7d0c7ef9",
   "metadata": {},
   "outputs": [],
   "source": [
    "hp_fa_tokenized = sent_tokenize(hp_fa)"
   ]
  },
  {
   "cell_type": "code",
   "execution_count": 5,
   "id": "21f9c212",
   "metadata": {},
   "outputs": [
    {
     "data": {
      "text/plain": [
       "list"
      ]
     },
     "execution_count": 5,
     "metadata": {},
     "output_type": "execute_result"
    }
   ],
   "source": [
    "type(hp_fa_tokenized)"
   ]
  },
  {
   "cell_type": "code",
   "execution_count": 6,
   "id": "e1b8a374",
   "metadata": {},
   "outputs": [
    {
     "name": "stdout",
     "output_type": "stream",
     "text": [
      "﻿آقا و خانم دورسلي   ساکن خانه شماره چهار خيابان پريوت درايو   بودند. خانواده آنها بسيار معمولي و عادي بود و آن ها از اين بابت بسيار راضي و خوشنود بودند. اين خانواده به هيچ وجه با امور مرموز و اسرار آميز سروکار نداشتند زيرا سحر و جادو را امر مهمل و بيهوده اي مي پنداشتند و علاقه اي به اين گونه مسائل نداشت ن آقاي دورسلي مدير شرکت دريل سازي گرونينگز   ، مردي درشت اندام و قوي هيکل بود با گردني بسيار کوتاه که سبيل بلندي نيز داشت . همسر او، خانم دورسلي زني لاغر اندام بود با موهاي بور و گردني کشيده و بلند. بلندي گردنش بسيار برايش مفيد بود زيرا بيش تر وقتش را صرف سرک کشيدن به خانه ي همسايه ها مي کرد. آنها پسري داشتند به نام دادلي    که به عقيده خودشان لنگه نداشت .   آنها خانواده ي مرفهي بودند و هيچ کم و کسري نداشتند اما در اين خانواده رازي وجود داشت که نبايد برملا مي شد.\n"
     ]
    }
   ],
   "source": [
    "print(hp_fa_tokenized[0])"
   ]
  },
  {
   "cell_type": "markdown",
   "id": "796db677",
   "metadata": {},
   "source": [
    "Removing additional characters and changing Arabic characters to Farsi"
   ]
  },
  {
   "cell_type": "code",
   "execution_count": 7,
   "id": "7cc08d9b",
   "metadata": {},
   "outputs": [],
   "source": [
    "thp = []\n",
    "for line in hp_fa_tokenized:\n",
    "    tmp = line\n",
    "    tmp = re.sub(\"[۱۲۳۴۵۶۷۸۹۰]*\", \"\", tmp, 1)\n",
    "    tmp = re.sub(\"^.$|^.\\s|\\s.$\", \" \", tmp,1)\n",
    "    tmp = re.sub(\"[\\ufeff]\", \"\", tmp, 1)\n",
    "    tmp = re.sub(\"^\\S*$\", \" \", tmp)\n",
    "    tmp = re.sub(\"([A-Z]|[0-9]|[|]|[a-z])*\", \" \", tmp, 1)\n",
    "    thp.append(tmp)\n",
    "    \n",
    "hp = \"\"\n",
    "for line in thp:\n",
    "    if line != '':\n",
    "        hp += line + ' '"
   ]
  },
  {
   "cell_type": "markdown",
   "id": "6e3540e5",
   "metadata": {},
   "source": [
    "First, we normalize the text"
   ]
  },
  {
   "cell_type": "code",
   "execution_count": 8,
   "id": "7ac20c42",
   "metadata": {},
   "outputs": [],
   "source": [
    "hazm_normalizer = Normalizer()\n",
    "normalized_hp = hazm_normalizer.normalize(hp)"
   ]
  },
  {
   "cell_type": "code",
   "execution_count": 9,
   "id": "61e607d5",
   "metadata": {},
   "outputs": [],
   "source": [
    "hp_tokens = word_tokenize(normalized_hp)"
   ]
  },
  {
   "cell_type": "code",
   "execution_count": 10,
   "id": "8e044af7",
   "metadata": {},
   "outputs": [
    {
     "name": "stdout",
     "output_type": "stream",
     "text": [
      "آقا و خانم دورسلی ساکن خانه شماره چهار خیابان پریوت درایو بودند\n"
     ]
    }
   ],
   "source": [
    "hp_sentences = normalized_hp.split('.')\n",
    "print(hp_sentences[0])"
   ]
  },
  {
   "cell_type": "markdown",
   "id": "4b17095c",
   "metadata": {},
   "source": [
    "Look at some statistics  of this text."
   ]
  },
  {
   "cell_type": "code",
   "execution_count": 11,
   "id": "20db4f60",
   "metadata": {},
   "outputs": [
    {
     "data": {
      "text/html": [
       "<div>\n",
       "<style scoped>\n",
       "    .dataframe tbody tr th:only-of-type {\n",
       "        vertical-align: middle;\n",
       "    }\n",
       "\n",
       "    .dataframe tbody tr th {\n",
       "        vertical-align: top;\n",
       "    }\n",
       "\n",
       "    .dataframe thead th {\n",
       "        text-align: right;\n",
       "    }\n",
       "</style>\n",
       "<table border=\"1\" class=\"dataframe\">\n",
       "  <thead>\n",
       "    <tr style=\"text-align: right;\">\n",
       "      <th></th>\n",
       "      <th>Number of sentences</th>\n",
       "      <th>Number of words</th>\n",
       "      <th>Number of unique words</th>\n",
       "      <th>Average word length</th>\n",
       "      <th>Average word per sentence</th>\n",
       "    </tr>\n",
       "  </thead>\n",
       "  <tbody>\n",
       "    <tr>\n",
       "      <th>harry potter</th>\n",
       "      <td>5697</td>\n",
       "      <td>94964</td>\n",
       "      <td>9025</td>\n",
       "      <td>3.545712</td>\n",
       "      <td>16.203616</td>\n",
       "    </tr>\n",
       "  </tbody>\n",
       "</table>\n",
       "</div>"
      ],
      "text/plain": [
       "              Number of sentences  Number of words  Number of unique words  \\\n",
       "harry potter                 5697            94964                    9025   \n",
       "\n",
       "              Average word length  Average word per sentence  \n",
       "harry potter             3.545712                  16.203616  "
      ]
     },
     "execution_count": 11,
     "metadata": {},
     "output_type": "execute_result"
    }
   ],
   "source": [
    "dataframe = []\n",
    "\n",
    "rows = ['harry potter']\n",
    "cols = ['Number of sentences', 'Number of words', 'Number of unique words',\\\n",
    "        'Average word length', 'Average word per sentence']\n",
    "\n",
    "dataframe.append([len(hp_sentences),len(hp_tokens), len(set(hp_tokens)),\\\n",
    "                  np.sum([len(word) for word in hp_tokens])/len(hp_tokens), \\\n",
    "                 np.sum([len(sentence.split(\" \")) for sentence in hp_sentences])/len(hp_sentences)])\n",
    " \n",
    "freq_analysis = pd.DataFrame(dataframe,rows,cols)    \n",
    "freq_analysis"
   ]
  },
  {
   "cell_type": "markdown",
   "id": "b072a7a3",
   "metadata": {},
   "source": [
    "We have these statistics after removing some stopwords.\n",
    "\n",
    "To have meaningful sentences, I think we must keep stopwords."
   ]
  },
  {
   "cell_type": "code",
   "execution_count": 12,
   "id": "b5ca9f77",
   "metadata": {},
   "outputs": [
    {
     "name": "stderr",
     "output_type": "stream",
     "text": [
      "100%|████████████████████████████████| 94964/94964 [00:00<00:00, 2238489.60it/s]\n"
     ]
    },
    {
     "data": {
      "text/html": [
       "<div>\n",
       "<style scoped>\n",
       "    .dataframe tbody tr th:only-of-type {\n",
       "        vertical-align: middle;\n",
       "    }\n",
       "\n",
       "    .dataframe tbody tr th {\n",
       "        vertical-align: top;\n",
       "    }\n",
       "\n",
       "    .dataframe thead th {\n",
       "        text-align: right;\n",
       "    }\n",
       "</style>\n",
       "<table border=\"1\" class=\"dataframe\">\n",
       "  <thead>\n",
       "    <tr style=\"text-align: right;\">\n",
       "      <th></th>\n",
       "      <th>Number of sentences</th>\n",
       "      <th>Number of words</th>\n",
       "      <th>Number of unique words</th>\n",
       "      <th>Average word length</th>\n",
       "      <th>Average word per sentence</th>\n",
       "    </tr>\n",
       "  </thead>\n",
       "  <tbody>\n",
       "    <tr>\n",
       "      <th>harry potter</th>\n",
       "      <td>5697</td>\n",
       "      <td>60451</td>\n",
       "      <td>8963</td>\n",
       "      <td>4.536253</td>\n",
       "      <td>16.203616</td>\n",
       "    </tr>\n",
       "  </tbody>\n",
       "</table>\n",
       "</div>"
      ],
      "text/plain": [
       "              Number of sentences  Number of words  Number of unique words  \\\n",
       "harry potter                 5697            60451                    8963   \n",
       "\n",
       "              Average word length  Average word per sentence  \n",
       "harry potter             4.536253                  16.203616  "
      ]
     },
     "execution_count": 12,
     "metadata": {},
     "output_type": "execute_result"
    }
   ],
   "source": [
    "stopwords = [hazm_normalizer.normalize(x.strip()) for x in codecs.open(file_dir + 'stopwords.txt','r','utf-8').readlines()]\n",
    "hp_nonstop = [t for t in tqdm.tqdm(hp_tokens) if t not in stopwords]\n",
    "\n",
    "dataframe_nonstop = []\n",
    "\n",
    "rows = ['harry potter']\n",
    "cols = ['Number of sentences', 'Number of words', 'Number of unique words', 'Average word length', 'Average word per sentence']\n",
    "\n",
    "dataframe_nonstop.append([len(hp_sentences),len(hp_nonstop), len(set(hp_nonstop)),\\\n",
    "                  np.sum([len(word) for word in hp_nonstop])/len(hp_nonstop), \\\n",
    "                 np.sum([len(sentence.split(\" \")) for sentence in hp_sentences])/len(hp_sentences)])\n",
    "               \n",
    "freq_analysis_nonstop = pd.DataFrame(dataframe_nonstop,rows,cols)    \n",
    "freq_analysis_nonstop\n"
   ]
  },
  {
   "cell_type": "code",
   "execution_count": 13,
   "id": "c9ddfff8",
   "metadata": {},
   "outputs": [],
   "source": [
    "detokenize = TreebankWordDetokenizer().detokenize\n",
    "\n",
    "def generate_sent(model, num_words, random_seed=23):\n",
    "    \n",
    "    content = []\n",
    "    for token in model.generate(num_words, random_seed=random_seed):\n",
    "        if token == '<s>':\n",
    "            continue\n",
    "        if token == '</s>':\n",
    "            break\n",
    "        content.append(token)\n",
    "    return detokenize(content)"
   ]
  },
  {
   "cell_type": "markdown",
   "id": "60c3ea37",
   "metadata": {},
   "source": [
    "### Part B"
   ]
  },
  {
   "cell_type": "code",
   "execution_count": 14,
   "id": "0d009f01",
   "metadata": {},
   "outputs": [
    {
     "name": "stdout",
     "output_type": "stream",
     "text": [
      "<NgramCounter with 2 ngram orders and 189935 ngrams>\n"
     ]
    }
   ],
   "source": [
    "n = 2\n",
    "\n",
    "paddedLine = [list(pad_both_ends(hp_tokens, n))]\n",
    "\n",
    "train, vocab = padded_everygram_pipeline(n, paddedLine)\n",
    "\n",
    "lm2 = Laplace(n)\n",
    "\n",
    "lm2.fit(train, vocab)\n",
    "\n",
    "print(lm2.counts)"
   ]
  },
  {
   "cell_type": "code",
   "execution_count": 19,
   "id": "11c50494",
   "metadata": {},
   "outputs": [
    {
     "name": "stdout",
     "output_type": "stream",
     "text": [
      "1 :  هیچ وقت هایی که هرجا می‌رود در همه‌ی مهاجمین از هوای ما همه پول نمی‌دم\n",
      "2 :  رفت به سوراخ شد با شنل سبزی به سوراخ شد با شنل سبزی به سوراخ شد با شنل سبزی به سوراخ شد\n",
      "3 :  . آن‌قدر ادامه بدین! » . آن‌قدر ادامه بدین! » . آن‌قدر ادامه بدین\n",
      "4 :  لبخند شیطانی رو شکر کن بسته‌اند در مجاور دیوار می‌کند بیش از غم عمیقی نهفته_بود گفت: -\n",
      "5 :  و وحشی و وحشی و وحشی و وحشی و وحشی و وحشی و وحشی و\n"
     ]
    }
   ],
   "source": [
    "for i in range(0,5):\n",
    "    print(i+1, \": \" , generate_sent(lm2, num_words=random.randint(12,24), random_seed=random.randint(0,100)))"
   ]
  },
  {
   "cell_type": "markdown",
   "id": "24f448a4",
   "metadata": {},
   "source": [
    "### Part C\n",
    "The following may happen if the Laplace smoothing method is not used:\n",
    "\n",
    ">Predictions that are very wrong because of incorrect information or RARE values that exist in the data.\n",
    "\n",
    ">Predictions may be inaccurate if new occurrences are unknown in the data.\n",
    "\n",
    ">Smoothing can improve model accuracy by removing the correlation between features.\n"
   ]
  },
  {
   "cell_type": "markdown",
   "id": "2677b875",
   "metadata": {},
   "source": [
    "### Part D and E"
   ]
  },
  {
   "cell_type": "code",
   "execution_count": 16,
   "id": "80e6e7bd",
   "metadata": {},
   "outputs": [
    {
     "name": "stdout",
     "output_type": "stream",
     "text": [
      "<NgramCounter with 3 ngram orders and 284913 ngrams>\n"
     ]
    }
   ],
   "source": [
    "n = 3\n",
    "\n",
    "paddedLine = [list(pad_both_ends(hp_tokens, n))]\n",
    "\n",
    "train, vocab = padded_everygram_pipeline(n, paddedLine)\n",
    "\n",
    "lm3 = Laplace(n)\n",
    "\n",
    "lm3.fit(train, vocab)\n",
    "\n",
    "print(lm3.counts)"
   ]
  },
  {
   "cell_type": "code",
   "execution_count": 20,
   "id": "866d9c5a",
   "metadata": {},
   "outputs": [
    {
     "name": "stdout",
     "output_type": "stream",
     "text": [
      "1 :  انداخت . بیش از آن به بعد توی اتاق دومی دادلی باشی . اونا\n",
      "2 :  شنل می‌توانست به سرعت جلو رفتند و سالن عمومی شدند . هاگرید لبخندی بر لب هاگرید نشست و منتظر می‌مونم تا فیلچ بیاد و\n",
      "3 :  گفت و همراه نویل به چهره‌های خطاکار آن‌ها نگاه کرد که کنار پاشه چیه ؟ پیش از مسابقه چشم بردارد به نویل گفت :\n",
      "4 :  . آن خانه یک اتاق‌خواب بیش‌تر نداشت . آقای اولیوندر ادامه داد: - اسلیترین صاحب توپه.\n",
      "5 :  سوی رون رفت که به طرف صدای بدعنق می‌رفت می‌شنیدند . اسنیپ روبه روی شبحی که یقه‌ی لباس\n"
     ]
    }
   ],
   "source": [
    "for i in range(0,5):\n",
    "    print(i+1, \": \" , generate_sent(lm3, num_words=random.randint(12,24), random_seed=random.randint(0,100)))"
   ]
  },
  {
   "cell_type": "code",
   "execution_count": 21,
   "id": "d21c4d6e",
   "metadata": {},
   "outputs": [
    {
     "name": "stdout",
     "output_type": "stream",
     "text": [
      "<NgramCounter with 5 ngram orders and 474890 ngrams>\n"
     ]
    }
   ],
   "source": [
    "n = 5\n",
    "\n",
    "paddedLine = [list(pad_both_ends(hp_tokens, n))]\n",
    "\n",
    "train, vocab = padded_everygram_pipeline(n, paddedLine)\n",
    "\n",
    "lm5 = Laplace(n)\n",
    "\n",
    "lm5.fit(train, vocab)\n",
    "\n",
    "print(lm5.counts)"
   ]
  },
  {
   "cell_type": "code",
   "execution_count": null,
   "id": "2253e8fb",
   "metadata": {},
   "outputs": [
    {
     "name": "stdout",
     "output_type": "stream",
     "text": [
      "1 :  به خودش اشاره کرد . رون گفت: - تو به ده تا مالفوی می‌ارزی . مگه کلاه گروه‌بندی\n",
      "2 :  تکیه داد و مشتاقانه به هری خیره شد . پس از نیم ساعت\n",
      "3 :  مثل مار درازی در هوا پیچ و تاب می‌خورد به سرعت از آن جا رفت . هرمیون که در فکر بود گفت: -\n",
      "4 :  شنیدن حر‌های هاگرید دوربین او را گرفت و شروع به پاک کردن بینیاش کرد . پسر\n"
     ]
    }
   ],
   "source": [
    "for i in range(0,5):\n",
    "    print(i+1, \": \" , generate_sent(lm5, num_words=random.randint(12,24), random_seed=random.randint(0,100)))"
   ]
  },
  {
   "cell_type": "code",
   "execution_count": null,
   "id": "fe2d3614",
   "metadata": {},
   "outputs": [],
   "source": []
  }
 ],
 "metadata": {
  "kernelspec": {
   "display_name": "Python 3 (ipykernel)",
   "language": "python",
   "name": "python3"
  },
  "language_info": {
   "codemirror_mode": {
    "name": "ipython",
    "version": 3
   },
   "file_extension": ".py",
   "mimetype": "text/x-python",
   "name": "python",
   "nbconvert_exporter": "python",
   "pygments_lexer": "ipython3",
   "version": "3.10.6"
  }
 },
 "nbformat": 4,
 "nbformat_minor": 5
}
