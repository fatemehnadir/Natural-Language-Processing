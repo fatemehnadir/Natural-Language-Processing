{
  "cells": [
    {
      "attachments": {},
      "cell_type": "markdown",
      "metadata": {
        "id": "R7Q0vwwIRhOM"
      },
      "source": [
        "# install Package"
      ]
    },
    {
      "cell_type": "code",
      "execution_count": 15,
      "metadata": {
        "colab": {
          "base_uri": "https://localhost:8080/"
        },
        "id": "nqyfHQJ1ReND",
        "outputId": "aa612f0f-da9c-44f7-86b6-a97796ee3712"
      },
      "outputs": [
        {
          "name": "stdout",
          "output_type": "stream",
          "text": [
            "Requirement already satisfied: transformers in /usr/local/lib/python3.10/dist-packages (4.30.2)\n",
            "Requirement already satisfied: filelock in /usr/local/lib/python3.10/dist-packages (from transformers) (3.12.2)\n",
            "Requirement already satisfied: huggingface-hub<1.0,>=0.14.1 in /usr/local/lib/python3.10/dist-packages (from transformers) (0.15.1)\n",
            "Requirement already satisfied: numpy>=1.17 in /usr/local/lib/python3.10/dist-packages (from transformers) (1.22.4)\n",
            "Requirement already satisfied: packaging>=20.0 in /usr/local/lib/python3.10/dist-packages (from transformers) (20.9)\n",
            "Requirement already satisfied: pyyaml>=5.1 in /usr/local/lib/python3.10/dist-packages (from transformers) (5.4.1)\n",
            "Requirement already satisfied: regex!=2019.12.17 in /usr/local/lib/python3.10/dist-packages (from transformers) (2022.10.31)\n",
            "Requirement already satisfied: requests in /usr/local/lib/python3.10/dist-packages (from transformers) (2.27.1)\n",
            "Requirement already satisfied: tokenizers!=0.11.3,<0.14,>=0.11.1 in /usr/local/lib/python3.10/dist-packages (from transformers) (0.13.3)\n",
            "Requirement already satisfied: safetensors>=0.3.1 in /usr/local/lib/python3.10/dist-packages (from transformers) (0.3.1)\n",
            "Requirement already satisfied: tqdm>=4.27 in /usr/local/lib/python3.10/dist-packages (from transformers) (4.65.0)\n",
            "Requirement already satisfied: fsspec in /usr/local/lib/python3.10/dist-packages (from huggingface-hub<1.0,>=0.14.1->transformers) (2023.6.0)\n",
            "Requirement already satisfied: typing-extensions>=3.7.4.3 in /usr/local/lib/python3.10/dist-packages (from huggingface-hub<1.0,>=0.14.1->transformers) (4.6.3)\n",
            "Requirement already satisfied: pyparsing>=2.0.2 in /usr/local/lib/python3.10/dist-packages (from packaging>=20.0->transformers) (3.1.0)\n",
            "Requirement already satisfied: urllib3<1.27,>=1.21.1 in /usr/local/lib/python3.10/dist-packages (from requests->transformers) (1.26.16)\n",
            "Requirement already satisfied: certifi>=2017.4.17 in /usr/local/lib/python3.10/dist-packages (from requests->transformers) (2023.5.7)\n",
            "Requirement already satisfied: charset-normalizer~=2.0.0 in /usr/local/lib/python3.10/dist-packages (from requests->transformers) (2.0.12)\n",
            "Requirement already satisfied: idna<4,>=2.5 in /usr/local/lib/python3.10/dist-packages (from requests->transformers) (3.4)\n",
            "Requirement already satisfied: pip in /usr/local/lib/python3.10/dist-packages (23.1.2)\n",
            "Requirement already satisfied: jedi in /usr/local/lib/python3.10/dist-packages (0.18.2)\n",
            "Requirement already satisfied: parso<0.9.0,>=0.8.0 in /usr/local/lib/python3.10/dist-packages (from jedi) (0.8.3)\n",
            "Collecting dask==2022.12.1\n",
            "  Downloading dask-2022.12.1-py3-none-any.whl (1.1 MB)\n",
            "\u001b[2K     \u001b[90m━━━━━━━━━━━━━━━━━━━━━━━━━━━━━━━━━━━━━━━━\u001b[0m \u001b[32m1.1/1.1 MB\u001b[0m \u001b[31m18.5 MB/s\u001b[0m eta \u001b[36m0:00:00\u001b[0m\n",
            "\u001b[?25hRequirement already satisfied: click>=7.0 in /usr/local/lib/python3.10/dist-packages (from dask==2022.12.1) (8.1.3)\n",
            "Requirement already satisfied: cloudpickle>=1.1.1 in /usr/local/lib/python3.10/dist-packages (from dask==2022.12.1) (2.2.1)\n",
            "Requirement already satisfied: fsspec>=0.6.0 in /usr/local/lib/python3.10/dist-packages (from dask==2022.12.1) (2023.6.0)\n",
            "Requirement already satisfied: packaging>=20.0 in /usr/local/lib/python3.10/dist-packages (from dask==2022.12.1) (20.9)\n",
            "Requirement already satisfied: partd>=0.3.10 in /usr/local/lib/python3.10/dist-packages (from dask==2022.12.1) (1.4.0)\n",
            "Requirement already satisfied: pyyaml>=5.3.1 in /usr/local/lib/python3.10/dist-packages (from dask==2022.12.1) (5.4.1)\n",
            "Requirement already satisfied: toolz>=0.8.2 in /usr/local/lib/python3.10/dist-packages (from dask==2022.12.1) (0.12.0)\n",
            "Requirement already satisfied: pyparsing>=2.0.2 in /usr/local/lib/python3.10/dist-packages (from packaging>=20.0->dask==2022.12.1) (3.1.0)\n",
            "Requirement already satisfied: locket in /usr/local/lib/python3.10/dist-packages (from partd>=0.3.10->dask==2022.12.1) (1.0.0)\n",
            "Installing collected packages: dask\n",
            "  Attempting uninstall: dask\n",
            "    Found existing installation: dask 2022.10.2\n",
            "    Uninstalling dask-2022.10.2:\n",
            "      Successfully uninstalled dask-2022.10.2\n",
            "\u001b[31mERROR: pip's dependency resolver does not currently take into account all the packages that are installed. This behaviour is the source of the following dependency conflicts.\n",
            "rasa 3.6.0 requires dask==2022.10.2; python_version >= \"3.8\" and python_version < \"3.11\", but you have dask 2022.12.1 which is incompatible.\u001b[0m\u001b[31m\n",
            "\u001b[0mSuccessfully installed dask-2022.12.1\n",
            "/bin/bash: =21.3: No such file or directory\n",
            "/bin/bash: =3.20: No such file or directory\n",
            "Requirement already satisfied: rasa in /usr/local/lib/python3.10/dist-packages (3.6.0)\n",
            "Requirement already satisfied: CacheControl<0.13.0,>=0.12.9 in /usr/local/lib/python3.10/dist-packages (from rasa) (0.12.14)\n",
            "Requirement already satisfied: PyJWT[crypto]<3.0.0,>=2.0.0 in /usr/local/lib/python3.10/dist-packages (from rasa) (2.7.0)\n",
            "Requirement already satisfied: SQLAlchemy<1.5.0,>=1.4.0 in /usr/local/lib/python3.10/dist-packages (from rasa) (1.4.48)\n",
            "Requirement already satisfied: absl-py<1.5,>=0.9 in /usr/local/lib/python3.10/dist-packages (from rasa) (1.4.0)\n",
            "Requirement already satisfied: aio-pika<8.2.4,>=6.7.1 in /usr/local/lib/python3.10/dist-packages (from rasa) (8.2.3)\n",
            "Requirement already satisfied: aiogram<2.26 in /usr/local/lib/python3.10/dist-packages (from rasa) (2.25.1)\n",
            "Requirement already satisfied: aiohttp!=3.7.4.post0,<3.9,>=3.6 in /usr/local/lib/python3.10/dist-packages (from rasa) (3.8.4)\n",
            "Requirement already satisfied: apscheduler<3.10,>=3.6 in /usr/local/lib/python3.10/dist-packages (from rasa) (3.9.1.post1)\n",
            "Requirement already satisfied: attrs<22.2,>=19.3 in /usr/local/lib/python3.10/dist-packages (from rasa) (22.1.0)\n",
            "Requirement already satisfied: boto3<2.0.0,>=1.26.136 in /usr/local/lib/python3.10/dist-packages (from rasa) (1.26.165)\n",
            "Requirement already satisfied: cloudpickle<2.3,>=1.2 in /usr/local/lib/python3.10/dist-packages (from rasa) (2.2.1)\n",
            "Requirement already satisfied: colorclass<2.3,>=2.2 in /usr/local/lib/python3.10/dist-packages (from rasa) (2.2.2)\n",
            "Requirement already satisfied: coloredlogs<16,>=10 in /usr/local/lib/python3.10/dist-packages (from rasa) (15.0.1)\n",
            "Requirement already satisfied: colorhash<1.3.0,>=1.0.2 in /usr/local/lib/python3.10/dist-packages (from rasa) (1.2.1)\n",
            "Requirement already satisfied: confluent-kafka<3.0.0,>=1.9.2 in /usr/local/lib/python3.10/dist-packages (from rasa) (2.1.1)\n",
            "Collecting dask==2022.10.2 (from rasa)\n",
            "  Using cached dask-2022.10.2-py3-none-any.whl (1.1 MB)\n",
            "Requirement already satisfied: fbmessenger<6.1.0,>=6.0.0 in /usr/local/lib/python3.10/dist-packages (from rasa) (6.0.0)\n",
            "Requirement already satisfied: google-auth<3 in /usr/local/lib/python3.10/dist-packages (from rasa) (2.17.3)\n",
            "Requirement already satisfied: joblib<1.3.0,>=0.15.1 in /usr/local/lib/python3.10/dist-packages (from rasa) (1.2.0)\n",
            "Requirement already satisfied: jsonpickle<3.1,>=1.3 in /usr/local/lib/python3.10/dist-packages (from rasa) (3.0.1)\n",
            "Requirement already satisfied: jsonschema<4.18,>=3.2 in /usr/local/lib/python3.10/dist-packages (from rasa) (4.3.3)\n",
            "Requirement already satisfied: matplotlib<3.6,>=3.1 in /usr/local/lib/python3.10/dist-packages (from rasa) (3.5.3)\n",
            "Requirement already satisfied: mattermostwrapper<2.3,>=2.2 in /usr/local/lib/python3.10/dist-packages (from rasa) (2.2)\n",
            "Requirement already satisfied: networkx<2.7,>=2.4 in /usr/local/lib/python3.10/dist-packages (from rasa) (2.6.3)\n",
            "Requirement already satisfied: numpy<1.25.0,>=1.19.2 in /usr/local/lib/python3.10/dist-packages (from rasa) (1.22.4)\n",
            "Requirement already satisfied: packaging<21.0,>=20.0 in /usr/local/lib/python3.10/dist-packages (from rasa) (20.9)\n",
            "Requirement already satisfied: pluggy<2.0.0,>=1.0.0 in /usr/local/lib/python3.10/dist-packages (from rasa) (1.2.0)\n",
            "Requirement already satisfied: portalocker<3.0.0,>=2.7.0 in /usr/local/lib/python3.10/dist-packages (from rasa) (2.7.0)\n",
            "Requirement already satisfied: prompt-toolkit<3.0.29,>=3.0 in /usr/local/lib/python3.10/dist-packages (from rasa) (3.0.28)\n",
            "Requirement already satisfied: protobuf<3.20,>=3.9.2 in /usr/local/lib/python3.10/dist-packages (from rasa) (3.19.6)\n",
            "Requirement already satisfied: psycopg2-binary<2.10.0,>=2.8.2 in /usr/local/lib/python3.10/dist-packages (from rasa) (2.9.6)\n",
            "Requirement already satisfied: pydantic<1.10.3 in /usr/local/lib/python3.10/dist-packages (from rasa) (1.10.2)\n",
            "Requirement already satisfied: pydot<1.5,>=1.4 in /usr/local/lib/python3.10/dist-packages (from rasa) (1.4.2)\n",
            "Requirement already satisfied: pykwalify<1.9,>=1.7 in /usr/local/lib/python3.10/dist-packages (from rasa) (1.8.0)\n",
            "Requirement already satisfied: pymongo[srv,tls]<4.4,>=3.8 in /usr/local/lib/python3.10/dist-packages (from rasa) (4.3.3)\n",
            "Requirement already satisfied: python-dateutil<2.9,>=2.8 in /usr/local/lib/python3.10/dist-packages (from rasa) (2.8.2)\n",
            "Requirement already satisfied: python-engineio!=5.0.0,<6,>=4 in /usr/local/lib/python3.10/dist-packages (from rasa) (4.4.1)\n",
            "Requirement already satisfied: python-socketio<6,>=4.4 in /usr/local/lib/python3.10/dist-packages (from rasa) (5.8.0)\n",
            "Requirement already satisfied: pytz<2023.0,>=2019.1 in /usr/local/lib/python3.10/dist-packages (from rasa) (2022.7.1)\n",
            "Requirement already satisfied: pyyaml<6.0,>=5.3.1 in /usr/local/lib/python3.10/dist-packages (from rasa) (5.4.1)\n",
            "Requirement already satisfied: questionary<1.11.0,>=1.5.1 in /usr/local/lib/python3.10/dist-packages (from rasa) (1.10.0)\n",
            "Requirement already satisfied: randomname<0.2.0,>=0.1.5 in /usr/local/lib/python3.10/dist-packages (from rasa) (0.1.5)\n",
            "Requirement already satisfied: rasa-sdk<3.7.0,>=3.6.0 in /usr/local/lib/python3.10/dist-packages (from rasa) (3.6.0)\n",
            "Requirement already satisfied: redis<5.0,>=4.5.3 in /usr/local/lib/python3.10/dist-packages (from rasa) (4.6.0)\n",
            "Requirement already satisfied: regex<2022.11,>=2020.6 in /usr/local/lib/python3.10/dist-packages (from rasa) (2022.10.31)\n",
            "Requirement already satisfied: requests<3.0,>=2.23 in /usr/local/lib/python3.10/dist-packages (from rasa) (2.27.1)\n",
            "Requirement already satisfied: rocketchat_API<1.31.0,>=0.6.31 in /usr/local/lib/python3.10/dist-packages (from rasa) (1.30.0)\n",
            "Requirement already satisfied: ruamel.yaml<0.18.0,>=0.16.5 in /usr/local/lib/python3.10/dist-packages (from rasa) (0.17.32)\n",
            "Requirement already satisfied: sanic<21.13,>=21.12 in /usr/local/lib/python3.10/dist-packages (from rasa) (21.12.2)\n",
            "Requirement already satisfied: sanic-cors<2.1.0,>=2.0.0 in /usr/local/lib/python3.10/dist-packages (from rasa) (2.0.1)\n",
            "Requirement already satisfied: sanic-jwt<2.0.0,>=1.6.0 in /usr/local/lib/python3.10/dist-packages (from rasa) (1.8.0)\n",
            "Requirement already satisfied: sanic-routing<0.8.0,>=0.7.2 in /usr/local/lib/python3.10/dist-packages (from rasa) (0.7.2)\n",
            "Requirement already satisfied: scikit-learn<1.2,>=0.22 in /usr/local/lib/python3.10/dist-packages (from rasa) (1.1.3)\n",
            "Requirement already satisfied: scipy<1.9.0,>=1.4.1 in /usr/local/lib/python3.10/dist-packages (from rasa) (1.8.1)\n",
            "Requirement already satisfied: sentry-sdk<1.15.0,>=0.17.0 in /usr/local/lib/python3.10/dist-packages (from rasa) (1.14.0)\n",
            "Requirement already satisfied: setuptools>=41.0.0 in /usr/local/lib/python3.10/dist-packages (from rasa) (67.7.2)\n",
            "Requirement already satisfied: sklearn-crfsuite<0.4,>=0.3 in /usr/local/lib/python3.10/dist-packages (from rasa) (0.3.6)\n",
            "Requirement already satisfied: slack-sdk<4.0.0,>=3.19.2 in /usr/local/lib/python3.10/dist-packages (from rasa) (3.21.3)\n",
            "Requirement already satisfied: structlog<24.0.0,>=23.1.0 in /usr/local/lib/python3.10/dist-packages (from rasa) (23.1.0)\n",
            "Requirement already satisfied: structlog-sentry<3.0.0,>=2.0.2 in /usr/local/lib/python3.10/dist-packages (from rasa) (2.0.3)\n",
            "Requirement already satisfied: tarsafe<0.0.5,>=0.0.3 in /usr/local/lib/python3.10/dist-packages (from rasa) (0.0.4)\n",
            "Requirement already satisfied: tensorflow==2.11.1 in /usr/local/lib/python3.10/dist-packages (from rasa) (2.11.1)\n",
            "Requirement already satisfied: tensorflow-addons<0.20,>=0.18 in /usr/local/lib/python3.10/dist-packages (from rasa) (0.19.0)\n",
            "Requirement already satisfied: tensorflow-text==2.11.0 in /usr/local/lib/python3.10/dist-packages (from rasa) (2.11.0)\n",
            "Requirement already satisfied: tensorflow_hub<0.13.0,>=0.12.0 in /usr/local/lib/python3.10/dist-packages (from rasa) (0.12.0)\n",
            "Requirement already satisfied: terminaltables<3.2.0,>=3.1.0 in /usr/local/lib/python3.10/dist-packages (from rasa) (3.1.10)\n",
            "Requirement already satisfied: tqdm<5.0,>=4.31 in /usr/local/lib/python3.10/dist-packages (from rasa) (4.65.0)\n",
            "Requirement already satisfied: twilio<8.3,>=6.26 in /usr/local/lib/python3.10/dist-packages (from rasa) (8.2.2)\n",
            "Requirement already satisfied: typing-extensions<5.0.0,>=4.1.1 in /usr/local/lib/python3.10/dist-packages (from rasa) (4.6.3)\n",
            "Requirement already satisfied: typing-utils<0.2.0,>=0.1.0 in /usr/local/lib/python3.10/dist-packages (from rasa) (0.1.0)\n",
            "Requirement already satisfied: ujson<6.0,>=1.35 in /usr/local/lib/python3.10/dist-packages (from rasa) (5.8.0)\n",
            "Requirement already satisfied: webexteamssdk<1.7.0,>=1.1.1 in /usr/local/lib/python3.10/dist-packages (from rasa) (1.6.1)\n",
            "Requirement already satisfied: websockets<11.0,>=10.0 in /usr/local/lib/python3.10/dist-packages (from rasa) (10.4)\n",
            "Requirement already satisfied: click>=7.0 in /usr/local/lib/python3.10/dist-packages (from dask==2022.10.2->rasa) (8.1.3)\n",
            "Requirement already satisfied: fsspec>=0.6.0 in /usr/local/lib/python3.10/dist-packages (from dask==2022.10.2->rasa) (2023.6.0)\n",
            "Requirement already satisfied: partd>=0.3.10 in /usr/local/lib/python3.10/dist-packages (from dask==2022.10.2->rasa) (1.4.0)\n",
            "Requirement already satisfied: toolz>=0.8.2 in /usr/local/lib/python3.10/dist-packages (from dask==2022.10.2->rasa) (0.12.0)\n",
            "Requirement already satisfied: astunparse>=1.6.0 in /usr/local/lib/python3.10/dist-packages (from tensorflow==2.11.1->rasa) (1.6.3)\n",
            "Requirement already satisfied: flatbuffers>=2.0 in /usr/local/lib/python3.10/dist-packages (from tensorflow==2.11.1->rasa) (23.5.26)\n",
            "Requirement already satisfied: gast<=0.4.0,>=0.2.1 in /usr/local/lib/python3.10/dist-packages (from tensorflow==2.11.1->rasa) (0.4.0)\n",
            "Requirement already satisfied: google-pasta>=0.1.1 in /usr/local/lib/python3.10/dist-packages (from tensorflow==2.11.1->rasa) (0.2.0)\n",
            "Requirement already satisfied: grpcio<2.0,>=1.24.3 in /usr/local/lib/python3.10/dist-packages (from tensorflow==2.11.1->rasa) (1.56.0)\n",
            "Requirement already satisfied: h5py>=2.9.0 in /usr/local/lib/python3.10/dist-packages (from tensorflow==2.11.1->rasa) (3.8.0)\n",
            "Requirement already satisfied: keras<2.12,>=2.11.0 in /usr/local/lib/python3.10/dist-packages (from tensorflow==2.11.1->rasa) (2.11.0)\n",
            "Requirement already satisfied: libclang>=13.0.0 in /usr/local/lib/python3.10/dist-packages (from tensorflow==2.11.1->rasa) (16.0.0)\n",
            "Requirement already satisfied: opt-einsum>=2.3.2 in /usr/local/lib/python3.10/dist-packages (from tensorflow==2.11.1->rasa) (3.3.0)\n",
            "Requirement already satisfied: six>=1.12.0 in /usr/local/lib/python3.10/dist-packages (from tensorflow==2.11.1->rasa) (1.16.0)\n",
            "Requirement already satisfied: tensorboard<2.12,>=2.11 in /usr/local/lib/python3.10/dist-packages (from tensorflow==2.11.1->rasa) (2.11.2)\n",
            "Requirement already satisfied: tensorflow-estimator<2.12,>=2.11.0 in /usr/local/lib/python3.10/dist-packages (from tensorflow==2.11.1->rasa) (2.11.0)\n",
            "Requirement already satisfied: termcolor>=1.1.0 in /usr/local/lib/python3.10/dist-packages (from tensorflow==2.11.1->rasa) (2.3.0)\n",
            "Requirement already satisfied: wrapt>=1.11.0 in /usr/local/lib/python3.10/dist-packages (from tensorflow==2.11.1->rasa) (1.14.1)\n",
            "Requirement already satisfied: tensorflow-io-gcs-filesystem>=0.23.1 in /usr/local/lib/python3.10/dist-packages (from tensorflow==2.11.1->rasa) (0.32.0)\n",
            "Requirement already satisfied: aiormq~=6.4.0 in /usr/local/lib/python3.10/dist-packages (from aio-pika<8.2.4,>=6.7.1->rasa) (6.4.2)\n",
            "Requirement already satisfied: yarl in /usr/local/lib/python3.10/dist-packages (from aio-pika<8.2.4,>=6.7.1->rasa) (1.9.2)\n",
            "Requirement already satisfied: Babel<2.10.0,>=2.9.1 in /usr/local/lib/python3.10/dist-packages (from aiogram<2.26->rasa) (2.9.1)\n",
            "Requirement already satisfied: certifi>=2021.10.8 in /usr/local/lib/python3.10/dist-packages (from aiogram<2.26->rasa) (2023.5.7)\n",
            "Requirement already satisfied: magic-filter>=1.0.9 in /usr/local/lib/python3.10/dist-packages (from aiogram<2.26->rasa) (1.0.9)\n",
            "Requirement already satisfied: charset-normalizer<4.0,>=2.0 in /usr/local/lib/python3.10/dist-packages (from aiohttp!=3.7.4.post0,<3.9,>=3.6->rasa) (2.0.12)\n",
            "Requirement already satisfied: multidict<7.0,>=4.5 in /usr/local/lib/python3.10/dist-packages (from aiohttp!=3.7.4.post0,<3.9,>=3.6->rasa) (5.2.0)\n",
            "Requirement already satisfied: async-timeout<5.0,>=4.0.0a3 in /usr/local/lib/python3.10/dist-packages (from aiohttp!=3.7.4.post0,<3.9,>=3.6->rasa) (4.0.2)\n",
            "Requirement already satisfied: frozenlist>=1.1.1 in /usr/local/lib/python3.10/dist-packages (from aiohttp!=3.7.4.post0,<3.9,>=3.6->rasa) (1.3.3)\n",
            "Requirement already satisfied: aiosignal>=1.1.2 in /usr/local/lib/python3.10/dist-packages (from aiohttp!=3.7.4.post0,<3.9,>=3.6->rasa) (1.3.1)\n",
            "Requirement already satisfied: tzlocal!=3.*,>=2.0 in /usr/local/lib/python3.10/dist-packages (from apscheduler<3.10,>=3.6->rasa) (5.0.1)\n",
            "Requirement already satisfied: botocore<1.30.0,>=1.29.165 in /usr/local/lib/python3.10/dist-packages (from boto3<2.0.0,>=1.26.136->rasa) (1.29.165)\n",
            "Requirement already satisfied: jmespath<2.0.0,>=0.7.1 in /usr/local/lib/python3.10/dist-packages (from boto3<2.0.0,>=1.26.136->rasa) (1.0.1)\n",
            "Requirement already satisfied: s3transfer<0.7.0,>=0.6.0 in /usr/local/lib/python3.10/dist-packages (from boto3<2.0.0,>=1.26.136->rasa) (0.6.1)\n",
            "Requirement already satisfied: msgpack>=0.5.2 in /usr/local/lib/python3.10/dist-packages (from CacheControl<0.13.0,>=0.12.9->rasa) (1.0.5)\n",
            "Requirement already satisfied: humanfriendly>=9.1 in /usr/local/lib/python3.10/dist-packages (from coloredlogs<16,>=10->rasa) (10.0)\n",
            "Requirement already satisfied: cachetools<6.0,>=2.0.0 in /usr/local/lib/python3.10/dist-packages (from google-auth<3->rasa) (5.3.1)\n",
            "Requirement already satisfied: pyasn1-modules>=0.2.1 in /usr/local/lib/python3.10/dist-packages (from google-auth<3->rasa) (0.3.0)\n",
            "Requirement already satisfied: rsa<5,>=3.1.4 in /usr/local/lib/python3.10/dist-packages (from google-auth<3->rasa) (4.9)\n",
            "Requirement already satisfied: pyrsistent!=0.17.0,!=0.17.1,!=0.17.2,>=0.14.0 in /usr/local/lib/python3.10/dist-packages (from jsonschema<4.18,>=3.2->rasa) (0.19.3)\n",
            "Requirement already satisfied: cycler>=0.10 in /usr/local/lib/python3.10/dist-packages (from matplotlib<3.6,>=3.1->rasa) (0.11.0)\n",
            "Requirement already satisfied: fonttools>=4.22.0 in /usr/local/lib/python3.10/dist-packages (from matplotlib<3.6,>=3.1->rasa) (4.40.0)\n",
            "Requirement already satisfied: kiwisolver>=1.0.1 in /usr/local/lib/python3.10/dist-packages (from matplotlib<3.6,>=3.1->rasa) (1.4.4)\n",
            "Requirement already satisfied: pillow>=6.2.0 in /usr/local/lib/python3.10/dist-packages (from matplotlib<3.6,>=3.1->rasa) (8.4.0)\n",
            "Requirement already satisfied: pyparsing>=2.2.1 in /usr/local/lib/python3.10/dist-packages (from matplotlib<3.6,>=3.1->rasa) (3.1.0)\n",
            "Requirement already satisfied: wcwidth in /usr/local/lib/python3.10/dist-packages (from prompt-toolkit<3.0.29,>=3.0->rasa) (0.2.6)\n",
            "Requirement already satisfied: cryptography>=3.4.0 in /usr/local/lib/python3.10/dist-packages (from PyJWT[crypto]<3.0.0,>=2.0.0->rasa) (41.0.1)\n",
            "Requirement already satisfied: docopt>=0.6.2 in /usr/local/lib/python3.10/dist-packages (from pykwalify<1.9,>=1.7->rasa) (0.6.2)\n",
            "Requirement already satisfied: dnspython<3.0.0,>=1.16.0 in /usr/local/lib/python3.10/dist-packages (from pymongo[srv,tls]<4.4,>=3.8->rasa) (2.3.0)\n",
            "Requirement already satisfied: bidict>=0.21.0 in /usr/local/lib/python3.10/dist-packages (from python-socketio<6,>=4.4->rasa) (0.22.1)\n",
            "Requirement already satisfied: fire in /usr/local/lib/python3.10/dist-packages (from randomname<0.2.0,>=0.1.5->rasa) (0.5.0)\n",
            "Requirement already satisfied: urllib3<1.27,>=1.21.1 in /usr/local/lib/python3.10/dist-packages (from requests<3.0,>=2.23->rasa) (1.26.16)\n",
            "Requirement already satisfied: idna<4,>=2.5 in /usr/local/lib/python3.10/dist-packages (from requests<3.0,>=2.23->rasa) (3.4)\n",
            "Requirement already satisfied: ruamel.yaml.clib>=0.2.7 in /usr/local/lib/python3.10/dist-packages (from ruamel.yaml<0.18.0,>=0.16.5->rasa) (0.2.7)\n",
            "Requirement already satisfied: httptools>=0.0.10 in /usr/local/lib/python3.10/dist-packages (from sanic<21.13,>=21.12->rasa) (0.5.0)\n",
            "Requirement already satisfied: aiofiles>=0.6.0 in /usr/local/lib/python3.10/dist-packages (from sanic<21.13,>=21.12->rasa) (23.1.0)\n",
            "Requirement already satisfied: uvloop>=0.5.3 in /usr/local/lib/python3.10/dist-packages (from sanic<21.13,>=21.12->rasa) (0.17.0)\n",
            "Requirement already satisfied: threadpoolctl>=2.0.0 in /usr/local/lib/python3.10/dist-packages (from scikit-learn<1.2,>=0.22->rasa) (3.1.0)\n",
            "Requirement already satisfied: python-crfsuite>=0.8.3 in /usr/local/lib/python3.10/dist-packages (from sklearn-crfsuite<0.4,>=0.3->rasa) (0.9.9)\n",
            "Requirement already satisfied: tabulate in /usr/local/lib/python3.10/dist-packages (from sklearn-crfsuite<0.4,>=0.3->rasa) (0.8.10)\n",
            "Requirement already satisfied: greenlet!=0.4.17 in /usr/local/lib/python3.10/dist-packages (from SQLAlchemy<1.5.0,>=1.4.0->rasa) (2.0.2)\n",
            "Requirement already satisfied: typeguard>=2.7 in /usr/local/lib/python3.10/dist-packages (from tensorflow-addons<0.20,>=0.18->rasa) (4.0.0)\n",
            "Requirement already satisfied: aiohttp-retry>=2.8.3 in /usr/local/lib/python3.10/dist-packages (from twilio<8.3,>=6.26->rasa) (2.8.3)\n",
            "Requirement already satisfied: future in /usr/local/lib/python3.10/dist-packages (from webexteamssdk<1.7.0,>=1.1.1->rasa) (0.18.3)\n",
            "Requirement already satisfied: requests-toolbelt in /usr/local/lib/python3.10/dist-packages (from webexteamssdk<1.7.0,>=1.1.1->rasa) (1.0.0)\n",
            "Requirement already satisfied: pamqp==3.2.1 in /usr/local/lib/python3.10/dist-packages (from aiormq~=6.4.0->aio-pika<8.2.4,>=6.7.1->rasa) (3.2.1)\n",
            "Requirement already satisfied: wheel<1.0,>=0.23.0 in /usr/local/lib/python3.10/dist-packages (from astunparse>=1.6.0->tensorflow==2.11.1->rasa) (0.40.0)\n",
            "Requirement already satisfied: cffi>=1.12 in /usr/local/lib/python3.10/dist-packages (from cryptography>=3.4.0->PyJWT[crypto]<3.0.0,>=2.0.0->rasa) (1.15.1)\n",
            "Requirement already satisfied: locket in /usr/local/lib/python3.10/dist-packages (from partd>=0.3.10->dask==2022.10.2->rasa) (1.0.0)\n",
            "Requirement already satisfied: pyasn1<0.6.0,>=0.4.6 in /usr/local/lib/python3.10/dist-packages (from pyasn1-modules>=0.2.1->google-auth<3->rasa) (0.5.0)\n",
            "Requirement already satisfied: google-auth-oauthlib<0.5,>=0.4.1 in /usr/local/lib/python3.10/dist-packages (from tensorboard<2.12,>=2.11->tensorflow==2.11.1->rasa) (0.4.6)\n",
            "Requirement already satisfied: markdown>=2.6.8 in /usr/local/lib/python3.10/dist-packages (from tensorboard<2.12,>=2.11->tensorflow==2.11.1->rasa) (3.4.3)\n",
            "Requirement already satisfied: tensorboard-data-server<0.7.0,>=0.6.0 in /usr/local/lib/python3.10/dist-packages (from tensorboard<2.12,>=2.11->tensorflow==2.11.1->rasa) (0.6.1)\n",
            "Requirement already satisfied: tensorboard-plugin-wit>=1.6.0 in /usr/local/lib/python3.10/dist-packages (from tensorboard<2.12,>=2.11->tensorflow==2.11.1->rasa) (1.8.1)\n",
            "Requirement already satisfied: werkzeug>=1.0.1 in /usr/local/lib/python3.10/dist-packages (from tensorboard<2.12,>=2.11->tensorflow==2.11.1->rasa) (2.3.6)\n",
            "Requirement already satisfied: pycparser in /usr/local/lib/python3.10/dist-packages (from cffi>=1.12->cryptography>=3.4.0->PyJWT[crypto]<3.0.0,>=2.0.0->rasa) (2.21)\n",
            "Requirement already satisfied: requests-oauthlib>=0.7.0 in /usr/local/lib/python3.10/dist-packages (from google-auth-oauthlib<0.5,>=0.4.1->tensorboard<2.12,>=2.11->tensorflow==2.11.1->rasa) (1.3.1)\n",
            "Requirement already satisfied: MarkupSafe>=2.1.1 in /usr/local/lib/python3.10/dist-packages (from werkzeug>=1.0.1->tensorboard<2.12,>=2.11->tensorflow==2.11.1->rasa) (2.1.3)\n",
            "Requirement already satisfied: oauthlib>=3.0.0 in /usr/local/lib/python3.10/dist-packages (from requests-oauthlib>=0.7.0->google-auth-oauthlib<0.5,>=0.4.1->tensorboard<2.12,>=2.11->tensorflow==2.11.1->rasa) (3.2.2)\n",
            "Installing collected packages: dask\n",
            "  Attempting uninstall: dask\n",
            "    Found existing installation: dask 2022.12.1\n",
            "    Uninstalling dask-2022.12.1:\n",
            "      Successfully uninstalled dask-2022.12.1\n",
            "\u001b[31mERROR: pip's dependency resolver does not currently take into account all the packages that are installed. This behaviour is the source of the following dependency conflicts.\n",
            "distributed 2022.12.1 requires dask==2022.12.1, but you have dask 2022.10.2 which is incompatible.\u001b[0m\u001b[31m\n",
            "\u001b[0mSuccessfully installed dask-2022.10.2\n",
            "Requirement already satisfied: nest_asyncio in /usr/local/lib/python3.10/dist-packages (1.5.6)\n"
          ]
        }
      ],
      "source": [
        "!pip install transformers\n",
        "!pip install --upgrade pip\n",
        "!pip install --upgrade jedi\n",
        "!pip install dask==2022.12.1\n",
        "!pip install packaging>=21.3\n",
        "!pip install protobuf>=3.20\n",
        "!pip install rasa\n",
        "!pip install nest_asyncio"
      ]
    },
    {
      "attachments": {},
      "cell_type": "markdown",
      "metadata": {
        "id": "b2p3jBL_Rqtd"
      },
      "source": [
        "# Libraries"
      ]
    },
    {
      "cell_type": "code",
      "execution_count": 1,
      "metadata": {
        "id": "RfZrsqf-Rk__"
      },
      "outputs": [],
      "source": [
        "import pandas as pd\n",
        "import numpy as np\n",
        "import transformers\n",
        "import json"
      ]
    },
    {
      "attachments": {},
      "cell_type": "markdown",
      "metadata": {
        "id": "xmpv_ktHR22T"
      },
      "source": [
        "# Connect to Drive"
      ]
    },
    {
      "cell_type": "code",
      "execution_count": 2,
      "metadata": {
        "colab": {
          "base_uri": "https://localhost:8080/"
        },
        "id": "ErcQ61X6RlCq",
        "outputId": "a69117e8-4698-480d-c2b5-89a22e1363b1"
      },
      "outputs": [
        {
          "name": "stdout",
          "output_type": "stream",
          "text": [
            "Drive already mounted at /content/drive; to attempt to forcibly remount, call drive.mount(\"/content/drive\", force_remount=True).\n"
          ]
        }
      ],
      "source": [
        "from google.colab import drive\n",
        "drive.mount('/content/drive')"
      ]
    },
    {
      "cell_type": "code",
      "execution_count": 3,
      "metadata": {
        "colab": {
          "base_uri": "https://localhost:8080/"
        },
        "id": "jE25HsoZR3sf",
        "outputId": "ab350ecc-b93a-4e78-f8d9-8f9d82f73889"
      },
      "outputs": [
        {
          "name": "stdout",
          "output_type": "stream",
          "text": [
            "/content/drive/MyDrive/NLP/CA6\n"
          ]
        }
      ],
      "source": [
        "main_path = \"/content/drive/MyDrive/NLP/CA6\"\n",
        "%cd {main_path}"
      ]
    },
    {
      "attachments": {},
      "cell_type": "markdown",
      "metadata": {
        "id": "7-5oRg9SUFDj"
      },
      "source": [
        "# Functions"
      ]
    },
    {
      "cell_type": "code",
      "execution_count": 17,
      "metadata": {
        "id": "u5QiAFAMi3zA"
      },
      "outputs": [],
      "source": [
        "def generate_nlu_sub_intent(dataframe, file_path, operation_mode):\n",
        "    with open(file_path, \"w\", encoding=\"utf-8\") as output_file:\n",
        "        output_file.write('version: \"3.1\"\\n\\n')\n",
        "        output_file.write(\"nlu:\\n\")\n",
        "        for index, record in dataframe.iterrows():\n",
        "            output_file.write(f\"\\n- intent: faq/Q{record[0]}\\n\")\n",
        "            output_file.write(\"  examples: |\\n\")\n",
        "            if operation_mode == \"train\":\n",
        "                for i in range(15):\n",
        "                    output_file.write(f'    - \"{record[7+i]}\"\\n')\n",
        "            else:\n",
        "                for i in range(5):\n",
        "                    output_file.write(f'    - \"{record[7+i]}\"\\n')"
      ]
    },
    {
      "cell_type": "code",
      "execution_count": 18,
      "metadata": {
        "id": "DyPDaLvci5pf"
      },
      "outputs": [],
      "source": [
        "def generate_domain_sub_intent(dataframe, file_path):\n",
        "    with open(file_path, \"w\", encoding=\"utf-8\") as output_file:\n",
        "        output_file.write('version: \"3.1\"\\n\\n')\n",
        "        output_file.write(\"intents:\\n\")\n",
        "        output_file.write(\"    - faq\\n\\n\")\n",
        "        output_file.write(\"responses:\\n\")\n",
        "        for index, record in dataframe.iterrows():\n",
        "            output_file.write(f\"    utter_faq/Q{record[0]}:\\n\")\n",
        "            output_file.write(f'    - text: \"{record[1]}\"\\n')\n",
        "        output_file.write(\"\\nactions:\\n\")\n",
        "        output_file.write(\"    - utter_faq\\n\")"
      ]
    },
    {
      "cell_type": "code",
      "execution_count": 19,
      "metadata": {
        "id": "oQxpK29Bi7M1"
      },
      "outputs": [],
      "source": [
        "def generate_rules_sub_intent(dataframe, file_path):\n",
        "    with open(file_path, \"w\", encoding=\"utf-8\") as output_file:\n",
        "        output_file.write('version: \"3.1\"\\n\\n')\n"
      ]
    },
    {
      "cell_type": "code",
      "execution_count": 20,
      "metadata": {
        "id": "q9PGXawXTvoq"
      },
      "outputs": [],
      "source": [
        "def generate_stories_sub_intent(dataframe, file_path):\n",
        "    with open(file_path, \"w\", encoding=\"utf-8\") as output_file:\n",
        "        output_file.write('version: \"3.1\"\\n\\n')"
      ]
    },
    {
      "cell_type": "code",
      "execution_count": 21,
      "metadata": {
        "id": "D_Sv_ssMizvX"
      },
      "outputs": [],
      "source": [
        "def generate_classification_metrics(report_file_path):\n",
        "    with open(report_file_path, \"r\") as report_file:\n",
        "        evaluation_report = json.load(report_file)\n",
        "\n",
        "    intent_metrics = evaluation_report[\"weighted avg\"]\n",
        "    accuracy = evaluation_report[\"accuracy\"]\n",
        "    metrics = {\n",
        "        \"Accuracy\": accuracy,\n",
        "        \"Precision\": intent_metrics[\"precision\"],\n",
        "        \"Recall\": intent_metrics[\"recall\"],\n",
        "        \"F1 Score\": intent_metrics[\"f1-score\"]\n",
        "    }\n",
        "\n",
        "    return metrics"
      ]
    },
    {
      "cell_type": "code",
      "execution_count": 22,
      "metadata": {
        "id": "r2ELEQXhixr3"
      },
      "outputs": [],
      "source": [
        "def generate_config_sub_intent(num_epochs, model_weights_name, config_file_path):\n",
        "    config_content = f\"\"\"\n",
        "language: fa\n",
        "pipeline:\n",
        "  - name: WhitespaceTokenizer\n",
        "  - name: LanguageModelFeaturizer\n",
        "    model_name: \"bert\"\n",
        "    model_weights: \"{model_weights_name}\"\n",
        "  - name: ResponseSelector\n",
        "    epochs: {num_epochs}\n",
        "    retrieval_intent: faq\n",
        "    constrain_similarities: true\n",
        "    cache_dir: null\n",
        "policies:\n",
        "  - name: MemoizationPolicy\n",
        "  - name: TEDPolicy\n",
        "    max_history: 5\n",
        "    epochs: {num_epochs}\n",
        "    constrain_similarities: true\n",
        "  - name: RulePolicy\n",
        "\"\"\"\n",
        "\n",
        "    with open(config_file_path, 'w') as file:\n",
        "        file.write(config_content)"
      ]
    },
    {
      "cell_type": "code",
      "execution_count": 23,
      "metadata": {
        "id": "JYaR-c6voVa6"
      },
      "outputs": [],
      "source": [
        "def generate_stories_sub_intent(dataframe, file_path):\n",
        "    with open(file_path, \"w\", encoding=\"utf-8\") as output_file:\n",
        "        output_file.write('version: \"3.1\"\\n\\n')"
      ]
    },
    {
      "cell_type": "code",
      "execution_count": 24,
      "metadata": {
        "id": "-obWMIvtjLFF"
      },
      "outputs": [],
      "source": [
        "def generate_nlu_multi_intent(dataframe, file_path, mode):\n",
        "     with open(file_path, \"w\", encoding=\"utf-8\") as file:\n",
        "        file.write('version: \"3.1\"\\n\\n')\n",
        "        file.write(\"nlu:\\n\")\n",
        "        for index, record in dataframe.iterrows():\n",
        "            file.write(f\"\\n- intent: Q{record[0]}\\n\")\n",
        "            file.write(\"  examples: |\\n\")\n",
        "            if mode == \"train\":\n",
        "                for i in range(15):\n",
        "                    file.write(f'    - \"{record[7+i]}\"\\n')\n",
        "            else:\n",
        "                for i in range(5):\n",
        "                    file.write(f'    - \"{record[7+i]}\"\\n')"
      ]
    },
    {
      "cell_type": "code",
      "execution_count": 25,
      "metadata": {
        "id": "kIndBHYajM3J"
      },
      "outputs": [],
      "source": [
        "def generate_domain_multi_intent(dataframe, file_path):\n",
        "    with open(file_path, \"w\", encoding=\"utf-8\") as file:\n",
        "        file.write('version: \"3.1\"\\n\\n')\n",
        "        file.write(\"intents:\\n\")\n",
        "\n",
        "        for index, record in dataframe.iterrows():\n",
        "            file.write(f\"    - q{record[0]}\\n\")\n",
        "\n",
        "        file.write(\"\\nresponses:\\n\")\n",
        "        for index, record in dataframe.iterrows():\n",
        "            file.write(f\"    utter_Q{record[0]}:\\n\")\n",
        "            file.write(f'    - text: \"{record[1]}\"\\n')"
      ]
    },
    {
      "cell_type": "code",
      "execution_count": 26,
      "metadata": {
        "id": "yXY8r9R8jO2n"
      },
      "outputs": [],
      "source": [
        "def generate_rules_multi_intent(dataframe, file_path):\n",
        "    with open(file_path, \"w\", encoding=\"utf-8\") as file:\n",
        "        file.write('version: \"3.1\"\\n\\n')\n",
        "        file.write(\"rules:\\n\")\n",
        "\n",
        "        for index, record in dataframe.iterrows():\n",
        "            file.write(f\"    - rule: response to Q{record[0]}\\n\")\n",
        "            file.write(\"      steps:\\n\")\n",
        "            file.write(f\"      - intent: Q{record[0]}\\n\")\n",
        "            file.write(f'      - action: utter_Q{record[0]}\\n')"
      ]
    },
    {
      "cell_type": "code",
      "execution_count": 27,
      "metadata": {
        "id": "1Y3qH0OHitVR"
      },
      "outputs": [],
      "source": [
        "def generate_stories_multi_intent(dataframe, file_path):\n",
        "    with open(file_path, \"w\", encoding=\"utf-8\") as file:\n",
        "        file.write('version: \"3.1\"\\n\\n')"
      ]
    },
    {
      "cell_type": "code",
      "execution_count": 28,
      "metadata": {
        "id": "3Vs3n-bmodMN"
      },
      "outputs": [],
      "source": [
        "def generate_config_multi_intent(num_epochs, model_weights_name, config_file_path):\n",
        "    config_content = f\"\"\"\n",
        "language: fa\n",
        "pipeline:\n",
        "  - name: WhitespaceTokenizer\n",
        "  - name: LanguageModelFeaturizer\n",
        "    model_name: \"bert\"\n",
        "    model_weights: \"{model_weights_name}\"\n",
        "  - name: ResponseSelector\n",
        "    epochs: {num_epochs}\n",
        "    constrain_similarities: true\n",
        "    cache_dir: null\n",
        "  - name: DIETClassifier\n",
        "    epochs: {num_epochs}\n",
        "    constrain_similarities: true\n",
        "    cache_dir: null\n",
        "policies:\n",
        "  - name: MemoizationPolicy\n",
        "  - name: TEDPolicy\n",
        "    max_history: 5\n",
        "    constrain_similarities: true\n",
        "  - name: RulePolicy\n",
        "\"\"\"\n",
        "\n",
        "    with open(config_file_path, 'w') as file:\n",
        "        file.write(config_content)\n"
      ]
    },
    {
      "attachments": {},
      "cell_type": "markdown",
      "metadata": {
        "id": "7ECzH5fxSAKs"
      },
      "source": [
        "# Sub-intent Scenario"
      ]
    },
    {
      "cell_type": "code",
      "execution_count": 20,
      "metadata": {
        "colab": {
          "base_uri": "https://localhost:8080/"
        },
        "id": "kT-7QUXxR_Qm",
        "outputId": "2c9d19c6-bae3-4013-bdff-5c33f87d2039"
      },
      "outputs": [
        {
          "name": "stdout",
          "output_type": "stream",
          "text": [
            "/content/drive/MyDrive/NLP/CA6/sub_intent_folder\n"
          ]
        }
      ],
      "source": [
        "# !mkdir -p sub_intent_folder\n",
        "%cd ./sub_intent_folder\n",
        "\n",
        "\n",
        "# create a folder for test\n",
        "# ! mkdir -p test_folder"
      ]
    },
    {
      "attachments": {},
      "cell_type": "markdown",
      "metadata": {
        "id": "FAqpMEfvSPiq"
      },
      "source": [
        "Initializ a new Rasa project without interactive prompts"
      ]
    },
    {
      "cell_type": "code",
      "execution_count": 21,
      "metadata": {
        "colab": {
          "base_uri": "https://localhost:8080/"
        },
        "id": "j-4shsjiSPrp",
        "outputId": "ed7d85da-9789-45d8-9acc-2ba99693e3d1"
      },
      "outputs": [
        {
          "name": "stdout",
          "output_type": "stream",
          "text": [
            "/usr/local/lib/python3.10/dist-packages/rasa/core/tracker_store.py:1042: MovedIn20Warning: \u001b[31mDeprecated API features detected! These feature(s) are not compatible with SQLAlchemy 2.0. \u001b[32mTo prevent incompatible upgrades prior to updating applications, ensure requirements files are pinned to \"sqlalchemy<2.0\". \u001b[36mSet environment variable SQLALCHEMY_WARN_20=1 to show all deprecation warnings.  Set environment variable SQLALCHEMY_SILENCE_UBER_WARNING=1 to silence this message.\u001b[0m (Background on SQLAlchemy 2.0 at: https://sqlalche.me/e/b8d9)\n",
            "  Base: DeclarativeMeta = declarative_base()\n",
            "/usr/local/lib/python3.10/dist-packages/pkg_resources/__init__.py:121: DeprecationWarning: pkg_resources is deprecated as an API\n",
            "  warnings.warn(\"pkg_resources is deprecated as an API\", DeprecationWarning)\n",
            "/usr/local/lib/python3.10/dist-packages/pkg_resources/__init__.py:2870: DeprecationWarning: Deprecated call to `pkg_resources.declare_namespace('google')`.\n",
            "Implementing implicit namespace packages (as specified in PEP 420) is preferred to `pkg_resources.declare_namespace`. See https://setuptools.pypa.io/en/latest/references/keywords.html#keyword-namespace-packages\n",
            "  declare_namespace(pkg)\n",
            "/usr/local/lib/python3.10/dist-packages/pkg_resources/__init__.py:2870: DeprecationWarning: Deprecated call to `pkg_resources.declare_namespace('google.cloud')`.\n",
            "Implementing implicit namespace packages (as specified in PEP 420) is preferred to `pkg_resources.declare_namespace`. See https://setuptools.pypa.io/en/latest/references/keywords.html#keyword-namespace-packages\n",
            "  declare_namespace(pkg)\n",
            "/usr/local/lib/python3.10/dist-packages/pkg_resources/__init__.py:2870: DeprecationWarning: Deprecated call to `pkg_resources.declare_namespace('google.logging')`.\n",
            "Implementing implicit namespace packages (as specified in PEP 420) is preferred to `pkg_resources.declare_namespace`. See https://setuptools.pypa.io/en/latest/references/keywords.html#keyword-namespace-packages\n",
            "  declare_namespace(pkg)\n",
            "/usr/local/lib/python3.10/dist-packages/pkg_resources/__init__.py:2870: DeprecationWarning: Deprecated call to `pkg_resources.declare_namespace('google.iam')`.\n",
            "Implementing implicit namespace packages (as specified in PEP 420) is preferred to `pkg_resources.declare_namespace`. See https://setuptools.pypa.io/en/latest/references/keywords.html#keyword-namespace-packages\n",
            "  declare_namespace(pkg)\n",
            "/usr/local/lib/python3.10/dist-packages/pkg_resources/__init__.py:2870: DeprecationWarning: Deprecated call to `pkg_resources.declare_namespace('mpl_toolkits')`.\n",
            "Implementing implicit namespace packages (as specified in PEP 420) is preferred to `pkg_resources.declare_namespace`. See https://setuptools.pypa.io/en/latest/references/keywords.html#keyword-namespace-packages\n",
            "  declare_namespace(pkg)\n",
            "/usr/local/lib/python3.10/dist-packages/pkg_resources/__init__.py:2870: DeprecationWarning: Deprecated call to `pkg_resources.declare_namespace('ruamel')`.\n",
            "Implementing implicit namespace packages (as specified in PEP 420) is preferred to `pkg_resources.declare_namespace`. See https://setuptools.pypa.io/en/latest/references/keywords.html#keyword-namespace-packages\n",
            "  declare_namespace(pkg)\n",
            "/usr/local/lib/python3.10/dist-packages/pkg_resources/__init__.py:2870: DeprecationWarning: Deprecated call to `pkg_resources.declare_namespace('ruamel.yaml')`.\n",
            "Implementing implicit namespace packages (as specified in PEP 420) is preferred to `pkg_resources.declare_namespace`. See https://setuptools.pypa.io/en/latest/references/keywords.html#keyword-namespace-packages\n",
            "  declare_namespace(pkg)\n",
            "/usr/local/lib/python3.10/dist-packages/pkg_resources/__init__.py:2870: DeprecationWarning: Deprecated call to `pkg_resources.declare_namespace('sphinxcontrib')`.\n",
            "Implementing implicit namespace packages (as specified in PEP 420) is preferred to `pkg_resources.declare_namespace`. See https://setuptools.pypa.io/en/latest/references/keywords.html#keyword-namespace-packages\n",
            "  declare_namespace(pkg)\n",
            "\u001b[92mWelcome to Rasa! 🤖\n",
            "\u001b[0m\n",
            "To get started quickly, an initial project will be created.\n",
            "If you need some help, check out the documentation at https://rasa.com/docs/rasa.\n",
            "\n",
            "2023-07-01 05:40:57 \u001b[1;30mINFO    \u001b[0m \u001b[34mroot\u001b[0m  - copying /usr/local/lib/python3.10/dist-packages/rasa/cli/initial_project/config.yml -> .\n",
            "2023-07-01 05:40:57 \u001b[1;30mINFO    \u001b[0m \u001b[34mroot\u001b[0m  - copying /usr/local/lib/python3.10/dist-packages/rasa/cli/initial_project/domain.yml -> .\n",
            "2023-07-01 05:40:57 \u001b[1;30mINFO    \u001b[0m \u001b[34mroot\u001b[0m  - copying /usr/local/lib/python3.10/dist-packages/rasa/cli/initial_project/endpoints.yml -> .\n",
            "2023-07-01 05:40:57 \u001b[1;30mINFO    \u001b[0m \u001b[34mroot\u001b[0m  - creating actions\n",
            "2023-07-01 05:40:57 \u001b[1;30mINFO    \u001b[0m \u001b[34mroot\u001b[0m  - copying /usr/local/lib/python3.10/dist-packages/rasa/cli/initial_project/actions/__init__.py -> ./actions\n",
            "2023-07-01 05:40:57 \u001b[1;30mINFO    \u001b[0m \u001b[34mroot\u001b[0m  - copying /usr/local/lib/python3.10/dist-packages/rasa/cli/initial_project/actions/actions.py -> ./actions\n",
            "2023-07-01 05:40:57 \u001b[1;30mINFO    \u001b[0m \u001b[34mroot\u001b[0m  - creating actions/__pycache__\n",
            "2023-07-01 05:40:57 \u001b[1;30mINFO    \u001b[0m \u001b[34mroot\u001b[0m  - copying /usr/local/lib/python3.10/dist-packages/rasa/cli/initial_project/actions/__pycache__/__init__.cpython-310.pyc -> ./actions/__pycache__\n",
            "2023-07-01 05:40:57 \u001b[1;30mINFO    \u001b[0m \u001b[34mroot\u001b[0m  - copying /usr/local/lib/python3.10/dist-packages/rasa/cli/initial_project/actions/__pycache__/actions.cpython-310.pyc -> ./actions/__pycache__\n",
            "2023-07-01 05:40:57 \u001b[1;30mINFO    \u001b[0m \u001b[34mroot\u001b[0m  - copying /usr/local/lib/python3.10/dist-packages/rasa/cli/initial_project/credentials.yml -> .\n",
            "2023-07-01 05:40:57 \u001b[1;30mINFO    \u001b[0m \u001b[34mroot\u001b[0m  - creating tests\n",
            "2023-07-01 05:40:57 \u001b[1;30mINFO    \u001b[0m \u001b[34mroot\u001b[0m  - copying /usr/local/lib/python3.10/dist-packages/rasa/cli/initial_project/tests/test_stories.yml -> ./tests\n",
            "2023-07-01 05:40:57 \u001b[1;30mINFO    \u001b[0m \u001b[34mroot\u001b[0m  - creating data\n",
            "2023-07-01 05:40:57 \u001b[1;30mINFO    \u001b[0m \u001b[34mroot\u001b[0m  - copying /usr/local/lib/python3.10/dist-packages/rasa/cli/initial_project/data/rules.yml -> ./data\n",
            "2023-07-01 05:40:57 \u001b[1;30mINFO    \u001b[0m \u001b[34mroot\u001b[0m  - copying /usr/local/lib/python3.10/dist-packages/rasa/cli/initial_project/data/stories.yml -> ./data\n",
            "2023-07-01 05:40:57 \u001b[1;30mINFO    \u001b[0m \u001b[34mroot\u001b[0m  - copying /usr/local/lib/python3.10/dist-packages/rasa/cli/initial_project/data/nlu.yml -> ./data\n",
            "Created project directory at '/content/drive/MyDrive/NLP/CA6/sub_intent_folder'.\n",
            "\u001b[92mFinished creating project structure.\u001b[0m\n",
            "\u001b[92mTraining an initial model...\u001b[0m\n",
            "/usr/local/lib/python3.10/dist-packages/jaxlib/xla_client.py:225: DeprecationWarning: ml_dtypes.float8_e4m3b11 is deprecated. Use ml_dtypes.float8_e4m3b11fnuz\n",
            "  float8_e4m3b11fnuz = ml_dtypes.float8_e4m3b11\n",
            "2023-07-01 05:40:59 \u001b[1;30mINFO    \u001b[0m \u001b[34mnumexpr.utils\u001b[0m  - NumExpr defaulting to 2 threads.\n",
            "\u001b[94mThe configuration for pipeline and policies was chosen automatically. It was written into the config file at 'config.yml'.\u001b[0m\n",
            "2023-07-01 05:41:02 \u001b[1;30mINFO    \u001b[0m \u001b[34mrasa.engine.training.hooks\u001b[0m  - Starting to train component 'RegexFeaturizer'.\n",
            "2023-07-01 05:41:02 \u001b[1;30mINFO    \u001b[0m \u001b[34mrasa.engine.training.hooks\u001b[0m  - Finished training component 'RegexFeaturizer'.\n",
            "2023-07-01 05:41:02 \u001b[1;30mINFO    \u001b[0m \u001b[34mrasa.engine.training.hooks\u001b[0m  - Starting to train component 'LexicalSyntacticFeaturizer'.\n",
            "2023-07-01 05:41:02 \u001b[1;30mINFO    \u001b[0m \u001b[34mrasa.engine.training.hooks\u001b[0m  - Finished training component 'LexicalSyntacticFeaturizer'.\n",
            "2023-07-01 05:41:02 \u001b[1;30mINFO    \u001b[0m \u001b[34mrasa.engine.training.hooks\u001b[0m  - Starting to train component 'CountVectorsFeaturizer'.\n",
            "2023-07-01 05:41:02 \u001b[1;30mINFO    \u001b[0m \u001b[34mrasa.nlu.featurizers.sparse_featurizer.count_vectors_featurizer\u001b[0m  - 80 vocabulary items were created for text attribute.\n",
            "2023-07-01 05:41:02 \u001b[1;30mINFO    \u001b[0m \u001b[34mrasa.engine.training.hooks\u001b[0m  - Finished training component 'CountVectorsFeaturizer'.\n",
            "2023-07-01 05:41:02 \u001b[1;30mINFO    \u001b[0m \u001b[34mrasa.engine.training.hooks\u001b[0m  - Starting to train component 'CountVectorsFeaturizer'.\n",
            "2023-07-01 05:41:02 \u001b[1;30mINFO    \u001b[0m \u001b[34mrasa.nlu.featurizers.sparse_featurizer.count_vectors_featurizer\u001b[0m  - 697 vocabulary items were created for text attribute.\n",
            "2023-07-01 05:41:02 \u001b[1;30mINFO    \u001b[0m \u001b[34mrasa.engine.training.hooks\u001b[0m  - Finished training component 'CountVectorsFeaturizer'.\n",
            "2023-07-01 05:41:03 \u001b[1;30mINFO    \u001b[0m \u001b[34mrasa.engine.training.hooks\u001b[0m  - Starting to train component 'DIETClassifier'.\n",
            "Epochs: 100% 100/100 [00:32<00:00,  3.09it/s, t_loss=1.11, i_acc=1]\n",
            "2023-07-01 05:41:39 \u001b[1;30mINFO    \u001b[0m \u001b[34mrasa.engine.training.hooks\u001b[0m  - Finished training component 'DIETClassifier'.\n",
            "2023-07-01 05:41:39 \u001b[1;30mINFO    \u001b[0m \u001b[34mrasa.engine.training.hooks\u001b[0m  - Starting to train component 'EntitySynonymMapper'.\n",
            "2023-07-01 05:41:39 \u001b[1;30mINFO    \u001b[0m \u001b[34mrasa.engine.training.hooks\u001b[0m  - Finished training component 'EntitySynonymMapper'.\n",
            "2023-07-01 05:41:39 \u001b[1;30mINFO    \u001b[0m \u001b[34mrasa.engine.training.hooks\u001b[0m  - Starting to train component 'ResponseSelector'.\n",
            "2023-07-01 05:41:39 \u001b[1;30mINFO    \u001b[0m \u001b[34mrasa.nlu.selectors.response_selector\u001b[0m  - Retrieval intent parameter was left to its default value. This response selector will be trained on training examples combining all retrieval intents.\n",
            "2023-07-01 05:41:39 \u001b[1;30mINFO    \u001b[0m \u001b[34mrasa.engine.training.hooks\u001b[0m  - Finished training component 'ResponseSelector'.\n",
            "Processed story blocks: 100% 3/3 [00:00<00:00, 2730.67it/s, # trackers=1]\n",
            "Processed story blocks: 100% 3/3 [00:00<00:00, 1152.18it/s, # trackers=3]\n",
            "Processed story blocks: 100% 3/3 [00:00<00:00, 342.80it/s, # trackers=12]\n",
            "Processed story blocks: 100% 3/3 [00:00<00:00, 85.07it/s, # trackers=39]\n",
            "Processed rules: 100% 2/2 [00:00<00:00, 2555.17it/s, # trackers=1]\n",
            "2023-07-01 05:41:39 \u001b[1;30mINFO    \u001b[0m \u001b[34mrasa.engine.training.hooks\u001b[0m  - Starting to train component 'MemoizationPolicy'.\n",
            "Processed trackers: 100% 3/3 [00:00<00:00, 2372.79it/s, # action=12]\n",
            "Processed actions: 12it [00:00, 9824.64it/s, # examples=12]\n",
            "2023-07-01 05:41:40 \u001b[1;30mINFO    \u001b[0m \u001b[34mrasa.engine.training.hooks\u001b[0m  - Finished training component 'MemoizationPolicy'.\n",
            "2023-07-01 05:41:40 \u001b[1;30mINFO    \u001b[0m \u001b[34mrasa.engine.training.hooks\u001b[0m  - Starting to train component 'RulePolicy'.\n",
            "Processed trackers: 100% 2/2 [00:00<00:00, 2022.81it/s, # action=5]\n",
            "Processed actions: 5it [00:00, 15875.49it/s, # examples=4]\n",
            "Processed trackers: 100% 3/3 [00:00<00:00, 2648.48it/s, # action=12]\n",
            "Processed trackers: 100% 2/2 [00:00<00:00, 1972.86it/s]\n",
            "Processed trackers: 100% 5/5 [00:00<00:00, 1616.05it/s]\n",
            "2023-07-01 05:41:40 \u001b[1;30mINFO    \u001b[0m \u001b[34mrasa.engine.training.hooks\u001b[0m  - Finished training component 'RulePolicy'.\n",
            "2023-07-01 05:41:40 \u001b[1;30mINFO    \u001b[0m \u001b[34mrasa.engine.training.hooks\u001b[0m  - Starting to train component 'TEDPolicy'.\n",
            "Processed trackers: 100% 120/120 [00:00<00:00, 2621.15it/s, # action=30]\n",
            "Epochs: 100% 100/100 [00:27<00:00,  3.63it/s, t_loss=1.48, loss=1.32, acc=1]\n",
            "2023-07-01 05:42:08 \u001b[1;30mINFO    \u001b[0m \u001b[34mrasa.engine.training.hooks\u001b[0m  - Finished training component 'TEDPolicy'.\n",
            "2023-07-01 05:42:08 \u001b[1;30mINFO    \u001b[0m \u001b[34mrasa.engine.training.hooks\u001b[0m  - Starting to train component 'UnexpecTEDIntentPolicy'.\n",
            "2023-07-01 05:42:08 \u001b[1;30mWARNING \u001b[0m \u001b[34mrasa.shared.utils.common\u001b[0m  - \u001b[33mThe UnexpecTED Intent Policy is currently experimental and might change or be removed in the future 🔬 Please share your feedback on it in the forum (https://forum.rasa.com) to help us make this feature ready for production.\u001b[0m\n",
            "Processed trackers: 100% 120/120 [00:00<00:00, 4643.31it/s, # intent=12]\n",
            "Epochs: 100% 100/100 [00:23<00:00,  4.35it/s, t_loss=0.133, loss=0.0133, acc=1]\n",
            "2023-07-01 05:42:34 \u001b[1;30mINFO    \u001b[0m \u001b[34mrasa.engine.training.hooks\u001b[0m  - Finished training component 'UnexpecTEDIntentPolicy'.\n",
            "\u001b[92mYour Rasa model is trained and saved at 'models/20230701-054101-brute-tree.tar.gz'.\u001b[0m\n",
            "If you want to speak to the assistant, run 'rasa shell' at any time inside the project directory.\n"
          ]
        },
        {
          "data": {
            "text/plain": []
          },
          "execution_count": 21,
          "metadata": {},
          "output_type": "execute_result"
        }
      ],
      "source": [
        "%%shell\n",
        "rasa init --no-prompt"
      ]
    },
    {
      "attachments": {},
      "cell_type": "markdown",
      "metadata": {
        "id": "b50i-56qTBw9"
      },
      "source": [
        "## Load Data"
      ]
    },
    {
      "cell_type": "code",
      "execution_count": 22,
      "metadata": {
        "id": "gKkT2ht8TRb-"
      },
      "outputs": [],
      "source": [
        "def read_file(path):\n",
        "  df = pd.read_excel(path)\n",
        "  return df"
      ]
    },
    {
      "cell_type": "code",
      "execution_count": 23,
      "metadata": {
        "id": "nemZGQfXfqaT"
      },
      "outputs": [],
      "source": [
        "train_df = read_file(main_path + \"/Data/MCI_Internet_TrainData.xlsx\")\n",
        "test_df  = read_file(main_path + \"/Data/MCI_Internet_TestData.xlsx\")"
      ]
    },
    {
      "attachments": {},
      "cell_type": "markdown",
      "metadata": {
        "id": "MG2mNZZHUskm"
      },
      "source": [
        "### Write data in folders"
      ]
    },
    {
      "cell_type": "code",
      "execution_count": 24,
      "metadata": {
        "id": "1Ll_grV0UcxN"
      },
      "outputs": [],
      "source": [
        "generate_nlu_sub_intent(train_df, f'{main_path}/sub_intent_folder/data/nlu.yml', \"train\")\n",
        "generate_rules_sub_intent(train_df, f'{main_path}/sub_intent_folder/data/rules.yml')\n",
        "generate_stories_sub_intent(train_df, f'{main_path}/sub_intent_folder/data/stories.yml')\n",
        "generate_domain_sub_intent(train_df, f'{main_path}/sub_intent_folder/domain.yml')\n",
        "generate_nlu_sub_intent(test_df,f'{main_path}/sub_intent_folder/test_folder/nlu_test.yml', \"test\" )\n",
        "\n",
        "# /content/drive/MyDrive/NLP/CA6/sub_intent_folder/sub_intent_folder/test_folder"
      ]
    },
    {
      "attachments": {},
      "cell_type": "markdown",
      "metadata": {
        "id": "3yB_PgZoZgTr"
      },
      "source": [
        "## ParseBert with 50 epochs"
      ]
    },
    {
      "attachments": {},
      "cell_type": "markdown",
      "metadata": {
        "id": "2vIvtVOIZpWl"
      },
      "source": [
        "### Configuration"
      ]
    },
    {
      "cell_type": "code",
      "execution_count": 41,
      "metadata": {
        "id": "vPmTUKFnVbuW"
      },
      "outputs": [],
      "source": [
        "generate_config_sub_intent(num_epochs=50,model_weights_name=\"HooshvareLab/bert-base-parsbert-uncased\", config_file_path = './config.yml')"
      ]
    },
    {
      "attachments": {},
      "cell_type": "markdown",
      "metadata": {
        "id": "VJfpkLfxhQe5"
      },
      "source": [
        "### Train"
      ]
    },
    {
      "cell_type": "code",
      "execution_count": 42,
      "metadata": {
        "colab": {
          "base_uri": "https://localhost:8080/"
        },
        "id": "3mPVz8RWhPsQ",
        "outputId": "98da7e84-a17d-4a00-e60f-efff0bdb6748"
      },
      "outputs": [
        {
          "name": "stdout",
          "output_type": "stream",
          "text": [
            "/usr/local/lib/python3.10/dist-packages/rasa/core/tracker_store.py:1042: MovedIn20Warning: \u001b[31mDeprecated API features detected! These feature(s) are not compatible with SQLAlchemy 2.0. \u001b[32mTo prevent incompatible upgrades prior to updating applications, ensure requirements files are pinned to \"sqlalchemy<2.0\". \u001b[36mSet environment variable SQLALCHEMY_WARN_20=1 to show all deprecation warnings.  Set environment variable SQLALCHEMY_SILENCE_UBER_WARNING=1 to silence this message.\u001b[0m (Background on SQLAlchemy 2.0 at: https://sqlalche.me/e/b8d9)\n",
            "  Base: DeclarativeMeta = declarative_base()\n",
            "/usr/local/lib/python3.10/dist-packages/pkg_resources/__init__.py:121: DeprecationWarning: pkg_resources is deprecated as an API\n",
            "  warnings.warn(\"pkg_resources is deprecated as an API\", DeprecationWarning)\n",
            "/usr/local/lib/python3.10/dist-packages/pkg_resources/__init__.py:2870: DeprecationWarning: Deprecated call to `pkg_resources.declare_namespace('google')`.\n",
            "Implementing implicit namespace packages (as specified in PEP 420) is preferred to `pkg_resources.declare_namespace`. See https://setuptools.pypa.io/en/latest/references/keywords.html#keyword-namespace-packages\n",
            "  declare_namespace(pkg)\n",
            "/usr/local/lib/python3.10/dist-packages/pkg_resources/__init__.py:2870: DeprecationWarning: Deprecated call to `pkg_resources.declare_namespace('google.cloud')`.\n",
            "Implementing implicit namespace packages (as specified in PEP 420) is preferred to `pkg_resources.declare_namespace`. See https://setuptools.pypa.io/en/latest/references/keywords.html#keyword-namespace-packages\n",
            "  declare_namespace(pkg)\n",
            "/usr/local/lib/python3.10/dist-packages/pkg_resources/__init__.py:2870: DeprecationWarning: Deprecated call to `pkg_resources.declare_namespace('google.logging')`.\n",
            "Implementing implicit namespace packages (as specified in PEP 420) is preferred to `pkg_resources.declare_namespace`. See https://setuptools.pypa.io/en/latest/references/keywords.html#keyword-namespace-packages\n",
            "  declare_namespace(pkg)\n",
            "/usr/local/lib/python3.10/dist-packages/pkg_resources/__init__.py:2870: DeprecationWarning: Deprecated call to `pkg_resources.declare_namespace('google.iam')`.\n",
            "Implementing implicit namespace packages (as specified in PEP 420) is preferred to `pkg_resources.declare_namespace`. See https://setuptools.pypa.io/en/latest/references/keywords.html#keyword-namespace-packages\n",
            "  declare_namespace(pkg)\n",
            "/usr/local/lib/python3.10/dist-packages/pkg_resources/__init__.py:2870: DeprecationWarning: Deprecated call to `pkg_resources.declare_namespace('mpl_toolkits')`.\n",
            "Implementing implicit namespace packages (as specified in PEP 420) is preferred to `pkg_resources.declare_namespace`. See https://setuptools.pypa.io/en/latest/references/keywords.html#keyword-namespace-packages\n",
            "  declare_namespace(pkg)\n",
            "/usr/local/lib/python3.10/dist-packages/pkg_resources/__init__.py:2870: DeprecationWarning: Deprecated call to `pkg_resources.declare_namespace('ruamel')`.\n",
            "Implementing implicit namespace packages (as specified in PEP 420) is preferred to `pkg_resources.declare_namespace`. See https://setuptools.pypa.io/en/latest/references/keywords.html#keyword-namespace-packages\n",
            "  declare_namespace(pkg)\n",
            "/usr/local/lib/python3.10/dist-packages/pkg_resources/__init__.py:2870: DeprecationWarning: Deprecated call to `pkg_resources.declare_namespace('ruamel.yaml')`.\n",
            "Implementing implicit namespace packages (as specified in PEP 420) is preferred to `pkg_resources.declare_namespace`. See https://setuptools.pypa.io/en/latest/references/keywords.html#keyword-namespace-packages\n",
            "  declare_namespace(pkg)\n",
            "/usr/local/lib/python3.10/dist-packages/pkg_resources/__init__.py:2870: DeprecationWarning: Deprecated call to `pkg_resources.declare_namespace('sphinxcontrib')`.\n",
            "Implementing implicit namespace packages (as specified in PEP 420) is preferred to `pkg_resources.declare_namespace`. See https://setuptools.pypa.io/en/latest/references/keywords.html#keyword-namespace-packages\n",
            "  declare_namespace(pkg)\n",
            "2023-07-01 07:12:22 \u001b[1;30mINFO    \u001b[0m \u001b[34mrasa.cli.train\u001b[0m  - Started validating domain and training data...\n",
            "/usr/local/lib/python3.10/dist-packages/jaxlib/xla_client.py:225: DeprecationWarning: ml_dtypes.float8_e4m3b11 is deprecated. Use ml_dtypes.float8_e4m3b11fnuz\n",
            "  float8_e4m3b11fnuz = ml_dtypes.float8_e4m3b11\n",
            "2023-07-01 07:12:24 \u001b[1;30mINFO    \u001b[0m \u001b[34mnumexpr.utils\u001b[0m  - NumExpr defaulting to 2 threads.\n",
            "\u001b[93m/usr/local/lib/python3.10/dist-packages/rasa/shared/utils/io.py:99: UserWarning: The following duplicated intents have been found across multiple domain files: faq \n",
            "The following duplicated actions have been found across multiple domain files: utter_faq\n",
            "  More info at https://rasa.com/docs/rasa/domain\n",
            "\u001b[0m2023-07-01 07:12:25 \u001b[1;30mINFO    \u001b[0m \u001b[34mrasa.validator\u001b[0m  - Validating intents...\n",
            "\u001b[93m/usr/local/lib/python3.10/dist-packages/rasa/shared/utils/io.py:99: UserWarning: The intent 'faq' is not used in any story or rule.\n",
            "\u001b[0m2023-07-01 07:12:25 \u001b[1;30mINFO    \u001b[0m \u001b[34mrasa.validator\u001b[0m  - Validating uniqueness of intents and stories...\n",
            "2023-07-01 07:12:25 \u001b[1;30mINFO    \u001b[0m \u001b[34mrasa.validator\u001b[0m  - Validating utterances...\n",
            "\u001b[93m/usr/local/lib/python3.10/dist-packages/rasa/shared/utils/io.py:99: UserWarning: The utterance 'utter_faq' is not used in any story or rule.\n",
            "\u001b[0m2023-07-01 07:12:25 \u001b[1;30mINFO    \u001b[0m \u001b[34mrasa.validator\u001b[0m  - Story structure validation...\n",
            "2023-07-01 07:12:25 \u001b[1;30mINFO    \u001b[0m \u001b[34mrasa.core.training.story_conflict\u001b[0m  - Considering all preceding turns for conflict analysis.\n",
            "2023-07-01 07:12:25 \u001b[1;30mINFO    \u001b[0m \u001b[34mrasa.validator\u001b[0m  - No story structure conflicts found.\n",
            "\u001b[93m/usr/local/lib/python3.10/dist-packages/rasa/shared/utils/io.py:99: UserWarning: The following duplicated intents have been found across multiple domain files: faq \n",
            "The following duplicated actions have been found across multiple domain files: utter_faq\n",
            "  More info at https://rasa.com/docs/rasa/domain\n",
            "\u001b[0m\u001b[93mNo stories present. Just a Rasa NLU model will be trained.\u001b[0m\n",
            "\u001b[93m/usr/local/lib/python3.10/dist-packages/rasa/engine/recipes/recipe.py:35: FutureWarning: From Rasa Open Source 4.0.0 onwards it will be required to specify a recipe in your model configuration. Defaulting to recipe 'default.v1'.\n",
            "  rasa.shared.utils.io.raise_deprecation_warning(\n",
            "\u001b[0m2023-07-01 07:12:30 \u001b[1;30mINFO    \u001b[0m \u001b[34mrasa.engine.training.hooks\u001b[0m  - Restored component 'ResponseSelector' from cache.\n",
            "\u001b[92mYour Rasa model is trained and saved at 'models/nlu-20230701-071229-fast-refinery.tar.gz'.\u001b[0m\n"
          ]
        },
        {
          "data": {
            "text/plain": []
          },
          "execution_count": 42,
          "metadata": {},
          "output_type": "execute_result"
        }
      ],
      "source": [
        "%%shell\n",
        "rasa train"
      ]
    },
    {
      "attachments": {},
      "cell_type": "markdown",
      "metadata": {
        "id": "B2l-IUVyhVbd"
      },
      "source": [
        "### Test"
      ]
    },
    {
      "cell_type": "code",
      "execution_count": 43,
      "metadata": {
        "colab": {
          "base_uri": "https://localhost:8080/"
        },
        "id": "-8Byt4QIhWVs",
        "outputId": "5b006a12-4bce-44af-b990-c8c97a7a114b"
      },
      "outputs": [
        {
          "name": "stdout",
          "output_type": "stream",
          "text": [
            "/usr/local/lib/python3.10/dist-packages/rasa/core/tracker_store.py:1042: MovedIn20Warning: \u001b[31mDeprecated API features detected! These feature(s) are not compatible with SQLAlchemy 2.0. \u001b[32mTo prevent incompatible upgrades prior to updating applications, ensure requirements files are pinned to \"sqlalchemy<2.0\". \u001b[36mSet environment variable SQLALCHEMY_WARN_20=1 to show all deprecation warnings.  Set environment variable SQLALCHEMY_SILENCE_UBER_WARNING=1 to silence this message.\u001b[0m (Background on SQLAlchemy 2.0 at: https://sqlalche.me/e/b8d9)\n",
            "  Base: DeclarativeMeta = declarative_base()\n",
            "/usr/local/lib/python3.10/dist-packages/pkg_resources/__init__.py:121: DeprecationWarning: pkg_resources is deprecated as an API\n",
            "  warnings.warn(\"pkg_resources is deprecated as an API\", DeprecationWarning)\n",
            "/usr/local/lib/python3.10/dist-packages/pkg_resources/__init__.py:2870: DeprecationWarning: Deprecated call to `pkg_resources.declare_namespace('google')`.\n",
            "Implementing implicit namespace packages (as specified in PEP 420) is preferred to `pkg_resources.declare_namespace`. See https://setuptools.pypa.io/en/latest/references/keywords.html#keyword-namespace-packages\n",
            "  declare_namespace(pkg)\n",
            "/usr/local/lib/python3.10/dist-packages/pkg_resources/__init__.py:2870: DeprecationWarning: Deprecated call to `pkg_resources.declare_namespace('google.cloud')`.\n",
            "Implementing implicit namespace packages (as specified in PEP 420) is preferred to `pkg_resources.declare_namespace`. See https://setuptools.pypa.io/en/latest/references/keywords.html#keyword-namespace-packages\n",
            "  declare_namespace(pkg)\n",
            "/usr/local/lib/python3.10/dist-packages/pkg_resources/__init__.py:2870: DeprecationWarning: Deprecated call to `pkg_resources.declare_namespace('google.logging')`.\n",
            "Implementing implicit namespace packages (as specified in PEP 420) is preferred to `pkg_resources.declare_namespace`. See https://setuptools.pypa.io/en/latest/references/keywords.html#keyword-namespace-packages\n",
            "  declare_namespace(pkg)\n",
            "/usr/local/lib/python3.10/dist-packages/pkg_resources/__init__.py:2870: DeprecationWarning: Deprecated call to `pkg_resources.declare_namespace('google.iam')`.\n",
            "Implementing implicit namespace packages (as specified in PEP 420) is preferred to `pkg_resources.declare_namespace`. See https://setuptools.pypa.io/en/latest/references/keywords.html#keyword-namespace-packages\n",
            "  declare_namespace(pkg)\n",
            "/usr/local/lib/python3.10/dist-packages/pkg_resources/__init__.py:2870: DeprecationWarning: Deprecated call to `pkg_resources.declare_namespace('mpl_toolkits')`.\n",
            "Implementing implicit namespace packages (as specified in PEP 420) is preferred to `pkg_resources.declare_namespace`. See https://setuptools.pypa.io/en/latest/references/keywords.html#keyword-namespace-packages\n",
            "  declare_namespace(pkg)\n",
            "/usr/local/lib/python3.10/dist-packages/pkg_resources/__init__.py:2870: DeprecationWarning: Deprecated call to `pkg_resources.declare_namespace('ruamel')`.\n",
            "Implementing implicit namespace packages (as specified in PEP 420) is preferred to `pkg_resources.declare_namespace`. See https://setuptools.pypa.io/en/latest/references/keywords.html#keyword-namespace-packages\n",
            "  declare_namespace(pkg)\n",
            "/usr/local/lib/python3.10/dist-packages/pkg_resources/__init__.py:2870: DeprecationWarning: Deprecated call to `pkg_resources.declare_namespace('ruamel.yaml')`.\n",
            "Implementing implicit namespace packages (as specified in PEP 420) is preferred to `pkg_resources.declare_namespace`. See https://setuptools.pypa.io/en/latest/references/keywords.html#keyword-namespace-packages\n",
            "  declare_namespace(pkg)\n",
            "/usr/local/lib/python3.10/dist-packages/pkg_resources/__init__.py:2870: DeprecationWarning: Deprecated call to `pkg_resources.declare_namespace('sphinxcontrib')`.\n",
            "Implementing implicit namespace packages (as specified in PEP 420) is preferred to `pkg_resources.declare_namespace`. See https://setuptools.pypa.io/en/latest/references/keywords.html#keyword-namespace-packages\n",
            "  declare_namespace(pkg)\n",
            "/usr/local/lib/python3.10/dist-packages/jaxlib/xla_client.py:225: DeprecationWarning: ml_dtypes.float8_e4m3b11 is deprecated. Use ml_dtypes.float8_e4m3b11fnuz\n",
            "  float8_e4m3b11fnuz = ml_dtypes.float8_e4m3b11\n",
            "2023-07-01 07:12:37 \u001b[1;30mINFO    \u001b[0m \u001b[34mnumexpr.utils\u001b[0m  - NumExpr defaulting to 2 threads.\n",
            "2023-07-01 07:12:40 \u001b[1;30mINFO    \u001b[0m \u001b[34mrasa.core.processor\u001b[0m  - Loading model models/nlu-20230701-071229-fast-refinery.tar.gz...\n",
            "Some layers from the model checkpoint at HooshvareLab/bert-base-parsbert-uncased were not used when initializing TFBertModel: ['nsp___cls', 'mlm___cls']\n",
            "- This IS expected if you are initializing TFBertModel from the checkpoint of a model trained on another task or with another architecture (e.g. initializing a BertForSequenceClassification model from a BertForPreTraining model).\n",
            "- This IS NOT expected if you are initializing TFBertModel from the checkpoint of a model that you expect to be exactly identical (initializing a BertForSequenceClassification model from a BertForSequenceClassification model).\n",
            "All the layers of TFBertModel were initialized from the model checkpoint at HooshvareLab/bert-base-parsbert-uncased.\n",
            "If your task is similar to the task the model of the checkpoint was trained on, you can already use TFBertModel for predictions without further training.\n",
            "2023-07-01 07:13:02 \u001b[1;30mINFO    \u001b[0m \u001b[34mrasa.nlu.test\u001b[0m  - Running model for predictions:\n",
            "100% 250/250 [00:55<00:00,  4.48it/s]\n",
            "2023-07-01 07:13:58 \u001b[1;30mINFO    \u001b[0m \u001b[34mrasa.nlu.test\u001b[0m  - Response selection evaluation results:\n",
            "2023-07-01 07:13:58 \u001b[1;30mINFO    \u001b[0m \u001b[34mrasa.nlu.test\u001b[0m  - Response Selection Evaluation: Only considering those 250 examples that have a defined response out of 250 examples.\n",
            "/usr/local/lib/python3.10/dist-packages/sklearn/metrics/_classification.py:1334: UndefinedMetricWarning: Precision and F-score are ill-defined and being set to 0.0 in labels with no predicted samples. Use `zero_division` parameter to control this behavior.\n",
            "  _warn_prf(average, modifier, msg_start, len(result))\n",
            "/usr/local/lib/python3.10/dist-packages/sklearn/metrics/_classification.py:1334: UndefinedMetricWarning: Precision and F-score are ill-defined and being set to 0.0 in labels with no predicted samples. Use `zero_division` parameter to control this behavior.\n",
            "  _warn_prf(average, modifier, msg_start, len(result))\n",
            "/usr/local/lib/python3.10/dist-packages/sklearn/metrics/_classification.py:1334: UndefinedMetricWarning: Precision and F-score are ill-defined and being set to 0.0 in labels with no predicted samples. Use `zero_division` parameter to control this behavior.\n",
            "  _warn_prf(average, modifier, msg_start, len(result))\n",
            "/usr/local/lib/python3.10/dist-packages/sklearn/metrics/_classification.py:1334: UndefinedMetricWarning: Precision is ill-defined and being set to 0.0 in labels with no predicted samples. Use `zero_division` parameter to control this behavior.\n",
            "  _warn_prf(average, modifier, msg_start, len(result))\n",
            "2023-07-01 07:13:58 \u001b[1;30mINFO    \u001b[0m \u001b[34mrasa.nlu.test\u001b[0m  - Classification report saved to test_result/config/response_selection_report.json.\n",
            "2023-07-01 07:13:58 \u001b[1;30mINFO    \u001b[0m \u001b[34mrasa.nlu.test\u001b[0m  - Incorrect response predictions saved to test_result/config/response_selection_errors.json.\n",
            "/usr/local/lib/python3.10/dist-packages/jupyter_client/connect.py:28: DeprecationWarning: Jupyter is migrating its paths to use standard platformdirs\n",
            "given by the platformdirs library.  To remove this warning and\n",
            "see the appropriate new directories, set the environment variable\n",
            "`JUPYTER_PLATFORM_DIRS=1` and then run `jupyter --paths`.\n",
            "The use of platformdirs will be the default in `jupyter_core` v6\n",
            "  from jupyter_core.paths import jupyter_data_dir, jupyter_runtime_dir, secure_write\n",
            "2023-07-01 07:13:59 \u001b[1;30mINFO    \u001b[0m \u001b[34mrasa.utils.plotting\u001b[0m  - Confusion matrix, without normalization: \n",
            "[[1 0 0 ... 1 1 0]\n",
            " [0 1 0 ... 0 0 1]\n",
            " [0 0 3 ... 0 0 0]\n",
            " ...\n",
            " [0 0 0 ... 5 0 0]\n",
            " [0 0 0 ... 0 3 1]\n",
            " [0 0 0 ... 0 0 5]]\n"
          ]
        },
        {
          "data": {
            "text/plain": []
          },
          "execution_count": 43,
          "metadata": {},
          "output_type": "execute_result"
        }
      ],
      "source": [
        "%%shell\n",
        "rasa test nlu --config config.yml \\\n",
        "              --nlu test_folder/nlu_test.yml\\\n",
        "              --out test_result/config"
      ]
    },
    {
      "attachments": {},
      "cell_type": "markdown",
      "metadata": {
        "id": "fPjfxoZDh4l9"
      },
      "source": [
        "### Result"
      ]
    },
    {
      "cell_type": "code",
      "execution_count": 44,
      "metadata": {
        "colab": {
          "base_uri": "https://localhost:8080/"
        },
        "id": "YiYV1NZchXOB",
        "outputId": "7ac21501-f1e1-4244-dede-c4553dc92576"
      },
      "outputs": [
        {
          "data": {
            "text/plain": [
              "{'Accuracy': 0.624,\n",
              " 'Precision': 0.6531746031746033,\n",
              " 'Recall': 0.624,\n",
              " 'F1 Score': 0.5914615188732836}"
            ]
          },
          "execution_count": 44,
          "metadata": {},
          "output_type": "execute_result"
        }
      ],
      "source": [
        "report_file_path =  \"test_result/config/response_selection_report.json\"\n",
        "generate_classification_metrics(report_file_path)"
      ]
    },
    {
      "cell_type": "code",
      "execution_count": 44,
      "metadata": {
        "id": "EQh07piPimgD"
      },
      "outputs": [],
      "source": []
    },
    {
      "attachments": {},
      "cell_type": "markdown",
      "metadata": {
        "id": "rlVzKcUgGEKY"
      },
      "source": [
        "## LabSE with 50 epochs"
      ]
    },
    {
      "attachments": {},
      "cell_type": "markdown",
      "metadata": {
        "id": "wsA8JQ3HGEKj"
      },
      "source": [
        "### Configuration"
      ]
    },
    {
      "cell_type": "code",
      "execution_count": 45,
      "metadata": {
        "id": "jYF_vH65GEKk"
      },
      "outputs": [],
      "source": [
        "generate_config_sub_intent(num_epochs=50,model_weights_name=\"rasa/LaBSE\", config_file_path = './config.yml')"
      ]
    },
    {
      "attachments": {},
      "cell_type": "markdown",
      "metadata": {
        "id": "BKjAy3coGEKk"
      },
      "source": [
        "### Train"
      ]
    },
    {
      "cell_type": "code",
      "execution_count": 46,
      "metadata": {
        "colab": {
          "base_uri": "https://localhost:8080/"
        },
        "id": "yO2tGjXQGEKk",
        "outputId": "3dec990c-2d83-42c9-8e9f-97f509a11fb0"
      },
      "outputs": [
        {
          "name": "stdout",
          "output_type": "stream",
          "text": [
            "/usr/local/lib/python3.10/dist-packages/rasa/core/tracker_store.py:1042: MovedIn20Warning: \u001b[31mDeprecated API features detected! These feature(s) are not compatible with SQLAlchemy 2.0. \u001b[32mTo prevent incompatible upgrades prior to updating applications, ensure requirements files are pinned to \"sqlalchemy<2.0\". \u001b[36mSet environment variable SQLALCHEMY_WARN_20=1 to show all deprecation warnings.  Set environment variable SQLALCHEMY_SILENCE_UBER_WARNING=1 to silence this message.\u001b[0m (Background on SQLAlchemy 2.0 at: https://sqlalche.me/e/b8d9)\n",
            "  Base: DeclarativeMeta = declarative_base()\n",
            "/usr/local/lib/python3.10/dist-packages/pkg_resources/__init__.py:121: DeprecationWarning: pkg_resources is deprecated as an API\n",
            "  warnings.warn(\"pkg_resources is deprecated as an API\", DeprecationWarning)\n",
            "/usr/local/lib/python3.10/dist-packages/pkg_resources/__init__.py:2870: DeprecationWarning: Deprecated call to `pkg_resources.declare_namespace('google')`.\n",
            "Implementing implicit namespace packages (as specified in PEP 420) is preferred to `pkg_resources.declare_namespace`. See https://setuptools.pypa.io/en/latest/references/keywords.html#keyword-namespace-packages\n",
            "  declare_namespace(pkg)\n",
            "/usr/local/lib/python3.10/dist-packages/pkg_resources/__init__.py:2870: DeprecationWarning: Deprecated call to `pkg_resources.declare_namespace('google.cloud')`.\n",
            "Implementing implicit namespace packages (as specified in PEP 420) is preferred to `pkg_resources.declare_namespace`. See https://setuptools.pypa.io/en/latest/references/keywords.html#keyword-namespace-packages\n",
            "  declare_namespace(pkg)\n",
            "/usr/local/lib/python3.10/dist-packages/pkg_resources/__init__.py:2870: DeprecationWarning: Deprecated call to `pkg_resources.declare_namespace('google.logging')`.\n",
            "Implementing implicit namespace packages (as specified in PEP 420) is preferred to `pkg_resources.declare_namespace`. See https://setuptools.pypa.io/en/latest/references/keywords.html#keyword-namespace-packages\n",
            "  declare_namespace(pkg)\n",
            "/usr/local/lib/python3.10/dist-packages/pkg_resources/__init__.py:2870: DeprecationWarning: Deprecated call to `pkg_resources.declare_namespace('google.iam')`.\n",
            "Implementing implicit namespace packages (as specified in PEP 420) is preferred to `pkg_resources.declare_namespace`. See https://setuptools.pypa.io/en/latest/references/keywords.html#keyword-namespace-packages\n",
            "  declare_namespace(pkg)\n",
            "/usr/local/lib/python3.10/dist-packages/pkg_resources/__init__.py:2870: DeprecationWarning: Deprecated call to `pkg_resources.declare_namespace('mpl_toolkits')`.\n",
            "Implementing implicit namespace packages (as specified in PEP 420) is preferred to `pkg_resources.declare_namespace`. See https://setuptools.pypa.io/en/latest/references/keywords.html#keyword-namespace-packages\n",
            "  declare_namespace(pkg)\n",
            "/usr/local/lib/python3.10/dist-packages/pkg_resources/__init__.py:2870: DeprecationWarning: Deprecated call to `pkg_resources.declare_namespace('ruamel')`.\n",
            "Implementing implicit namespace packages (as specified in PEP 420) is preferred to `pkg_resources.declare_namespace`. See https://setuptools.pypa.io/en/latest/references/keywords.html#keyword-namespace-packages\n",
            "  declare_namespace(pkg)\n",
            "/usr/local/lib/python3.10/dist-packages/pkg_resources/__init__.py:2870: DeprecationWarning: Deprecated call to `pkg_resources.declare_namespace('ruamel.yaml')`.\n",
            "Implementing implicit namespace packages (as specified in PEP 420) is preferred to `pkg_resources.declare_namespace`. See https://setuptools.pypa.io/en/latest/references/keywords.html#keyword-namespace-packages\n",
            "  declare_namespace(pkg)\n",
            "/usr/local/lib/python3.10/dist-packages/pkg_resources/__init__.py:2870: DeprecationWarning: Deprecated call to `pkg_resources.declare_namespace('sphinxcontrib')`.\n",
            "Implementing implicit namespace packages (as specified in PEP 420) is preferred to `pkg_resources.declare_namespace`. See https://setuptools.pypa.io/en/latest/references/keywords.html#keyword-namespace-packages\n",
            "  declare_namespace(pkg)\n",
            "2023-07-01 07:40:00 \u001b[1;30mINFO    \u001b[0m \u001b[34mrasa.cli.train\u001b[0m  - Started validating domain and training data...\n",
            "/usr/local/lib/python3.10/dist-packages/jaxlib/xla_client.py:225: DeprecationWarning: ml_dtypes.float8_e4m3b11 is deprecated. Use ml_dtypes.float8_e4m3b11fnuz\n",
            "  float8_e4m3b11fnuz = ml_dtypes.float8_e4m3b11\n",
            "2023-07-01 07:40:03 \u001b[1;30mINFO    \u001b[0m \u001b[34mnumexpr.utils\u001b[0m  - NumExpr defaulting to 2 threads.\n",
            "\u001b[93m/usr/local/lib/python3.10/dist-packages/rasa/shared/utils/io.py:99: UserWarning: The following duplicated intents have been found across multiple domain files: faq \n",
            "The following duplicated actions have been found across multiple domain files: utter_faq\n",
            "  More info at https://rasa.com/docs/rasa/domain\n",
            "\u001b[0m2023-07-01 07:40:05 \u001b[1;30mINFO    \u001b[0m \u001b[34mrasa.validator\u001b[0m  - Validating intents...\n",
            "\u001b[93m/usr/local/lib/python3.10/dist-packages/rasa/shared/utils/io.py:99: UserWarning: The intent 'faq' is not used in any story or rule.\n",
            "\u001b[0m2023-07-01 07:40:05 \u001b[1;30mINFO    \u001b[0m \u001b[34mrasa.validator\u001b[0m  - Validating uniqueness of intents and stories...\n",
            "2023-07-01 07:40:05 \u001b[1;30mINFO    \u001b[0m \u001b[34mrasa.validator\u001b[0m  - Validating utterances...\n",
            "\u001b[93m/usr/local/lib/python3.10/dist-packages/rasa/shared/utils/io.py:99: UserWarning: The utterance 'utter_faq' is not used in any story or rule.\n",
            "\u001b[0m2023-07-01 07:40:05 \u001b[1;30mINFO    \u001b[0m \u001b[34mrasa.validator\u001b[0m  - Story structure validation...\n",
            "2023-07-01 07:40:05 \u001b[1;30mINFO    \u001b[0m \u001b[34mrasa.core.training.story_conflict\u001b[0m  - Considering all preceding turns for conflict analysis.\n",
            "2023-07-01 07:40:05 \u001b[1;30mINFO    \u001b[0m \u001b[34mrasa.validator\u001b[0m  - No story structure conflicts found.\n",
            "\u001b[93m/usr/local/lib/python3.10/dist-packages/rasa/shared/utils/io.py:99: UserWarning: The following duplicated intents have been found across multiple domain files: faq \n",
            "The following duplicated actions have been found across multiple domain files: utter_faq\n",
            "  More info at https://rasa.com/docs/rasa/domain\n",
            "\u001b[0m\u001b[93mNo stories present. Just a Rasa NLU model will be trained.\u001b[0m\n",
            "\u001b[93m/usr/local/lib/python3.10/dist-packages/rasa/engine/recipes/recipe.py:35: FutureWarning: From Rasa Open Source 4.0.0 onwards it will be required to specify a recipe in your model configuration. Defaulting to recipe 'default.v1'.\n",
            "  rasa.shared.utils.io.raise_deprecation_warning(\n",
            "\u001b[0m2023-07-01 07:40:09 \u001b[1;30mINFO    \u001b[0m \u001b[34mrasa.engine.training.hooks\u001b[0m  - Restored component 'ResponseSelector' from cache.\n",
            "\u001b[92mYour Rasa model is trained and saved at 'models/nlu-20230701-074009-corn-editor.tar.gz'.\u001b[0m\n"
          ]
        },
        {
          "data": {
            "text/plain": []
          },
          "execution_count": 46,
          "metadata": {},
          "output_type": "execute_result"
        }
      ],
      "source": [
        "%%shell\n",
        "rasa train"
      ]
    },
    {
      "attachments": {},
      "cell_type": "markdown",
      "metadata": {
        "id": "AROZJYL1GEKk"
      },
      "source": [
        "### Test"
      ]
    },
    {
      "cell_type": "code",
      "execution_count": 47,
      "metadata": {
        "colab": {
          "base_uri": "https://localhost:8080/"
        },
        "id": "m8KzSCuTGEKk",
        "outputId": "9199e4da-5936-432e-ab7d-99fdaf246cba"
      },
      "outputs": [
        {
          "name": "stdout",
          "output_type": "stream",
          "text": [
            "/usr/local/lib/python3.10/dist-packages/rasa/core/tracker_store.py:1042: MovedIn20Warning: \u001b[31mDeprecated API features detected! These feature(s) are not compatible with SQLAlchemy 2.0. \u001b[32mTo prevent incompatible upgrades prior to updating applications, ensure requirements files are pinned to \"sqlalchemy<2.0\". \u001b[36mSet environment variable SQLALCHEMY_WARN_20=1 to show all deprecation warnings.  Set environment variable SQLALCHEMY_SILENCE_UBER_WARNING=1 to silence this message.\u001b[0m (Background on SQLAlchemy 2.0 at: https://sqlalche.me/e/b8d9)\n",
            "  Base: DeclarativeMeta = declarative_base()\n",
            "/usr/local/lib/python3.10/dist-packages/pkg_resources/__init__.py:121: DeprecationWarning: pkg_resources is deprecated as an API\n",
            "  warnings.warn(\"pkg_resources is deprecated as an API\", DeprecationWarning)\n",
            "/usr/local/lib/python3.10/dist-packages/pkg_resources/__init__.py:2870: DeprecationWarning: Deprecated call to `pkg_resources.declare_namespace('google')`.\n",
            "Implementing implicit namespace packages (as specified in PEP 420) is preferred to `pkg_resources.declare_namespace`. See https://setuptools.pypa.io/en/latest/references/keywords.html#keyword-namespace-packages\n",
            "  declare_namespace(pkg)\n",
            "/usr/local/lib/python3.10/dist-packages/pkg_resources/__init__.py:2870: DeprecationWarning: Deprecated call to `pkg_resources.declare_namespace('google.cloud')`.\n",
            "Implementing implicit namespace packages (as specified in PEP 420) is preferred to `pkg_resources.declare_namespace`. See https://setuptools.pypa.io/en/latest/references/keywords.html#keyword-namespace-packages\n",
            "  declare_namespace(pkg)\n",
            "/usr/local/lib/python3.10/dist-packages/pkg_resources/__init__.py:2870: DeprecationWarning: Deprecated call to `pkg_resources.declare_namespace('google.logging')`.\n",
            "Implementing implicit namespace packages (as specified in PEP 420) is preferred to `pkg_resources.declare_namespace`. See https://setuptools.pypa.io/en/latest/references/keywords.html#keyword-namespace-packages\n",
            "  declare_namespace(pkg)\n",
            "/usr/local/lib/python3.10/dist-packages/pkg_resources/__init__.py:2870: DeprecationWarning: Deprecated call to `pkg_resources.declare_namespace('google.iam')`.\n",
            "Implementing implicit namespace packages (as specified in PEP 420) is preferred to `pkg_resources.declare_namespace`. See https://setuptools.pypa.io/en/latest/references/keywords.html#keyword-namespace-packages\n",
            "  declare_namespace(pkg)\n",
            "/usr/local/lib/python3.10/dist-packages/pkg_resources/__init__.py:2870: DeprecationWarning: Deprecated call to `pkg_resources.declare_namespace('mpl_toolkits')`.\n",
            "Implementing implicit namespace packages (as specified in PEP 420) is preferred to `pkg_resources.declare_namespace`. See https://setuptools.pypa.io/en/latest/references/keywords.html#keyword-namespace-packages\n",
            "  declare_namespace(pkg)\n",
            "/usr/local/lib/python3.10/dist-packages/pkg_resources/__init__.py:2870: DeprecationWarning: Deprecated call to `pkg_resources.declare_namespace('ruamel')`.\n",
            "Implementing implicit namespace packages (as specified in PEP 420) is preferred to `pkg_resources.declare_namespace`. See https://setuptools.pypa.io/en/latest/references/keywords.html#keyword-namespace-packages\n",
            "  declare_namespace(pkg)\n",
            "/usr/local/lib/python3.10/dist-packages/pkg_resources/__init__.py:2870: DeprecationWarning: Deprecated call to `pkg_resources.declare_namespace('ruamel.yaml')`.\n",
            "Implementing implicit namespace packages (as specified in PEP 420) is preferred to `pkg_resources.declare_namespace`. See https://setuptools.pypa.io/en/latest/references/keywords.html#keyword-namespace-packages\n",
            "  declare_namespace(pkg)\n",
            "/usr/local/lib/python3.10/dist-packages/pkg_resources/__init__.py:2870: DeprecationWarning: Deprecated call to `pkg_resources.declare_namespace('sphinxcontrib')`.\n",
            "Implementing implicit namespace packages (as specified in PEP 420) is preferred to `pkg_resources.declare_namespace`. See https://setuptools.pypa.io/en/latest/references/keywords.html#keyword-namespace-packages\n",
            "  declare_namespace(pkg)\n",
            "/usr/local/lib/python3.10/dist-packages/jaxlib/xla_client.py:225: DeprecationWarning: ml_dtypes.float8_e4m3b11 is deprecated. Use ml_dtypes.float8_e4m3b11fnuz\n",
            "  float8_e4m3b11fnuz = ml_dtypes.float8_e4m3b11\n",
            "2023-07-01 07:40:15 \u001b[1;30mINFO    \u001b[0m \u001b[34mnumexpr.utils\u001b[0m  - NumExpr defaulting to 2 threads.\n",
            "2023-07-01 07:40:17 \u001b[1;30mINFO    \u001b[0m \u001b[34mrasa.core.processor\u001b[0m  - Loading model models/nlu-20230701-074009-corn-editor.tar.gz...\n",
            "All model checkpoint layers were used when initializing TFBertModel.\n",
            "\n",
            "All the layers of TFBertModel were initialized from the model checkpoint at rasa/LaBSE.\n",
            "If your task is similar to the task the model of the checkpoint was trained on, you can already use TFBertModel for predictions without further training.\n",
            "2023-07-01 07:40:37 \u001b[1;30mINFO    \u001b[0m \u001b[34mrasa.nlu.test\u001b[0m  - Running model for predictions:\n",
            "100% 250/250 [00:55<00:00,  4.51it/s]\n",
            "2023-07-01 07:41:32 \u001b[1;30mINFO    \u001b[0m \u001b[34mrasa.nlu.test\u001b[0m  - Response selection evaluation results:\n",
            "2023-07-01 07:41:32 \u001b[1;30mINFO    \u001b[0m \u001b[34mrasa.nlu.test\u001b[0m  - Response Selection Evaluation: Only considering those 250 examples that have a defined response out of 250 examples.\n",
            "2023-07-01 07:41:32 \u001b[1;30mINFO    \u001b[0m \u001b[34mrasa.nlu.test\u001b[0m  - Classification report saved to test_result/config/response_selection_report.json.\n",
            "2023-07-01 07:41:32 \u001b[1;30mINFO    \u001b[0m \u001b[34mrasa.nlu.test\u001b[0m  - Incorrect response predictions saved to test_result/config/response_selection_errors.json.\n",
            "/usr/local/lib/python3.10/dist-packages/jupyter_client/connect.py:28: DeprecationWarning: Jupyter is migrating its paths to use standard platformdirs\n",
            "given by the platformdirs library.  To remove this warning and\n",
            "see the appropriate new directories, set the environment variable\n",
            "`JUPYTER_PLATFORM_DIRS=1` and then run `jupyter --paths`.\n",
            "The use of platformdirs will be the default in `jupyter_core` v6\n",
            "  from jupyter_core.paths import jupyter_data_dir, jupyter_runtime_dir, secure_write\n",
            "2023-07-01 07:41:34 \u001b[1;30mINFO    \u001b[0m \u001b[34mrasa.utils.plotting\u001b[0m  - Confusion matrix, without normalization: \n",
            "[[5 0 0 ... 0 0 0]\n",
            " [0 5 0 ... 0 0 0]\n",
            " [0 0 5 ... 0 0 0]\n",
            " ...\n",
            " [0 0 0 ... 5 0 0]\n",
            " [0 0 0 ... 0 5 0]\n",
            " [0 0 0 ... 0 0 5]]\n"
          ]
        },
        {
          "data": {
            "text/plain": []
          },
          "execution_count": 47,
          "metadata": {},
          "output_type": "execute_result"
        }
      ],
      "source": [
        "%%shell\n",
        "rasa test nlu --config config.yml \\\n",
        "              --nlu test_folder/nlu_test.yml\\\n",
        "              --out test_result/config"
      ]
    },
    {
      "attachments": {},
      "cell_type": "markdown",
      "metadata": {
        "id": "wffoLKq1GEKl"
      },
      "source": [
        "### Result"
      ]
    },
    {
      "cell_type": "code",
      "execution_count": 48,
      "metadata": {
        "colab": {
          "base_uri": "https://localhost:8080/"
        },
        "id": "_bTSwQfVGEKl",
        "outputId": "6a7ec35c-05ea-4c27-c44d-d5007432a3bf"
      },
      "outputs": [
        {
          "data": {
            "text/plain": [
              "{'Accuracy': 0.908,\n",
              " 'Precision': 0.9255238095238095,\n",
              " 'Recall': 0.908,\n",
              " 'F1 Score': 0.9070089910089909}"
            ]
          },
          "execution_count": 48,
          "metadata": {},
          "output_type": "execute_result"
        }
      ],
      "source": [
        "report_file_path =  \"test_result/config/response_selection_report.json\"\n",
        "generate_classification_metrics(report_file_path)"
      ]
    },
    {
      "attachments": {},
      "cell_type": "markdown",
      "metadata": {
        "id": "gt3Z5Z_zMEsl"
      },
      "source": [
        "LabSE is better so do it for 100 and 200 epochs"
      ]
    },
    {
      "cell_type": "code",
      "execution_count": 48,
      "metadata": {
        "id": "N_CV9B6zGEKl"
      },
      "outputs": [],
      "source": []
    },
    {
      "attachments": {},
      "cell_type": "markdown",
      "metadata": {
        "id": "0fWd-B8IOzVq"
      },
      "source": [
        "## LabSE with 100 epochs"
      ]
    },
    {
      "attachments": {},
      "cell_type": "markdown",
      "metadata": {
        "id": "vrvR-jw7OzV0"
      },
      "source": [
        "### Configuration"
      ]
    },
    {
      "cell_type": "code",
      "execution_count": 49,
      "metadata": {
        "id": "UiORyuL1OzV0"
      },
      "outputs": [],
      "source": [
        "generate_config_sub_intent(num_epochs=100, model_weights_name=\"rasa/LaBSE\", config_file_path = './config.yml')"
      ]
    },
    {
      "attachments": {},
      "cell_type": "markdown",
      "metadata": {
        "id": "dCFLmfavOzV0"
      },
      "source": [
        "### Train"
      ]
    },
    {
      "cell_type": "code",
      "execution_count": 50,
      "metadata": {
        "colab": {
          "base_uri": "https://localhost:8080/"
        },
        "id": "X1e5dZkWOzV0",
        "outputId": "fd917d0d-da5a-4e1a-81b3-604b00458045"
      },
      "outputs": [
        {
          "name": "stdout",
          "output_type": "stream",
          "text": [
            "/usr/local/lib/python3.10/dist-packages/rasa/core/tracker_store.py:1042: MovedIn20Warning: \u001b[31mDeprecated API features detected! These feature(s) are not compatible with SQLAlchemy 2.0. \u001b[32mTo prevent incompatible upgrades prior to updating applications, ensure requirements files are pinned to \"sqlalchemy<2.0\". \u001b[36mSet environment variable SQLALCHEMY_WARN_20=1 to show all deprecation warnings.  Set environment variable SQLALCHEMY_SILENCE_UBER_WARNING=1 to silence this message.\u001b[0m (Background on SQLAlchemy 2.0 at: https://sqlalche.me/e/b8d9)\n",
            "  Base: DeclarativeMeta = declarative_base()\n",
            "/usr/local/lib/python3.10/dist-packages/pkg_resources/__init__.py:121: DeprecationWarning: pkg_resources is deprecated as an API\n",
            "  warnings.warn(\"pkg_resources is deprecated as an API\", DeprecationWarning)\n",
            "/usr/local/lib/python3.10/dist-packages/pkg_resources/__init__.py:2870: DeprecationWarning: Deprecated call to `pkg_resources.declare_namespace('google')`.\n",
            "Implementing implicit namespace packages (as specified in PEP 420) is preferred to `pkg_resources.declare_namespace`. See https://setuptools.pypa.io/en/latest/references/keywords.html#keyword-namespace-packages\n",
            "  declare_namespace(pkg)\n",
            "/usr/local/lib/python3.10/dist-packages/pkg_resources/__init__.py:2870: DeprecationWarning: Deprecated call to `pkg_resources.declare_namespace('google.cloud')`.\n",
            "Implementing implicit namespace packages (as specified in PEP 420) is preferred to `pkg_resources.declare_namespace`. See https://setuptools.pypa.io/en/latest/references/keywords.html#keyword-namespace-packages\n",
            "  declare_namespace(pkg)\n",
            "/usr/local/lib/python3.10/dist-packages/pkg_resources/__init__.py:2870: DeprecationWarning: Deprecated call to `pkg_resources.declare_namespace('google.logging')`.\n",
            "Implementing implicit namespace packages (as specified in PEP 420) is preferred to `pkg_resources.declare_namespace`. See https://setuptools.pypa.io/en/latest/references/keywords.html#keyword-namespace-packages\n",
            "  declare_namespace(pkg)\n",
            "/usr/local/lib/python3.10/dist-packages/pkg_resources/__init__.py:2870: DeprecationWarning: Deprecated call to `pkg_resources.declare_namespace('google.iam')`.\n",
            "Implementing implicit namespace packages (as specified in PEP 420) is preferred to `pkg_resources.declare_namespace`. See https://setuptools.pypa.io/en/latest/references/keywords.html#keyword-namespace-packages\n",
            "  declare_namespace(pkg)\n",
            "/usr/local/lib/python3.10/dist-packages/pkg_resources/__init__.py:2870: DeprecationWarning: Deprecated call to `pkg_resources.declare_namespace('mpl_toolkits')`.\n",
            "Implementing implicit namespace packages (as specified in PEP 420) is preferred to `pkg_resources.declare_namespace`. See https://setuptools.pypa.io/en/latest/references/keywords.html#keyword-namespace-packages\n",
            "  declare_namespace(pkg)\n",
            "/usr/local/lib/python3.10/dist-packages/pkg_resources/__init__.py:2870: DeprecationWarning: Deprecated call to `pkg_resources.declare_namespace('ruamel')`.\n",
            "Implementing implicit namespace packages (as specified in PEP 420) is preferred to `pkg_resources.declare_namespace`. See https://setuptools.pypa.io/en/latest/references/keywords.html#keyword-namespace-packages\n",
            "  declare_namespace(pkg)\n",
            "/usr/local/lib/python3.10/dist-packages/pkg_resources/__init__.py:2870: DeprecationWarning: Deprecated call to `pkg_resources.declare_namespace('ruamel.yaml')`.\n",
            "Implementing implicit namespace packages (as specified in PEP 420) is preferred to `pkg_resources.declare_namespace`. See https://setuptools.pypa.io/en/latest/references/keywords.html#keyword-namespace-packages\n",
            "  declare_namespace(pkg)\n",
            "/usr/local/lib/python3.10/dist-packages/pkg_resources/__init__.py:2870: DeprecationWarning: Deprecated call to `pkg_resources.declare_namespace('sphinxcontrib')`.\n",
            "Implementing implicit namespace packages (as specified in PEP 420) is preferred to `pkg_resources.declare_namespace`. See https://setuptools.pypa.io/en/latest/references/keywords.html#keyword-namespace-packages\n",
            "  declare_namespace(pkg)\n",
            "2023-07-01 08:03:06 \u001b[1;30mINFO    \u001b[0m \u001b[34mrasa.cli.train\u001b[0m  - Started validating domain and training data...\n",
            "/usr/local/lib/python3.10/dist-packages/jaxlib/xla_client.py:225: DeprecationWarning: ml_dtypes.float8_e4m3b11 is deprecated. Use ml_dtypes.float8_e4m3b11fnuz\n",
            "  float8_e4m3b11fnuz = ml_dtypes.float8_e4m3b11\n",
            "2023-07-01 08:03:08 \u001b[1;30mINFO    \u001b[0m \u001b[34mnumexpr.utils\u001b[0m  - NumExpr defaulting to 2 threads.\n",
            "\u001b[93m/usr/local/lib/python3.10/dist-packages/rasa/shared/utils/io.py:99: UserWarning: The following duplicated intents have been found across multiple domain files: faq \n",
            "The following duplicated actions have been found across multiple domain files: utter_faq\n",
            "  More info at https://rasa.com/docs/rasa/domain\n",
            "\u001b[0m2023-07-01 08:03:10 \u001b[1;30mINFO    \u001b[0m \u001b[34mrasa.validator\u001b[0m  - Validating intents...\n",
            "\u001b[93m/usr/local/lib/python3.10/dist-packages/rasa/shared/utils/io.py:99: UserWarning: The intent 'faq' is not used in any story or rule.\n",
            "\u001b[0m2023-07-01 08:03:10 \u001b[1;30mINFO    \u001b[0m \u001b[34mrasa.validator\u001b[0m  - Validating uniqueness of intents and stories...\n",
            "2023-07-01 08:03:10 \u001b[1;30mINFO    \u001b[0m \u001b[34mrasa.validator\u001b[0m  - Validating utterances...\n",
            "\u001b[93m/usr/local/lib/python3.10/dist-packages/rasa/shared/utils/io.py:99: UserWarning: The utterance 'utter_faq' is not used in any story or rule.\n",
            "\u001b[0m2023-07-01 08:03:10 \u001b[1;30mINFO    \u001b[0m \u001b[34mrasa.validator\u001b[0m  - Story structure validation...\n",
            "2023-07-01 08:03:10 \u001b[1;30mINFO    \u001b[0m \u001b[34mrasa.core.training.story_conflict\u001b[0m  - Considering all preceding turns for conflict analysis.\n",
            "2023-07-01 08:03:10 \u001b[1;30mINFO    \u001b[0m \u001b[34mrasa.validator\u001b[0m  - No story structure conflicts found.\n",
            "\u001b[93m/usr/local/lib/python3.10/dist-packages/rasa/shared/utils/io.py:99: UserWarning: The following duplicated intents have been found across multiple domain files: faq \n",
            "The following duplicated actions have been found across multiple domain files: utter_faq\n",
            "  More info at https://rasa.com/docs/rasa/domain\n",
            "\u001b[0m\u001b[93mNo stories present. Just a Rasa NLU model will be trained.\u001b[0m\n",
            "\u001b[93m/usr/local/lib/python3.10/dist-packages/rasa/engine/recipes/recipe.py:35: FutureWarning: From Rasa Open Source 4.0.0 onwards it will be required to specify a recipe in your model configuration. Defaulting to recipe 'default.v1'.\n",
            "  rasa.shared.utils.io.raise_deprecation_warning(\n",
            "\u001b[0m2023-07-01 08:03:13 \u001b[1;30mINFO    \u001b[0m \u001b[34mrasa.engine.training.hooks\u001b[0m  - Restored component 'ResponseSelector' from cache.\n",
            "\u001b[92mYour Rasa model is trained and saved at 'models/nlu-20230701-080313-graceful-silver.tar.gz'.\u001b[0m\n"
          ]
        },
        {
          "data": {
            "text/plain": []
          },
          "execution_count": 50,
          "metadata": {},
          "output_type": "execute_result"
        }
      ],
      "source": [
        "%%shell\n",
        "rasa train"
      ]
    },
    {
      "attachments": {},
      "cell_type": "markdown",
      "metadata": {
        "id": "INOT9u0xOzV0"
      },
      "source": [
        "### Test"
      ]
    },
    {
      "cell_type": "code",
      "execution_count": 51,
      "metadata": {
        "colab": {
          "base_uri": "https://localhost:8080/"
        },
        "id": "QSqBikyEOzV0",
        "outputId": "bf27504d-09fc-4a92-81d6-284eb10343b7"
      },
      "outputs": [
        {
          "name": "stdout",
          "output_type": "stream",
          "text": [
            "/usr/local/lib/python3.10/dist-packages/rasa/core/tracker_store.py:1042: MovedIn20Warning: \u001b[31mDeprecated API features detected! These feature(s) are not compatible with SQLAlchemy 2.0. \u001b[32mTo prevent incompatible upgrades prior to updating applications, ensure requirements files are pinned to \"sqlalchemy<2.0\". \u001b[36mSet environment variable SQLALCHEMY_WARN_20=1 to show all deprecation warnings.  Set environment variable SQLALCHEMY_SILENCE_UBER_WARNING=1 to silence this message.\u001b[0m (Background on SQLAlchemy 2.0 at: https://sqlalche.me/e/b8d9)\n",
            "  Base: DeclarativeMeta = declarative_base()\n",
            "/usr/local/lib/python3.10/dist-packages/pkg_resources/__init__.py:121: DeprecationWarning: pkg_resources is deprecated as an API\n",
            "  warnings.warn(\"pkg_resources is deprecated as an API\", DeprecationWarning)\n",
            "/usr/local/lib/python3.10/dist-packages/pkg_resources/__init__.py:2870: DeprecationWarning: Deprecated call to `pkg_resources.declare_namespace('google')`.\n",
            "Implementing implicit namespace packages (as specified in PEP 420) is preferred to `pkg_resources.declare_namespace`. See https://setuptools.pypa.io/en/latest/references/keywords.html#keyword-namespace-packages\n",
            "  declare_namespace(pkg)\n",
            "/usr/local/lib/python3.10/dist-packages/pkg_resources/__init__.py:2870: DeprecationWarning: Deprecated call to `pkg_resources.declare_namespace('google.cloud')`.\n",
            "Implementing implicit namespace packages (as specified in PEP 420) is preferred to `pkg_resources.declare_namespace`. See https://setuptools.pypa.io/en/latest/references/keywords.html#keyword-namespace-packages\n",
            "  declare_namespace(pkg)\n",
            "/usr/local/lib/python3.10/dist-packages/pkg_resources/__init__.py:2870: DeprecationWarning: Deprecated call to `pkg_resources.declare_namespace('google.logging')`.\n",
            "Implementing implicit namespace packages (as specified in PEP 420) is preferred to `pkg_resources.declare_namespace`. See https://setuptools.pypa.io/en/latest/references/keywords.html#keyword-namespace-packages\n",
            "  declare_namespace(pkg)\n",
            "/usr/local/lib/python3.10/dist-packages/pkg_resources/__init__.py:2870: DeprecationWarning: Deprecated call to `pkg_resources.declare_namespace('google.iam')`.\n",
            "Implementing implicit namespace packages (as specified in PEP 420) is preferred to `pkg_resources.declare_namespace`. See https://setuptools.pypa.io/en/latest/references/keywords.html#keyword-namespace-packages\n",
            "  declare_namespace(pkg)\n",
            "/usr/local/lib/python3.10/dist-packages/pkg_resources/__init__.py:2870: DeprecationWarning: Deprecated call to `pkg_resources.declare_namespace('mpl_toolkits')`.\n",
            "Implementing implicit namespace packages (as specified in PEP 420) is preferred to `pkg_resources.declare_namespace`. See https://setuptools.pypa.io/en/latest/references/keywords.html#keyword-namespace-packages\n",
            "  declare_namespace(pkg)\n",
            "/usr/local/lib/python3.10/dist-packages/pkg_resources/__init__.py:2870: DeprecationWarning: Deprecated call to `pkg_resources.declare_namespace('ruamel')`.\n",
            "Implementing implicit namespace packages (as specified in PEP 420) is preferred to `pkg_resources.declare_namespace`. See https://setuptools.pypa.io/en/latest/references/keywords.html#keyword-namespace-packages\n",
            "  declare_namespace(pkg)\n",
            "/usr/local/lib/python3.10/dist-packages/pkg_resources/__init__.py:2870: DeprecationWarning: Deprecated call to `pkg_resources.declare_namespace('ruamel.yaml')`.\n",
            "Implementing implicit namespace packages (as specified in PEP 420) is preferred to `pkg_resources.declare_namespace`. See https://setuptools.pypa.io/en/latest/references/keywords.html#keyword-namespace-packages\n",
            "  declare_namespace(pkg)\n",
            "/usr/local/lib/python3.10/dist-packages/pkg_resources/__init__.py:2870: DeprecationWarning: Deprecated call to `pkg_resources.declare_namespace('sphinxcontrib')`.\n",
            "Implementing implicit namespace packages (as specified in PEP 420) is preferred to `pkg_resources.declare_namespace`. See https://setuptools.pypa.io/en/latest/references/keywords.html#keyword-namespace-packages\n",
            "  declare_namespace(pkg)\n",
            "/usr/local/lib/python3.10/dist-packages/jaxlib/xla_client.py:225: DeprecationWarning: ml_dtypes.float8_e4m3b11 is deprecated. Use ml_dtypes.float8_e4m3b11fnuz\n",
            "  float8_e4m3b11fnuz = ml_dtypes.float8_e4m3b11\n",
            "2023-07-01 08:03:20 \u001b[1;30mINFO    \u001b[0m \u001b[34mnumexpr.utils\u001b[0m  - NumExpr defaulting to 2 threads.\n",
            "2023-07-01 08:03:22 \u001b[1;30mINFO    \u001b[0m \u001b[34mrasa.core.processor\u001b[0m  - Loading model models/nlu-20230701-080313-graceful-silver.tar.gz...\n",
            "All model checkpoint layers were used when initializing TFBertModel.\n",
            "\n",
            "All the layers of TFBertModel were initialized from the model checkpoint at rasa/LaBSE.\n",
            "If your task is similar to the task the model of the checkpoint was trained on, you can already use TFBertModel for predictions without further training.\n",
            "2023-07-01 08:03:40 \u001b[1;30mINFO    \u001b[0m \u001b[34mrasa.nlu.test\u001b[0m  - Running model for predictions:\n",
            "100% 250/250 [01:00<00:00,  4.10it/s]\n",
            "2023-07-01 08:04:41 \u001b[1;30mINFO    \u001b[0m \u001b[34mrasa.nlu.test\u001b[0m  - Response selection evaluation results:\n",
            "2023-07-01 08:04:41 \u001b[1;30mINFO    \u001b[0m \u001b[34mrasa.nlu.test\u001b[0m  - Response Selection Evaluation: Only considering those 250 examples that have a defined response out of 250 examples.\n",
            "2023-07-01 08:04:41 \u001b[1;30mINFO    \u001b[0m \u001b[34mrasa.nlu.test\u001b[0m  - Classification report saved to test_result/config/response_selection_report.json.\n",
            "2023-07-01 08:04:41 \u001b[1;30mINFO    \u001b[0m \u001b[34mrasa.nlu.test\u001b[0m  - Incorrect response predictions saved to test_result/config/response_selection_errors.json.\n",
            "/usr/local/lib/python3.10/dist-packages/jupyter_client/connect.py:28: DeprecationWarning: Jupyter is migrating its paths to use standard platformdirs\n",
            "given by the platformdirs library.  To remove this warning and\n",
            "see the appropriate new directories, set the environment variable\n",
            "`JUPYTER_PLATFORM_DIRS=1` and then run `jupyter --paths`.\n",
            "The use of platformdirs will be the default in `jupyter_core` v6\n",
            "  from jupyter_core.paths import jupyter_data_dir, jupyter_runtime_dir, secure_write\n",
            "2023-07-01 08:04:42 \u001b[1;30mINFO    \u001b[0m \u001b[34mrasa.utils.plotting\u001b[0m  - Confusion matrix, without normalization: \n",
            "[[4 0 0 ... 0 0 0]\n",
            " [0 5 0 ... 0 0 0]\n",
            " [0 0 5 ... 0 0 0]\n",
            " ...\n",
            " [0 0 0 ... 5 0 0]\n",
            " [0 0 0 ... 0 5 0]\n",
            " [0 0 0 ... 0 0 5]]\n"
          ]
        },
        {
          "data": {
            "text/plain": []
          },
          "execution_count": 51,
          "metadata": {},
          "output_type": "execute_result"
        }
      ],
      "source": [
        "%%shell\n",
        "rasa test nlu --config config.yml \\\n",
        "              --nlu test_folder/nlu_test.yml\\\n",
        "              --out test_result/config"
      ]
    },
    {
      "attachments": {},
      "cell_type": "markdown",
      "metadata": {
        "id": "tcuUYwBpOzV0"
      },
      "source": [
        "### Result"
      ]
    },
    {
      "cell_type": "code",
      "execution_count": 52,
      "metadata": {
        "colab": {
          "base_uri": "https://localhost:8080/"
        },
        "id": "sw3RiCXgOzV1",
        "outputId": "03b6037f-ad98-4799-fdf6-b5a5139e2cc5"
      },
      "outputs": [
        {
          "data": {
            "text/plain": [
              "{'Accuracy': 0.912,\n",
              " 'Precision': 0.9222857142857144,\n",
              " 'Recall': 0.912,\n",
              " 'F1 Score': 0.9089584859584859}"
            ]
          },
          "execution_count": 52,
          "metadata": {},
          "output_type": "execute_result"
        }
      ],
      "source": [
        "report_file_path =  \"test_result/config/response_selection_report.json\"\n",
        "generate_classification_metrics(report_file_path)"
      ]
    },
    {
      "cell_type": "code",
      "execution_count": 52,
      "metadata": {
        "id": "uJDDFG82OzV1"
      },
      "outputs": [],
      "source": []
    },
    {
      "attachments": {},
      "cell_type": "markdown",
      "metadata": {
        "id": "lhzzrtQeMWOx"
      },
      "source": [
        "## LabSE with 200 epochs"
      ]
    },
    {
      "attachments": {},
      "cell_type": "markdown",
      "metadata": {
        "id": "9ZHlItkXMWO8"
      },
      "source": [
        "### Configuration"
      ]
    },
    {
      "cell_type": "code",
      "execution_count": 53,
      "metadata": {
        "id": "bVyWzxnUMWO9"
      },
      "outputs": [],
      "source": [
        "generate_config_sub_intent(num_epochs=200, model_weights_name=\"rasa/LaBSE\", config_file_path = './config.yml')"
      ]
    },
    {
      "attachments": {},
      "cell_type": "markdown",
      "metadata": {
        "id": "SCWbFn_1MWO9"
      },
      "source": [
        "### Train"
      ]
    },
    {
      "cell_type": "code",
      "execution_count": 54,
      "metadata": {
        "colab": {
          "base_uri": "https://localhost:8080/"
        },
        "id": "5blmWcaYMWO9",
        "outputId": "753e76b2-2b16-4479-d188-e69248b6ff7e"
      },
      "outputs": [
        {
          "name": "stdout",
          "output_type": "stream",
          "text": [
            "/usr/local/lib/python3.10/dist-packages/rasa/core/tracker_store.py:1042: MovedIn20Warning: \u001b[31mDeprecated API features detected! These feature(s) are not compatible with SQLAlchemy 2.0. \u001b[32mTo prevent incompatible upgrades prior to updating applications, ensure requirements files are pinned to \"sqlalchemy<2.0\". \u001b[36mSet environment variable SQLALCHEMY_WARN_20=1 to show all deprecation warnings.  Set environment variable SQLALCHEMY_SILENCE_UBER_WARNING=1 to silence this message.\u001b[0m (Background on SQLAlchemy 2.0 at: https://sqlalche.me/e/b8d9)\n",
            "  Base: DeclarativeMeta = declarative_base()\n",
            "/usr/local/lib/python3.10/dist-packages/pkg_resources/__init__.py:121: DeprecationWarning: pkg_resources is deprecated as an API\n",
            "  warnings.warn(\"pkg_resources is deprecated as an API\", DeprecationWarning)\n",
            "/usr/local/lib/python3.10/dist-packages/pkg_resources/__init__.py:2870: DeprecationWarning: Deprecated call to `pkg_resources.declare_namespace('google')`.\n",
            "Implementing implicit namespace packages (as specified in PEP 420) is preferred to `pkg_resources.declare_namespace`. See https://setuptools.pypa.io/en/latest/references/keywords.html#keyword-namespace-packages\n",
            "  declare_namespace(pkg)\n",
            "/usr/local/lib/python3.10/dist-packages/pkg_resources/__init__.py:2870: DeprecationWarning: Deprecated call to `pkg_resources.declare_namespace('google.cloud')`.\n",
            "Implementing implicit namespace packages (as specified in PEP 420) is preferred to `pkg_resources.declare_namespace`. See https://setuptools.pypa.io/en/latest/references/keywords.html#keyword-namespace-packages\n",
            "  declare_namespace(pkg)\n",
            "/usr/local/lib/python3.10/dist-packages/pkg_resources/__init__.py:2870: DeprecationWarning: Deprecated call to `pkg_resources.declare_namespace('google.logging')`.\n",
            "Implementing implicit namespace packages (as specified in PEP 420) is preferred to `pkg_resources.declare_namespace`. See https://setuptools.pypa.io/en/latest/references/keywords.html#keyword-namespace-packages\n",
            "  declare_namespace(pkg)\n",
            "/usr/local/lib/python3.10/dist-packages/pkg_resources/__init__.py:2870: DeprecationWarning: Deprecated call to `pkg_resources.declare_namespace('google.iam')`.\n",
            "Implementing implicit namespace packages (as specified in PEP 420) is preferred to `pkg_resources.declare_namespace`. See https://setuptools.pypa.io/en/latest/references/keywords.html#keyword-namespace-packages\n",
            "  declare_namespace(pkg)\n",
            "/usr/local/lib/python3.10/dist-packages/pkg_resources/__init__.py:2870: DeprecationWarning: Deprecated call to `pkg_resources.declare_namespace('mpl_toolkits')`.\n",
            "Implementing implicit namespace packages (as specified in PEP 420) is preferred to `pkg_resources.declare_namespace`. See https://setuptools.pypa.io/en/latest/references/keywords.html#keyword-namespace-packages\n",
            "  declare_namespace(pkg)\n",
            "/usr/local/lib/python3.10/dist-packages/pkg_resources/__init__.py:2870: DeprecationWarning: Deprecated call to `pkg_resources.declare_namespace('ruamel')`.\n",
            "Implementing implicit namespace packages (as specified in PEP 420) is preferred to `pkg_resources.declare_namespace`. See https://setuptools.pypa.io/en/latest/references/keywords.html#keyword-namespace-packages\n",
            "  declare_namespace(pkg)\n",
            "/usr/local/lib/python3.10/dist-packages/pkg_resources/__init__.py:2870: DeprecationWarning: Deprecated call to `pkg_resources.declare_namespace('ruamel.yaml')`.\n",
            "Implementing implicit namespace packages (as specified in PEP 420) is preferred to `pkg_resources.declare_namespace`. See https://setuptools.pypa.io/en/latest/references/keywords.html#keyword-namespace-packages\n",
            "  declare_namespace(pkg)\n",
            "/usr/local/lib/python3.10/dist-packages/pkg_resources/__init__.py:2870: DeprecationWarning: Deprecated call to `pkg_resources.declare_namespace('sphinxcontrib')`.\n",
            "Implementing implicit namespace packages (as specified in PEP 420) is preferred to `pkg_resources.declare_namespace`. See https://setuptools.pypa.io/en/latest/references/keywords.html#keyword-namespace-packages\n",
            "  declare_namespace(pkg)\n",
            "2023-07-01 08:07:33 \u001b[1;30mINFO    \u001b[0m \u001b[34mrasa.cli.train\u001b[0m  - Started validating domain and training data...\n",
            "/usr/local/lib/python3.10/dist-packages/jaxlib/xla_client.py:225: DeprecationWarning: ml_dtypes.float8_e4m3b11 is deprecated. Use ml_dtypes.float8_e4m3b11fnuz\n",
            "  float8_e4m3b11fnuz = ml_dtypes.float8_e4m3b11\n",
            "2023-07-01 08:07:36 \u001b[1;30mINFO    \u001b[0m \u001b[34mnumexpr.utils\u001b[0m  - NumExpr defaulting to 2 threads.\n",
            "\u001b[93m/usr/local/lib/python3.10/dist-packages/rasa/shared/utils/io.py:99: UserWarning: The following duplicated intents have been found across multiple domain files: faq \n",
            "The following duplicated actions have been found across multiple domain files: utter_faq\n",
            "  More info at https://rasa.com/docs/rasa/domain\n",
            "\u001b[0m2023-07-01 08:07:38 \u001b[1;30mINFO    \u001b[0m \u001b[34mrasa.validator\u001b[0m  - Validating intents...\n",
            "\u001b[93m/usr/local/lib/python3.10/dist-packages/rasa/shared/utils/io.py:99: UserWarning: The intent 'faq' is not used in any story or rule.\n",
            "\u001b[0m2023-07-01 08:07:38 \u001b[1;30mINFO    \u001b[0m \u001b[34mrasa.validator\u001b[0m  - Validating uniqueness of intents and stories...\n",
            "2023-07-01 08:07:38 \u001b[1;30mINFO    \u001b[0m \u001b[34mrasa.validator\u001b[0m  - Validating utterances...\n",
            "\u001b[93m/usr/local/lib/python3.10/dist-packages/rasa/shared/utils/io.py:99: UserWarning: The utterance 'utter_faq' is not used in any story or rule.\n",
            "\u001b[0m2023-07-01 08:07:38 \u001b[1;30mINFO    \u001b[0m \u001b[34mrasa.validator\u001b[0m  - Story structure validation...\n",
            "2023-07-01 08:07:38 \u001b[1;30mINFO    \u001b[0m \u001b[34mrasa.core.training.story_conflict\u001b[0m  - Considering all preceding turns for conflict analysis.\n",
            "2023-07-01 08:07:38 \u001b[1;30mINFO    \u001b[0m \u001b[34mrasa.validator\u001b[0m  - No story structure conflicts found.\n",
            "\u001b[93m/usr/local/lib/python3.10/dist-packages/rasa/shared/utils/io.py:99: UserWarning: The following duplicated intents have been found across multiple domain files: faq \n",
            "The following duplicated actions have been found across multiple domain files: utter_faq\n",
            "  More info at https://rasa.com/docs/rasa/domain\n",
            "\u001b[0m\u001b[93mNo stories present. Just a Rasa NLU model will be trained.\u001b[0m\n",
            "\u001b[93m/usr/local/lib/python3.10/dist-packages/rasa/engine/recipes/recipe.py:35: FutureWarning: From Rasa Open Source 4.0.0 onwards it will be required to specify a recipe in your model configuration. Defaulting to recipe 'default.v1'.\n",
            "  rasa.shared.utils.io.raise_deprecation_warning(\n",
            "\u001b[0m2023-07-01 08:07:42 \u001b[1;30mINFO    \u001b[0m \u001b[34mrasa.engine.training.hooks\u001b[0m  - Restored component 'ResponseSelector' from cache.\n",
            "\u001b[92mYour Rasa model is trained and saved at 'models/nlu-20230701-080741-soluble-couch.tar.gz'.\u001b[0m\n"
          ]
        },
        {
          "data": {
            "text/plain": []
          },
          "execution_count": 54,
          "metadata": {},
          "output_type": "execute_result"
        }
      ],
      "source": [
        "%%shell\n",
        "rasa train"
      ]
    },
    {
      "attachments": {},
      "cell_type": "markdown",
      "metadata": {
        "id": "KLLKeUrKMWO9"
      },
      "source": [
        "### Test"
      ]
    },
    {
      "cell_type": "code",
      "execution_count": 55,
      "metadata": {
        "colab": {
          "base_uri": "https://localhost:8080/"
        },
        "id": "PXm79O7aMWO9",
        "outputId": "83b246a4-907c-4b2d-a188-d4963efc70f2"
      },
      "outputs": [
        {
          "name": "stdout",
          "output_type": "stream",
          "text": [
            "/usr/local/lib/python3.10/dist-packages/rasa/core/tracker_store.py:1042: MovedIn20Warning: \u001b[31mDeprecated API features detected! These feature(s) are not compatible with SQLAlchemy 2.0. \u001b[32mTo prevent incompatible upgrades prior to updating applications, ensure requirements files are pinned to \"sqlalchemy<2.0\". \u001b[36mSet environment variable SQLALCHEMY_WARN_20=1 to show all deprecation warnings.  Set environment variable SQLALCHEMY_SILENCE_UBER_WARNING=1 to silence this message.\u001b[0m (Background on SQLAlchemy 2.0 at: https://sqlalche.me/e/b8d9)\n",
            "  Base: DeclarativeMeta = declarative_base()\n",
            "/usr/local/lib/python3.10/dist-packages/pkg_resources/__init__.py:121: DeprecationWarning: pkg_resources is deprecated as an API\n",
            "  warnings.warn(\"pkg_resources is deprecated as an API\", DeprecationWarning)\n",
            "/usr/local/lib/python3.10/dist-packages/pkg_resources/__init__.py:2870: DeprecationWarning: Deprecated call to `pkg_resources.declare_namespace('google')`.\n",
            "Implementing implicit namespace packages (as specified in PEP 420) is preferred to `pkg_resources.declare_namespace`. See https://setuptools.pypa.io/en/latest/references/keywords.html#keyword-namespace-packages\n",
            "  declare_namespace(pkg)\n",
            "/usr/local/lib/python3.10/dist-packages/pkg_resources/__init__.py:2870: DeprecationWarning: Deprecated call to `pkg_resources.declare_namespace('google.cloud')`.\n",
            "Implementing implicit namespace packages (as specified in PEP 420) is preferred to `pkg_resources.declare_namespace`. See https://setuptools.pypa.io/en/latest/references/keywords.html#keyword-namespace-packages\n",
            "  declare_namespace(pkg)\n",
            "/usr/local/lib/python3.10/dist-packages/pkg_resources/__init__.py:2870: DeprecationWarning: Deprecated call to `pkg_resources.declare_namespace('google.logging')`.\n",
            "Implementing implicit namespace packages (as specified in PEP 420) is preferred to `pkg_resources.declare_namespace`. See https://setuptools.pypa.io/en/latest/references/keywords.html#keyword-namespace-packages\n",
            "  declare_namespace(pkg)\n",
            "/usr/local/lib/python3.10/dist-packages/pkg_resources/__init__.py:2870: DeprecationWarning: Deprecated call to `pkg_resources.declare_namespace('google.iam')`.\n",
            "Implementing implicit namespace packages (as specified in PEP 420) is preferred to `pkg_resources.declare_namespace`. See https://setuptools.pypa.io/en/latest/references/keywords.html#keyword-namespace-packages\n",
            "  declare_namespace(pkg)\n",
            "/usr/local/lib/python3.10/dist-packages/pkg_resources/__init__.py:2870: DeprecationWarning: Deprecated call to `pkg_resources.declare_namespace('mpl_toolkits')`.\n",
            "Implementing implicit namespace packages (as specified in PEP 420) is preferred to `pkg_resources.declare_namespace`. See https://setuptools.pypa.io/en/latest/references/keywords.html#keyword-namespace-packages\n",
            "  declare_namespace(pkg)\n",
            "/usr/local/lib/python3.10/dist-packages/pkg_resources/__init__.py:2870: DeprecationWarning: Deprecated call to `pkg_resources.declare_namespace('ruamel')`.\n",
            "Implementing implicit namespace packages (as specified in PEP 420) is preferred to `pkg_resources.declare_namespace`. See https://setuptools.pypa.io/en/latest/references/keywords.html#keyword-namespace-packages\n",
            "  declare_namespace(pkg)\n",
            "/usr/local/lib/python3.10/dist-packages/pkg_resources/__init__.py:2870: DeprecationWarning: Deprecated call to `pkg_resources.declare_namespace('ruamel.yaml')`.\n",
            "Implementing implicit namespace packages (as specified in PEP 420) is preferred to `pkg_resources.declare_namespace`. See https://setuptools.pypa.io/en/latest/references/keywords.html#keyword-namespace-packages\n",
            "  declare_namespace(pkg)\n",
            "/usr/local/lib/python3.10/dist-packages/pkg_resources/__init__.py:2870: DeprecationWarning: Deprecated call to `pkg_resources.declare_namespace('sphinxcontrib')`.\n",
            "Implementing implicit namespace packages (as specified in PEP 420) is preferred to `pkg_resources.declare_namespace`. See https://setuptools.pypa.io/en/latest/references/keywords.html#keyword-namespace-packages\n",
            "  declare_namespace(pkg)\n",
            "/usr/local/lib/python3.10/dist-packages/jaxlib/xla_client.py:225: DeprecationWarning: ml_dtypes.float8_e4m3b11 is deprecated. Use ml_dtypes.float8_e4m3b11fnuz\n",
            "  float8_e4m3b11fnuz = ml_dtypes.float8_e4m3b11\n",
            "2023-07-01 08:07:47 \u001b[1;30mINFO    \u001b[0m \u001b[34mnumexpr.utils\u001b[0m  - NumExpr defaulting to 2 threads.\n",
            "2023-07-01 08:07:49 \u001b[1;30mINFO    \u001b[0m \u001b[34mrasa.core.processor\u001b[0m  - Loading model models/nlu-20230701-080741-soluble-couch.tar.gz...\n",
            "All model checkpoint layers were used when initializing TFBertModel.\n",
            "\n",
            "All the layers of TFBertModel were initialized from the model checkpoint at rasa/LaBSE.\n",
            "If your task is similar to the task the model of the checkpoint was trained on, you can already use TFBertModel for predictions without further training.\n",
            "2023-07-01 08:08:08 \u001b[1;30mINFO    \u001b[0m \u001b[34mrasa.nlu.test\u001b[0m  - Running model for predictions:\n",
            "100% 250/250 [00:59<00:00,  4.24it/s]\n",
            "2023-07-01 08:09:07 \u001b[1;30mINFO    \u001b[0m \u001b[34mrasa.nlu.test\u001b[0m  - Response selection evaluation results:\n",
            "2023-07-01 08:09:07 \u001b[1;30mINFO    \u001b[0m \u001b[34mrasa.nlu.test\u001b[0m  - Response Selection Evaluation: Only considering those 250 examples that have a defined response out of 250 examples.\n",
            "2023-07-01 08:09:07 \u001b[1;30mINFO    \u001b[0m \u001b[34mrasa.nlu.test\u001b[0m  - Classification report saved to test_result/config/response_selection_report.json.\n",
            "2023-07-01 08:09:07 \u001b[1;30mINFO    \u001b[0m \u001b[34mrasa.nlu.test\u001b[0m  - Incorrect response predictions saved to test_result/config/response_selection_errors.json.\n",
            "/usr/local/lib/python3.10/dist-packages/jupyter_client/connect.py:28: DeprecationWarning: Jupyter is migrating its paths to use standard platformdirs\n",
            "given by the platformdirs library.  To remove this warning and\n",
            "see the appropriate new directories, set the environment variable\n",
            "`JUPYTER_PLATFORM_DIRS=1` and then run `jupyter --paths`.\n",
            "The use of platformdirs will be the default in `jupyter_core` v6\n",
            "  from jupyter_core.paths import jupyter_data_dir, jupyter_runtime_dir, secure_write\n",
            "2023-07-01 08:09:09 \u001b[1;30mINFO    \u001b[0m \u001b[34mrasa.utils.plotting\u001b[0m  - Confusion matrix, without normalization: \n",
            "[[4 0 0 ... 0 0 0]\n",
            " [0 5 0 ... 0 0 0]\n",
            " [0 0 5 ... 0 0 0]\n",
            " ...\n",
            " [0 0 0 ... 5 0 0]\n",
            " [0 0 0 ... 0 5 0]\n",
            " [0 0 0 ... 0 0 4]]\n"
          ]
        },
        {
          "data": {
            "text/plain": []
          },
          "execution_count": 55,
          "metadata": {},
          "output_type": "execute_result"
        }
      ],
      "source": [
        "%%shell\n",
        "rasa test nlu --config config.yml \\\n",
        "              --nlu test_folder/nlu_test.yml\\\n",
        "              --out test_result/config"
      ]
    },
    {
      "attachments": {},
      "cell_type": "markdown",
      "metadata": {
        "id": "tA5FY_qPMWO9"
      },
      "source": [
        "### Result"
      ]
    },
    {
      "cell_type": "code",
      "execution_count": 56,
      "metadata": {
        "colab": {
          "base_uri": "https://localhost:8080/"
        },
        "id": "hlG54KbyMWO9",
        "outputId": "a8f10baa-2938-4284-a588-d38d3b57a6b7"
      },
      "outputs": [
        {
          "data": {
            "text/plain": [
              "{'Accuracy': 0.916,\n",
              " 'Precision': 0.923,\n",
              " 'Recall': 0.916,\n",
              " 'F1 Score': 0.9143636363636364}"
            ]
          },
          "execution_count": 56,
          "metadata": {},
          "output_type": "execute_result"
        }
      ],
      "source": [
        "report_file_path =  \"test_result/config/response_selection_report.json\"\n",
        "generate_classification_metrics(report_file_path)"
      ]
    },
    {
      "cell_type": "code",
      "execution_count": 56,
      "metadata": {
        "id": "35WvOLd4MOC1"
      },
      "outputs": [],
      "source": []
    },
    {
      "attachments": {},
      "cell_type": "markdown",
      "metadata": {
        "id": "6bV2Cv28g3w4"
      },
      "source": [
        "# Multi-intent Scenario"
      ]
    },
    {
      "cell_type": "code",
      "execution_count": 30,
      "metadata": {
        "colab": {
          "base_uri": "https://localhost:8080/"
        },
        "id": "IIgyu2Ugg3xF",
        "outputId": "88e6130d-ca6d-4c9d-c6f4-63b27cdce65e"
      },
      "outputs": [
        {
          "name": "stdout",
          "output_type": "stream",
          "text": [
            "/content/drive/MyDrive/NLP/CA6/multi_intent_folder\n"
          ]
        }
      ],
      "source": [
        "# !mkdir -p multi_intent_folder\n",
        "%cd ./multi_intent_folder\n",
        "\n",
        "\n",
        "# create a folder for test\n",
        "# ! mkdir -p test_folder"
      ]
    },
    {
      "cell_type": "code",
      "execution_count": 35,
      "metadata": {
        "colab": {
          "base_uri": "https://localhost:8080/",
          "height": 35
        },
        "id": "G2CRU1hwvpv3",
        "outputId": "4c57b50f-db2d-4b64-fc67-6080f0ad076e"
      },
      "outputs": [
        {
          "data": {
            "application/vnd.google.colaboratory.intrinsic+json": {
              "type": "string"
            },
            "text/plain": [
              "'/content/drive/MyDrive/NLP/CA6/multi_intent_folder'"
            ]
          },
          "execution_count": 35,
          "metadata": {},
          "output_type": "execute_result"
        }
      ],
      "source": [
        "%pwd"
      ]
    },
    {
      "attachments": {},
      "cell_type": "markdown",
      "metadata": {
        "id": "EaeCS4zYg3xG"
      },
      "source": [
        "Initializ a new Rasa project without interactive prompts"
      ]
    },
    {
      "cell_type": "code",
      "execution_count": 36,
      "metadata": {
        "colab": {
          "base_uri": "https://localhost:8080/"
        },
        "id": "AuDe-H0Wg3xG",
        "outputId": "e24e41d5-5220-49ea-d337-c79c2c32fd49"
      },
      "outputs": [
        {
          "name": "stdout",
          "output_type": "stream",
          "text": [
            "/usr/local/lib/python3.10/dist-packages/rasa/core/tracker_store.py:1042: MovedIn20Warning: \u001b[31mDeprecated API features detected! These feature(s) are not compatible with SQLAlchemy 2.0. \u001b[32mTo prevent incompatible upgrades prior to updating applications, ensure requirements files are pinned to \"sqlalchemy<2.0\". \u001b[36mSet environment variable SQLALCHEMY_WARN_20=1 to show all deprecation warnings.  Set environment variable SQLALCHEMY_SILENCE_UBER_WARNING=1 to silence this message.\u001b[0m (Background on SQLAlchemy 2.0 at: https://sqlalche.me/e/b8d9)\n",
            "  Base: DeclarativeMeta = declarative_base()\n",
            "/usr/local/lib/python3.10/dist-packages/pkg_resources/__init__.py:121: DeprecationWarning: pkg_resources is deprecated as an API\n",
            "  warnings.warn(\"pkg_resources is deprecated as an API\", DeprecationWarning)\n",
            "/usr/local/lib/python3.10/dist-packages/pkg_resources/__init__.py:2870: DeprecationWarning: Deprecated call to `pkg_resources.declare_namespace('google')`.\n",
            "Implementing implicit namespace packages (as specified in PEP 420) is preferred to `pkg_resources.declare_namespace`. See https://setuptools.pypa.io/en/latest/references/keywords.html#keyword-namespace-packages\n",
            "  declare_namespace(pkg)\n",
            "/usr/local/lib/python3.10/dist-packages/pkg_resources/__init__.py:2870: DeprecationWarning: Deprecated call to `pkg_resources.declare_namespace('google.cloud')`.\n",
            "Implementing implicit namespace packages (as specified in PEP 420) is preferred to `pkg_resources.declare_namespace`. See https://setuptools.pypa.io/en/latest/references/keywords.html#keyword-namespace-packages\n",
            "  declare_namespace(pkg)\n",
            "/usr/local/lib/python3.10/dist-packages/pkg_resources/__init__.py:2870: DeprecationWarning: Deprecated call to `pkg_resources.declare_namespace('google.logging')`.\n",
            "Implementing implicit namespace packages (as specified in PEP 420) is preferred to `pkg_resources.declare_namespace`. See https://setuptools.pypa.io/en/latest/references/keywords.html#keyword-namespace-packages\n",
            "  declare_namespace(pkg)\n",
            "/usr/local/lib/python3.10/dist-packages/pkg_resources/__init__.py:2870: DeprecationWarning: Deprecated call to `pkg_resources.declare_namespace('google.iam')`.\n",
            "Implementing implicit namespace packages (as specified in PEP 420) is preferred to `pkg_resources.declare_namespace`. See https://setuptools.pypa.io/en/latest/references/keywords.html#keyword-namespace-packages\n",
            "  declare_namespace(pkg)\n",
            "/usr/local/lib/python3.10/dist-packages/pkg_resources/__init__.py:2870: DeprecationWarning: Deprecated call to `pkg_resources.declare_namespace('mpl_toolkits')`.\n",
            "Implementing implicit namespace packages (as specified in PEP 420) is preferred to `pkg_resources.declare_namespace`. See https://setuptools.pypa.io/en/latest/references/keywords.html#keyword-namespace-packages\n",
            "  declare_namespace(pkg)\n",
            "/usr/local/lib/python3.10/dist-packages/pkg_resources/__init__.py:2870: DeprecationWarning: Deprecated call to `pkg_resources.declare_namespace('ruamel')`.\n",
            "Implementing implicit namespace packages (as specified in PEP 420) is preferred to `pkg_resources.declare_namespace`. See https://setuptools.pypa.io/en/latest/references/keywords.html#keyword-namespace-packages\n",
            "  declare_namespace(pkg)\n",
            "/usr/local/lib/python3.10/dist-packages/pkg_resources/__init__.py:2870: DeprecationWarning: Deprecated call to `pkg_resources.declare_namespace('ruamel.yaml')`.\n",
            "Implementing implicit namespace packages (as specified in PEP 420) is preferred to `pkg_resources.declare_namespace`. See https://setuptools.pypa.io/en/latest/references/keywords.html#keyword-namespace-packages\n",
            "  declare_namespace(pkg)\n",
            "/usr/local/lib/python3.10/dist-packages/pkg_resources/__init__.py:2870: DeprecationWarning: Deprecated call to `pkg_resources.declare_namespace('sphinxcontrib')`.\n",
            "Implementing implicit namespace packages (as specified in PEP 420) is preferred to `pkg_resources.declare_namespace`. See https://setuptools.pypa.io/en/latest/references/keywords.html#keyword-namespace-packages\n",
            "  declare_namespace(pkg)\n",
            "\u001b[92mWelcome to Rasa! 🤖\n",
            "\u001b[0m\n",
            "To get started quickly, an initial project will be created.\n",
            "If you need some help, check out the documentation at https://rasa.com/docs/rasa.\n",
            "\n",
            "2023-07-01 09:40:45 \u001b[1;30mINFO    \u001b[0m \u001b[34mroot\u001b[0m  - copying /usr/local/lib/python3.10/dist-packages/rasa/cli/initial_project/config.yml -> .\n",
            "2023-07-01 09:40:45 \u001b[1;30mINFO    \u001b[0m \u001b[34mroot\u001b[0m  - copying /usr/local/lib/python3.10/dist-packages/rasa/cli/initial_project/domain.yml -> .\n",
            "2023-07-01 09:40:45 \u001b[1;30mINFO    \u001b[0m \u001b[34mroot\u001b[0m  - copying /usr/local/lib/python3.10/dist-packages/rasa/cli/initial_project/endpoints.yml -> .\n",
            "2023-07-01 09:40:45 \u001b[1;30mINFO    \u001b[0m \u001b[34mroot\u001b[0m  - creating actions\n",
            "2023-07-01 09:40:45 \u001b[1;30mINFO    \u001b[0m \u001b[34mroot\u001b[0m  - copying /usr/local/lib/python3.10/dist-packages/rasa/cli/initial_project/actions/__init__.py -> ./actions\n",
            "2023-07-01 09:40:45 \u001b[1;30mINFO    \u001b[0m \u001b[34mroot\u001b[0m  - copying /usr/local/lib/python3.10/dist-packages/rasa/cli/initial_project/actions/actions.py -> ./actions\n",
            "2023-07-01 09:40:45 \u001b[1;30mINFO    \u001b[0m \u001b[34mroot\u001b[0m  - creating actions/__pycache__\n",
            "2023-07-01 09:40:45 \u001b[1;30mINFO    \u001b[0m \u001b[34mroot\u001b[0m  - copying /usr/local/lib/python3.10/dist-packages/rasa/cli/initial_project/actions/__pycache__/__init__.cpython-310.pyc -> ./actions/__pycache__\n",
            "2023-07-01 09:40:46 \u001b[1;30mINFO    \u001b[0m \u001b[34mroot\u001b[0m  - copying /usr/local/lib/python3.10/dist-packages/rasa/cli/initial_project/actions/__pycache__/actions.cpython-310.pyc -> ./actions/__pycache__\n",
            "2023-07-01 09:40:46 \u001b[1;30mINFO    \u001b[0m \u001b[34mroot\u001b[0m  - copying /usr/local/lib/python3.10/dist-packages/rasa/cli/initial_project/credentials.yml -> .\n",
            "2023-07-01 09:40:46 \u001b[1;30mINFO    \u001b[0m \u001b[34mroot\u001b[0m  - creating tests\n",
            "2023-07-01 09:40:46 \u001b[1;30mINFO    \u001b[0m \u001b[34mroot\u001b[0m  - copying /usr/local/lib/python3.10/dist-packages/rasa/cli/initial_project/tests/test_stories.yml -> ./tests\n",
            "2023-07-01 09:40:46 \u001b[1;30mINFO    \u001b[0m \u001b[34mroot\u001b[0m  - creating data\n",
            "2023-07-01 09:40:46 \u001b[1;30mINFO    \u001b[0m \u001b[34mroot\u001b[0m  - copying /usr/local/lib/python3.10/dist-packages/rasa/cli/initial_project/data/rules.yml -> ./data\n",
            "2023-07-01 09:40:46 \u001b[1;30mINFO    \u001b[0m \u001b[34mroot\u001b[0m  - copying /usr/local/lib/python3.10/dist-packages/rasa/cli/initial_project/data/stories.yml -> ./data\n",
            "2023-07-01 09:40:46 \u001b[1;30mINFO    \u001b[0m \u001b[34mroot\u001b[0m  - copying /usr/local/lib/python3.10/dist-packages/rasa/cli/initial_project/data/nlu.yml -> ./data\n",
            "Created project directory at '/content/drive/MyDrive/NLP/CA6/multi_intent_folder'.\n",
            "\u001b[92mFinished creating project structure.\u001b[0m\n",
            "\u001b[92mTraining an initial model...\u001b[0m\n",
            "/usr/local/lib/python3.10/dist-packages/jaxlib/xla_client.py:225: DeprecationWarning: ml_dtypes.float8_e4m3b11 is deprecated. Use ml_dtypes.float8_e4m3b11fnuz\n",
            "  float8_e4m3b11fnuz = ml_dtypes.float8_e4m3b11\n",
            "2023-07-01 09:40:48 \u001b[1;30mINFO    \u001b[0m \u001b[34mnumexpr.utils\u001b[0m  - NumExpr defaulting to 2 threads.\n",
            "\u001b[94mThe configuration for pipeline and policies was chosen automatically. It was written into the config file at 'config.yml'.\u001b[0m\n",
            "2023-07-01 09:40:52 \u001b[1;30mINFO    \u001b[0m \u001b[34mrasa.engine.training.hooks\u001b[0m  - Starting to train component 'RegexFeaturizer'.\n",
            "2023-07-01 09:40:52 \u001b[1;30mINFO    \u001b[0m \u001b[34mrasa.engine.training.hooks\u001b[0m  - Finished training component 'RegexFeaturizer'.\n",
            "2023-07-01 09:40:52 \u001b[1;30mINFO    \u001b[0m \u001b[34mrasa.engine.training.hooks\u001b[0m  - Starting to train component 'LexicalSyntacticFeaturizer'.\n",
            "2023-07-01 09:40:52 \u001b[1;30mINFO    \u001b[0m \u001b[34mrasa.engine.training.hooks\u001b[0m  - Finished training component 'LexicalSyntacticFeaturizer'.\n",
            "2023-07-01 09:40:52 \u001b[1;30mINFO    \u001b[0m \u001b[34mrasa.engine.training.hooks\u001b[0m  - Starting to train component 'CountVectorsFeaturizer'.\n",
            "2023-07-01 09:40:52 \u001b[1;30mINFO    \u001b[0m \u001b[34mrasa.nlu.featurizers.sparse_featurizer.count_vectors_featurizer\u001b[0m  - 80 vocabulary items were created for text attribute.\n",
            "2023-07-01 09:40:52 \u001b[1;30mINFO    \u001b[0m \u001b[34mrasa.engine.training.hooks\u001b[0m  - Finished training component 'CountVectorsFeaturizer'.\n",
            "2023-07-01 09:40:52 \u001b[1;30mINFO    \u001b[0m \u001b[34mrasa.engine.training.hooks\u001b[0m  - Starting to train component 'CountVectorsFeaturizer'.\n",
            "2023-07-01 09:40:52 \u001b[1;30mINFO    \u001b[0m \u001b[34mrasa.nlu.featurizers.sparse_featurizer.count_vectors_featurizer\u001b[0m  - 697 vocabulary items were created for text attribute.\n",
            "2023-07-01 09:40:52 \u001b[1;30mINFO    \u001b[0m \u001b[34mrasa.engine.training.hooks\u001b[0m  - Finished training component 'CountVectorsFeaturizer'.\n",
            "2023-07-01 09:40:53 \u001b[1;30mINFO    \u001b[0m \u001b[34mrasa.engine.training.hooks\u001b[0m  - Starting to train component 'DIETClassifier'.\n",
            "Epochs: 100% 100/100 [00:28<00:00,  3.50it/s, t_loss=1.14, i_acc=1]\n",
            "2023-07-01 09:41:27 \u001b[1;30mINFO    \u001b[0m \u001b[34mrasa.engine.training.hooks\u001b[0m  - Finished training component 'DIETClassifier'.\n",
            "2023-07-01 09:41:27 \u001b[1;30mINFO    \u001b[0m \u001b[34mrasa.engine.training.hooks\u001b[0m  - Starting to train component 'EntitySynonymMapper'.\n",
            "2023-07-01 09:41:27 \u001b[1;30mINFO    \u001b[0m \u001b[34mrasa.engine.training.hooks\u001b[0m  - Finished training component 'EntitySynonymMapper'.\n",
            "2023-07-01 09:41:27 \u001b[1;30mINFO    \u001b[0m \u001b[34mrasa.engine.training.hooks\u001b[0m  - Starting to train component 'ResponseSelector'.\n",
            "2023-07-01 09:41:27 \u001b[1;30mINFO    \u001b[0m \u001b[34mrasa.nlu.selectors.response_selector\u001b[0m  - Retrieval intent parameter was left to its default value. This response selector will be trained on training examples combining all retrieval intents.\n",
            "2023-07-01 09:41:27 \u001b[1;30mINFO    \u001b[0m \u001b[34mrasa.engine.training.hooks\u001b[0m  - Finished training component 'ResponseSelector'.\n",
            "Processed story blocks: 100% 3/3 [00:00<00:00, 2642.36it/s, # trackers=1]\n",
            "Processed story blocks: 100% 3/3 [00:00<00:00, 1244.23it/s, # trackers=3]\n",
            "Processed story blocks: 100% 3/3 [00:00<00:00, 349.88it/s, # trackers=12]\n",
            "Processed story blocks: 100% 3/3 [00:00<00:00, 84.91it/s, # trackers=39]\n",
            "Processed rules: 100% 2/2 [00:00<00:00, 3583.34it/s, # trackers=1]\n",
            "2023-07-01 09:41:28 \u001b[1;30mINFO    \u001b[0m \u001b[34mrasa.engine.training.hooks\u001b[0m  - Starting to train component 'MemoizationPolicy'.\n",
            "Processed trackers: 100% 3/3 [00:00<00:00, 2294.90it/s, # action=12]\n",
            "Processed actions: 12it [00:00, 8854.97it/s, # examples=12]\n",
            "2023-07-01 09:41:28 \u001b[1;30mINFO    \u001b[0m \u001b[34mrasa.engine.training.hooks\u001b[0m  - Finished training component 'MemoizationPolicy'.\n",
            "2023-07-01 09:41:28 \u001b[1;30mINFO    \u001b[0m \u001b[34mrasa.engine.training.hooks\u001b[0m  - Starting to train component 'RulePolicy'.\n",
            "Processed trackers: 100% 2/2 [00:00<00:00, 2047.50it/s, # action=5]\n",
            "Processed actions: 5it [00:00, 15557.51it/s, # examples=4]\n",
            "Processed trackers: 100% 3/3 [00:00<00:00, 2542.00it/s, # action=12]\n",
            "Processed trackers: 100% 2/2 [00:00<00:00, 2024.28it/s]\n",
            "Processed trackers: 100% 5/5 [00:00<00:00, 1098.85it/s]\n",
            "2023-07-01 09:41:28 \u001b[1;30mINFO    \u001b[0m \u001b[34mrasa.engine.training.hooks\u001b[0m  - Finished training component 'RulePolicy'.\n",
            "2023-07-01 09:41:28 \u001b[1;30mINFO    \u001b[0m \u001b[34mrasa.engine.training.hooks\u001b[0m  - Starting to train component 'TEDPolicy'.\n",
            "Processed trackers: 100% 120/120 [00:00<00:00, 2719.23it/s, # action=30]\n",
            "Epochs: 100% 100/100 [00:27<00:00,  3.59it/s, t_loss=0.933, loss=0.77, acc=1]\n",
            "2023-07-01 09:41:57 \u001b[1;30mINFO    \u001b[0m \u001b[34mrasa.engine.training.hooks\u001b[0m  - Finished training component 'TEDPolicy'.\n",
            "2023-07-01 09:41:57 \u001b[1;30mINFO    \u001b[0m \u001b[34mrasa.engine.training.hooks\u001b[0m  - Starting to train component 'UnexpecTEDIntentPolicy'.\n",
            "2023-07-01 09:41:57 \u001b[1;30mWARNING \u001b[0m \u001b[34mrasa.shared.utils.common\u001b[0m  - \u001b[33mThe UnexpecTED Intent Policy is currently experimental and might change or be removed in the future 🔬 Please share your feedback on it in the forum (https://forum.rasa.com) to help us make this feature ready for production.\u001b[0m\n",
            "Processed trackers: 100% 120/120 [00:00<00:00, 2507.08it/s, # intent=12]\n",
            "Epochs: 100% 100/100 [00:23<00:00,  4.34it/s, t_loss=0.13, loss=0.0136, acc=1]\n",
            "2023-07-01 09:42:25 \u001b[1;30mINFO    \u001b[0m \u001b[34mrasa.engine.training.hooks\u001b[0m  - Finished training component 'UnexpecTEDIntentPolicy'.\n",
            "\u001b[92mYour Rasa model is trained and saved at 'models/20230701-094051-icy-phalanx.tar.gz'.\u001b[0m\n",
            "If you want to speak to the assistant, run 'rasa shell' at any time inside the project directory.\n"
          ]
        },
        {
          "data": {
            "text/plain": []
          },
          "execution_count": 36,
          "metadata": {},
          "output_type": "execute_result"
        }
      ],
      "source": [
        "%%shell\n",
        "rasa init --no-prompt"
      ]
    },
    {
      "attachments": {},
      "cell_type": "markdown",
      "metadata": {
        "id": "IcXmVHDjg3xG"
      },
      "source": [
        "## Load Data"
      ]
    },
    {
      "cell_type": "code",
      "execution_count": 39,
      "metadata": {
        "id": "wuBkvJoDg3xG"
      },
      "outputs": [],
      "source": [
        "def read_file(path):\n",
        "  df = pd.read_excel(path)\n",
        "  return df"
      ]
    },
    {
      "cell_type": "code",
      "execution_count": 40,
      "metadata": {
        "colab": {
          "base_uri": "https://localhost:8080/"
        },
        "id": "UB7ek5igv5F0",
        "outputId": "f3f6ae08-446b-4fe3-a8bb-67d7a4259d71"
      },
      "outputs": [
        {
          "name": "stdout",
          "output_type": "stream",
          "text": [
            "/content/drive/MyDrive/NLP/CA6\n"
          ]
        }
      ],
      "source": [
        "print(main_path)"
      ]
    },
    {
      "cell_type": "code",
      "execution_count": 41,
      "metadata": {
        "id": "S5O75cQ2g3xG"
      },
      "outputs": [],
      "source": [
        "train_df = read_file(main_path + \"/Data/MCI_Internet_TrainData.xlsx\")\n",
        "test_df  = read_file(main_path + \"/Data/MCI_Internet_TestData.xlsx\")"
      ]
    },
    {
      "attachments": {},
      "cell_type": "markdown",
      "metadata": {
        "id": "42cQqiRmg3xG"
      },
      "source": [
        "### Write data in folders"
      ]
    },
    {
      "cell_type": "code",
      "execution_count": 42,
      "metadata": {
        "id": "YBfWpiygg3xG"
      },
      "outputs": [],
      "source": [
        "generate_nlu_multi_intent(train_df, f'{main_path}/multi_intent_folder/data/nlu.yml', \"train\")\n",
        "generate_rules_multi_intent(train_df, f'{main_path}/multi_intent_folder/data/rules.yml')\n",
        "generate_stories_multi_intent(train_df, f'{main_path}/multi_intent_folder/data/stories.yml')\n",
        "generate_domain_multi_intent(train_df, f'{main_path}/multi_intent_folder/domain.yml')\n",
        "generate_nlu_multi_intent(test_df,f'{main_path}/multi_intent_folder/test_folder/nlu_test.yml', \"test\")"
      ]
    },
    {
      "attachments": {},
      "cell_type": "markdown",
      "metadata": {
        "id": "rzzecuypg3xG"
      },
      "source": [
        "## ParseBert with 50 epochs"
      ]
    },
    {
      "attachments": {},
      "cell_type": "markdown",
      "metadata": {
        "id": "ps6tMItAg3xH"
      },
      "source": [
        "### Configuration"
      ]
    },
    {
      "cell_type": "code",
      "execution_count": 43,
      "metadata": {
        "id": "TYQM5kMMg3xH"
      },
      "outputs": [],
      "source": [
        "generate_config_multi_intent(num_epochs=50, model_weights_name=\"HooshvareLab/bert-base-parsbert-uncased\", config_file_path = './config.yml')"
      ]
    },
    {
      "attachments": {},
      "cell_type": "markdown",
      "metadata": {
        "id": "Ob6-wpR-g3xH"
      },
      "source": [
        "### Train"
      ]
    },
    {
      "cell_type": "code",
      "execution_count": 44,
      "metadata": {
        "colab": {
          "base_uri": "https://localhost:8080/"
        },
        "id": "HPPgJaGIg3xH",
        "outputId": "bf93934b-1ee9-4014-d056-a52d8a6e5bd7"
      },
      "outputs": [
        {
          "name": "stdout",
          "output_type": "stream",
          "text": [
            "/usr/local/lib/python3.10/dist-packages/rasa/core/tracker_store.py:1042: MovedIn20Warning: \u001b[31mDeprecated API features detected! These feature(s) are not compatible with SQLAlchemy 2.0. \u001b[32mTo prevent incompatible upgrades prior to updating applications, ensure requirements files are pinned to \"sqlalchemy<2.0\". \u001b[36mSet environment variable SQLALCHEMY_WARN_20=1 to show all deprecation warnings.  Set environment variable SQLALCHEMY_SILENCE_UBER_WARNING=1 to silence this message.\u001b[0m (Background on SQLAlchemy 2.0 at: https://sqlalche.me/e/b8d9)\n",
            "  Base: DeclarativeMeta = declarative_base()\n",
            "/usr/local/lib/python3.10/dist-packages/pkg_resources/__init__.py:121: DeprecationWarning: pkg_resources is deprecated as an API\n",
            "  warnings.warn(\"pkg_resources is deprecated as an API\", DeprecationWarning)\n",
            "/usr/local/lib/python3.10/dist-packages/pkg_resources/__init__.py:2870: DeprecationWarning: Deprecated call to `pkg_resources.declare_namespace('google')`.\n",
            "Implementing implicit namespace packages (as specified in PEP 420) is preferred to `pkg_resources.declare_namespace`. See https://setuptools.pypa.io/en/latest/references/keywords.html#keyword-namespace-packages\n",
            "  declare_namespace(pkg)\n",
            "/usr/local/lib/python3.10/dist-packages/pkg_resources/__init__.py:2870: DeprecationWarning: Deprecated call to `pkg_resources.declare_namespace('google.cloud')`.\n",
            "Implementing implicit namespace packages (as specified in PEP 420) is preferred to `pkg_resources.declare_namespace`. See https://setuptools.pypa.io/en/latest/references/keywords.html#keyword-namespace-packages\n",
            "  declare_namespace(pkg)\n",
            "/usr/local/lib/python3.10/dist-packages/pkg_resources/__init__.py:2870: DeprecationWarning: Deprecated call to `pkg_resources.declare_namespace('google.logging')`.\n",
            "Implementing implicit namespace packages (as specified in PEP 420) is preferred to `pkg_resources.declare_namespace`. See https://setuptools.pypa.io/en/latest/references/keywords.html#keyword-namespace-packages\n",
            "  declare_namespace(pkg)\n",
            "/usr/local/lib/python3.10/dist-packages/pkg_resources/__init__.py:2870: DeprecationWarning: Deprecated call to `pkg_resources.declare_namespace('google.iam')`.\n",
            "Implementing implicit namespace packages (as specified in PEP 420) is preferred to `pkg_resources.declare_namespace`. See https://setuptools.pypa.io/en/latest/references/keywords.html#keyword-namespace-packages\n",
            "  declare_namespace(pkg)\n",
            "/usr/local/lib/python3.10/dist-packages/pkg_resources/__init__.py:2870: DeprecationWarning: Deprecated call to `pkg_resources.declare_namespace('mpl_toolkits')`.\n",
            "Implementing implicit namespace packages (as specified in PEP 420) is preferred to `pkg_resources.declare_namespace`. See https://setuptools.pypa.io/en/latest/references/keywords.html#keyword-namespace-packages\n",
            "  declare_namespace(pkg)\n",
            "/usr/local/lib/python3.10/dist-packages/pkg_resources/__init__.py:2870: DeprecationWarning: Deprecated call to `pkg_resources.declare_namespace('ruamel')`.\n",
            "Implementing implicit namespace packages (as specified in PEP 420) is preferred to `pkg_resources.declare_namespace`. See https://setuptools.pypa.io/en/latest/references/keywords.html#keyword-namespace-packages\n",
            "  declare_namespace(pkg)\n",
            "/usr/local/lib/python3.10/dist-packages/pkg_resources/__init__.py:2870: DeprecationWarning: Deprecated call to `pkg_resources.declare_namespace('ruamel.yaml')`.\n",
            "Implementing implicit namespace packages (as specified in PEP 420) is preferred to `pkg_resources.declare_namespace`. See https://setuptools.pypa.io/en/latest/references/keywords.html#keyword-namespace-packages\n",
            "  declare_namespace(pkg)\n",
            "/usr/local/lib/python3.10/dist-packages/pkg_resources/__init__.py:2870: DeprecationWarning: Deprecated call to `pkg_resources.declare_namespace('sphinxcontrib')`.\n",
            "Implementing implicit namespace packages (as specified in PEP 420) is preferred to `pkg_resources.declare_namespace`. See https://setuptools.pypa.io/en/latest/references/keywords.html#keyword-namespace-packages\n",
            "  declare_namespace(pkg)\n",
            "2023-07-01 09:43:34 \u001b[1;30mINFO    \u001b[0m \u001b[34mrasa.cli.train\u001b[0m  - Started validating domain and training data...\n",
            "/usr/local/lib/python3.10/dist-packages/jaxlib/xla_client.py:225: DeprecationWarning: ml_dtypes.float8_e4m3b11 is deprecated. Use ml_dtypes.float8_e4m3b11fnuz\n",
            "  float8_e4m3b11fnuz = ml_dtypes.float8_e4m3b11\n",
            "2023-07-01 09:43:36 \u001b[1;30mINFO    \u001b[0m \u001b[34mnumexpr.utils\u001b[0m  - NumExpr defaulting to 2 threads.\n",
            "2023-07-01 09:43:37 \u001b[1;30mINFO    \u001b[0m \u001b[34mrasa.validator\u001b[0m  - Validating intents...\n",
            "2023-07-01 09:43:37 \u001b[1;30mINFO    \u001b[0m \u001b[34mrasa.validator\u001b[0m  - Validating uniqueness of intents and stories...\n",
            "\u001b[93m/usr/local/lib/python3.10/dist-packages/rasa/shared/utils/io.py:99: UserWarning: The example '\"طریقه اطلاع رسانی فعال شدن بسته اینترنت رزرو چیست؟\"' was found labeled with multiple different intents in the training data. Each annotated message should only appear with one intent. You should fix that conflict The example is labeled with: Q41, Q44.\n",
            "\u001b[0m2023-07-01 09:43:37 \u001b[1;30mINFO    \u001b[0m \u001b[34mrasa.validator\u001b[0m  - Validating utterances...\n",
            "2023-07-01 09:43:37 \u001b[1;30mINFO    \u001b[0m \u001b[34mrasa.validator\u001b[0m  - Story structure validation...\n",
            "2023-07-01 09:43:37 \u001b[1;30mINFO    \u001b[0m \u001b[34mrasa.core.training.story_conflict\u001b[0m  - Considering all preceding turns for conflict analysis.\n",
            "2023-07-01 09:43:37 \u001b[1;30mINFO    \u001b[0m \u001b[34mrasa.validator\u001b[0m  - No story structure conflicts found.\n",
            "\u001b[93m/usr/local/lib/python3.10/dist-packages/rasa/engine/recipes/recipe.py:35: FutureWarning: From Rasa Open Source 4.0.0 onwards it will be required to specify a recipe in your model configuration. Defaulting to recipe 'default.v1'.\n",
            "  rasa.shared.utils.io.raise_deprecation_warning(\n",
            "Processed rules: 100% 50/50 [00:00<00:00, 4208.19it/s, # trackers=1]\n",
            "2023-07-01 09:43:41 \u001b[1;30mINFO    \u001b[0m \u001b[34mrasa.engine.training.hooks\u001b[0m  - Starting to train component 'MemoizationPolicy'.\n",
            "Processed trackers: 0it [00:00, ?it/s]\n",
            "2023-07-01 09:43:41 \u001b[1;30mINFO    \u001b[0m \u001b[34mrasa.engine.training.hooks\u001b[0m  - Finished training component 'MemoizationPolicy'.\n",
            "2023-07-01 09:43:41 \u001b[1;30mINFO    \u001b[0m \u001b[34mrasa.engine.training.hooks\u001b[0m  - Starting to train component 'RulePolicy'.\n",
            "Processed trackers: 100% 50/50 [00:00<00:00, 2703.39it/s, # action=101]\n",
            "Processed actions: 101it [00:00, 14761.99it/s, # examples=100]\n",
            "Processed trackers: 0it [00:00, ?it/s]\n",
            "Processed trackers: 100% 50/50 [00:00<00:00, 1210.47it/s]\n",
            "Processed trackers: 100% 50/50 [00:00<00:00, 1256.10it/s]\n",
            "2023-07-01 09:43:41 \u001b[1;30mINFO    \u001b[0m \u001b[34mrasa.engine.training.hooks\u001b[0m  - Finished training component 'RulePolicy'.\n",
            "2023-07-01 09:43:41 \u001b[1;30mINFO    \u001b[0m \u001b[34mrasa.engine.training.hooks\u001b[0m  - Starting to train component 'TEDPolicy'.\n",
            "\u001b[93m/usr/local/lib/python3.10/dist-packages/rasa/shared/utils/io.py:99: UserWarning: 'evaluate_every_number_of_epochs=20' is greater than 'epochs=1'. No evaluation will occur.\n",
            "Processed trackers: 0it [00:00, ?it/s]\n",
            "\u001b[93m/usr/local/lib/python3.10/dist-packages/rasa/core/policies/ted_policy.py:723: UserWarning: Skipping training of `TEDPolicy` as no data was provided. You can exclude this policy in the configuration file to avoid this warning.\n",
            "  rasa.shared.utils.io.raise_warning(\n",
            "\u001b[0m2023-07-01 09:43:41 \u001b[1;30mINFO    \u001b[0m \u001b[34mrasa.engine.training.hooks\u001b[0m  - Finished training component 'TEDPolicy'.\n",
            "Some layers from the model checkpoint at HooshvareLab/bert-base-parsbert-uncased were not used when initializing TFBertModel: ['nsp___cls', 'mlm___cls']\n",
            "- This IS expected if you are initializing TFBertModel from the checkpoint of a model trained on another task or with another architecture (e.g. initializing a BertForSequenceClassification model from a BertForPreTraining model).\n",
            "- This IS NOT expected if you are initializing TFBertModel from the checkpoint of a model that you expect to be exactly identical (initializing a BertForSequenceClassification model from a BertForSequenceClassification model).\n",
            "All the layers of TFBertModel were initialized from the model checkpoint at HooshvareLab/bert-base-parsbert-uncased.\n",
            "If your task is similar to the task the model of the checkpoint was trained on, you can already use TFBertModel for predictions without further training.\n",
            "2023-07-01 09:43:55 \u001b[1;30mINFO    \u001b[0m \u001b[34mrasa.engine.training.hooks\u001b[0m  - Starting to train component 'DIETClassifier'.\n",
            "Epochs: 100% 50/50 [00:33<00:00,  1.49it/s, t_loss=1.87, i_acc=0.996]\n",
            "2023-07-01 09:44:29 \u001b[1;30mINFO    \u001b[0m \u001b[34mrasa.engine.training.hooks\u001b[0m  - Finished training component 'DIETClassifier'.\n",
            "2023-07-01 09:44:29 \u001b[1;30mINFO    \u001b[0m \u001b[34mrasa.engine.training.hooks\u001b[0m  - Starting to train component 'ResponseSelector'.\n",
            "2023-07-01 09:44:29 \u001b[1;30mINFO    \u001b[0m \u001b[34mrasa.nlu.selectors.response_selector\u001b[0m  - Retrieval intent parameter was left to its default value. This response selector will be trained on training examples combining all retrieval intents.\n",
            "2023-07-01 09:44:29 \u001b[1;30mINFO    \u001b[0m \u001b[34mrasa.engine.training.hooks\u001b[0m  - Finished training component 'ResponseSelector'.\n",
            "\u001b[92mYour Rasa model is trained and saved at 'models/20230701-094340-religious-enfilade.tar.gz'.\u001b[0m\n"
          ]
        },
        {
          "data": {
            "text/plain": []
          },
          "execution_count": 44,
          "metadata": {},
          "output_type": "execute_result"
        }
      ],
      "source": [
        "%%shell\n",
        "rasa train"
      ]
    },
    {
      "attachments": {},
      "cell_type": "markdown",
      "metadata": {
        "id": "Q0-G6nYcg3xH"
      },
      "source": [
        "### Test"
      ]
    },
    {
      "cell_type": "code",
      "execution_count": 45,
      "metadata": {
        "colab": {
          "base_uri": "https://localhost:8080/"
        },
        "id": "s1-QNdI7g3xH",
        "outputId": "5dde732d-18c3-451a-dcd6-aa86a3e2ee51"
      },
      "outputs": [
        {
          "name": "stdout",
          "output_type": "stream",
          "text": [
            "/usr/local/lib/python3.10/dist-packages/rasa/core/tracker_store.py:1042: MovedIn20Warning: \u001b[31mDeprecated API features detected! These feature(s) are not compatible with SQLAlchemy 2.0. \u001b[32mTo prevent incompatible upgrades prior to updating applications, ensure requirements files are pinned to \"sqlalchemy<2.0\". \u001b[36mSet environment variable SQLALCHEMY_WARN_20=1 to show all deprecation warnings.  Set environment variable SQLALCHEMY_SILENCE_UBER_WARNING=1 to silence this message.\u001b[0m (Background on SQLAlchemy 2.0 at: https://sqlalche.me/e/b8d9)\n",
            "  Base: DeclarativeMeta = declarative_base()\n",
            "/usr/local/lib/python3.10/dist-packages/pkg_resources/__init__.py:121: DeprecationWarning: pkg_resources is deprecated as an API\n",
            "  warnings.warn(\"pkg_resources is deprecated as an API\", DeprecationWarning)\n",
            "/usr/local/lib/python3.10/dist-packages/pkg_resources/__init__.py:2870: DeprecationWarning: Deprecated call to `pkg_resources.declare_namespace('google')`.\n",
            "Implementing implicit namespace packages (as specified in PEP 420) is preferred to `pkg_resources.declare_namespace`. See https://setuptools.pypa.io/en/latest/references/keywords.html#keyword-namespace-packages\n",
            "  declare_namespace(pkg)\n",
            "/usr/local/lib/python3.10/dist-packages/pkg_resources/__init__.py:2870: DeprecationWarning: Deprecated call to `pkg_resources.declare_namespace('google.cloud')`.\n",
            "Implementing implicit namespace packages (as specified in PEP 420) is preferred to `pkg_resources.declare_namespace`. See https://setuptools.pypa.io/en/latest/references/keywords.html#keyword-namespace-packages\n",
            "  declare_namespace(pkg)\n",
            "/usr/local/lib/python3.10/dist-packages/pkg_resources/__init__.py:2870: DeprecationWarning: Deprecated call to `pkg_resources.declare_namespace('google.logging')`.\n",
            "Implementing implicit namespace packages (as specified in PEP 420) is preferred to `pkg_resources.declare_namespace`. See https://setuptools.pypa.io/en/latest/references/keywords.html#keyword-namespace-packages\n",
            "  declare_namespace(pkg)\n",
            "/usr/local/lib/python3.10/dist-packages/pkg_resources/__init__.py:2870: DeprecationWarning: Deprecated call to `pkg_resources.declare_namespace('google.iam')`.\n",
            "Implementing implicit namespace packages (as specified in PEP 420) is preferred to `pkg_resources.declare_namespace`. See https://setuptools.pypa.io/en/latest/references/keywords.html#keyword-namespace-packages\n",
            "  declare_namespace(pkg)\n",
            "/usr/local/lib/python3.10/dist-packages/pkg_resources/__init__.py:2870: DeprecationWarning: Deprecated call to `pkg_resources.declare_namespace('mpl_toolkits')`.\n",
            "Implementing implicit namespace packages (as specified in PEP 420) is preferred to `pkg_resources.declare_namespace`. See https://setuptools.pypa.io/en/latest/references/keywords.html#keyword-namespace-packages\n",
            "  declare_namespace(pkg)\n",
            "/usr/local/lib/python3.10/dist-packages/pkg_resources/__init__.py:2870: DeprecationWarning: Deprecated call to `pkg_resources.declare_namespace('ruamel')`.\n",
            "Implementing implicit namespace packages (as specified in PEP 420) is preferred to `pkg_resources.declare_namespace`. See https://setuptools.pypa.io/en/latest/references/keywords.html#keyword-namespace-packages\n",
            "  declare_namespace(pkg)\n",
            "/usr/local/lib/python3.10/dist-packages/pkg_resources/__init__.py:2870: DeprecationWarning: Deprecated call to `pkg_resources.declare_namespace('ruamel.yaml')`.\n",
            "Implementing implicit namespace packages (as specified in PEP 420) is preferred to `pkg_resources.declare_namespace`. See https://setuptools.pypa.io/en/latest/references/keywords.html#keyword-namespace-packages\n",
            "  declare_namespace(pkg)\n",
            "/usr/local/lib/python3.10/dist-packages/pkg_resources/__init__.py:2870: DeprecationWarning: Deprecated call to `pkg_resources.declare_namespace('sphinxcontrib')`.\n",
            "Implementing implicit namespace packages (as specified in PEP 420) is preferred to `pkg_resources.declare_namespace`. See https://setuptools.pypa.io/en/latest/references/keywords.html#keyword-namespace-packages\n",
            "  declare_namespace(pkg)\n",
            "/usr/local/lib/python3.10/dist-packages/jaxlib/xla_client.py:225: DeprecationWarning: ml_dtypes.float8_e4m3b11 is deprecated. Use ml_dtypes.float8_e4m3b11fnuz\n",
            "  float8_e4m3b11fnuz = ml_dtypes.float8_e4m3b11\n",
            "2023-07-01 09:44:49 \u001b[1;30mINFO    \u001b[0m \u001b[34mnumexpr.utils\u001b[0m  - NumExpr defaulting to 2 threads.\n",
            "2023-07-01 09:44:51 \u001b[1;30mINFO    \u001b[0m \u001b[34mrasa.core.processor\u001b[0m  - Loading model models/20230701-094340-religious-enfilade.tar.gz...\n",
            "Some layers from the model checkpoint at HooshvareLab/bert-base-parsbert-uncased were not used when initializing TFBertModel: ['nsp___cls', 'mlm___cls']\n",
            "- This IS expected if you are initializing TFBertModel from the checkpoint of a model trained on another task or with another architecture (e.g. initializing a BertForSequenceClassification model from a BertForPreTraining model).\n",
            "- This IS NOT expected if you are initializing TFBertModel from the checkpoint of a model that you expect to be exactly identical (initializing a BertForSequenceClassification model from a BertForSequenceClassification model).\n",
            "All the layers of TFBertModel were initialized from the model checkpoint at HooshvareLab/bert-base-parsbert-uncased.\n",
            "If your task is similar to the task the model of the checkpoint was trained on, you can already use TFBertModel for predictions without further training.\n",
            "\u001b[93m/usr/local/lib/python3.10/dist-packages/rasa/shared/utils/io.py:99: UserWarning: 'evaluate_every_number_of_epochs=20' is greater than 'epochs=1'. No evaluation will occur.\n",
            "\u001b[0m2023-07-01 09:45:14 \u001b[1;30mINFO    \u001b[0m \u001b[34mrasa.nlu.test\u001b[0m  - Running model for predictions:\n",
            "100% 250/250 [01:01<00:00,  4.04it/s]\n",
            "2023-07-01 09:46:16 \u001b[1;30mINFO    \u001b[0m \u001b[34mrasa.nlu.test\u001b[0m  - Intent evaluation results:\n",
            "2023-07-01 09:46:16 \u001b[1;30mINFO    \u001b[0m \u001b[34mrasa.nlu.test\u001b[0m  - Intent Evaluation: Only considering those 250 examples that have a defined intent out of 250 examples.\n",
            "2023-07-01 09:46:16 \u001b[1;30mINFO    \u001b[0m \u001b[34mrasa.nlu.test\u001b[0m  - Classification report saved to test_result/config/intent_report.json.\n",
            "2023-07-01 09:46:16 \u001b[1;30mINFO    \u001b[0m \u001b[34mrasa.nlu.test\u001b[0m  - Incorrect intent predictions saved to test_result/config/intent_errors.json.\n",
            "/usr/local/lib/python3.10/dist-packages/jupyter_client/connect.py:28: DeprecationWarning: Jupyter is migrating its paths to use standard platformdirs\n",
            "given by the platformdirs library.  To remove this warning and\n",
            "see the appropriate new directories, set the environment variable\n",
            "`JUPYTER_PLATFORM_DIRS=1` and then run `jupyter --paths`.\n",
            "The use of platformdirs will be the default in `jupyter_core` v6\n",
            "  from jupyter_core.paths import jupyter_data_dir, jupyter_runtime_dir, secure_write\n",
            "2023-07-01 09:46:17 \u001b[1;30mINFO    \u001b[0m \u001b[34mrasa.utils.plotting\u001b[0m  - Confusion matrix, without normalization: \n",
            "[[4 0 0 ... 1 0 0]\n",
            " [0 3 0 ... 0 0 0]\n",
            " [0 0 4 ... 0 0 0]\n",
            " ...\n",
            " [0 0 0 ... 5 0 0]\n",
            " [0 0 0 ... 0 4 0]\n",
            " [0 0 0 ... 0 0 5]]\n"
          ]
        },
        {
          "data": {
            "text/plain": []
          },
          "execution_count": 45,
          "metadata": {},
          "output_type": "execute_result"
        }
      ],
      "source": [
        "%%shell\n",
        "rasa test nlu --config config.yml \\\n",
        "              --nlu test_folder/nlu_test.yml\\\n",
        "              --out test_result/config"
      ]
    },
    {
      "attachments": {},
      "cell_type": "markdown",
      "metadata": {
        "id": "PogFfW1Fg3xH"
      },
      "source": [
        "### Result"
      ]
    },
    {
      "cell_type": "code",
      "execution_count": 47,
      "metadata": {
        "colab": {
          "base_uri": "https://localhost:8080/"
        },
        "id": "FWbgl5_fg3xH",
        "outputId": "8c1028b5-2489-408c-dad1-fe37d243bc37"
      },
      "outputs": [
        {
          "data": {
            "text/plain": [
              "{'Accuracy': 0.776,\n",
              " 'Precision': 0.7907936507936507,\n",
              " 'Recall': 0.776,\n",
              " 'F1 Score': 0.7584115884115884}"
            ]
          },
          "execution_count": 47,
          "metadata": {},
          "output_type": "execute_result"
        }
      ],
      "source": [
        "report_file_path =  \"test_result/config/intent_report.json\"\n",
        "generate_classification_metrics(report_file_path)"
      ]
    },
    {
      "cell_type": "code",
      "execution_count": null,
      "metadata": {
        "id": "JGWzBwT_g3xH"
      },
      "outputs": [],
      "source": []
    },
    {
      "attachments": {},
      "cell_type": "markdown",
      "metadata": {
        "id": "Iq8Q5PIsg3xH"
      },
      "source": [
        "## LabSE with 50 epochs"
      ]
    },
    {
      "attachments": {},
      "cell_type": "markdown",
      "metadata": {
        "id": "N4WITrEcg3xH"
      },
      "source": [
        "### Configuration"
      ]
    },
    {
      "cell_type": "code",
      "execution_count": 48,
      "metadata": {
        "id": "c8ckSJbpg3xI"
      },
      "outputs": [],
      "source": [
        "generate_config_multi_intent(num_epochs=50, model_weights_name=\"rasa/LaBSE\", config_file_path = './config.yml')"
      ]
    },
    {
      "attachments": {},
      "cell_type": "markdown",
      "metadata": {
        "id": "LcaTMMuFg3xI"
      },
      "source": [
        "### Train"
      ]
    },
    {
      "cell_type": "code",
      "execution_count": 49,
      "metadata": {
        "colab": {
          "base_uri": "https://localhost:8080/"
        },
        "id": "AdGUhL0gg3xI",
        "outputId": "80515488-2e41-42f6-c777-2553638c5a86"
      },
      "outputs": [
        {
          "name": "stdout",
          "output_type": "stream",
          "text": [
            "/usr/local/lib/python3.10/dist-packages/rasa/core/tracker_store.py:1042: MovedIn20Warning: \u001b[31mDeprecated API features detected! These feature(s) are not compatible with SQLAlchemy 2.0. \u001b[32mTo prevent incompatible upgrades prior to updating applications, ensure requirements files are pinned to \"sqlalchemy<2.0\". \u001b[36mSet environment variable SQLALCHEMY_WARN_20=1 to show all deprecation warnings.  Set environment variable SQLALCHEMY_SILENCE_UBER_WARNING=1 to silence this message.\u001b[0m (Background on SQLAlchemy 2.0 at: https://sqlalche.me/e/b8d9)\n",
            "  Base: DeclarativeMeta = declarative_base()\n",
            "/usr/local/lib/python3.10/dist-packages/pkg_resources/__init__.py:121: DeprecationWarning: pkg_resources is deprecated as an API\n",
            "  warnings.warn(\"pkg_resources is deprecated as an API\", DeprecationWarning)\n",
            "/usr/local/lib/python3.10/dist-packages/pkg_resources/__init__.py:2870: DeprecationWarning: Deprecated call to `pkg_resources.declare_namespace('google')`.\n",
            "Implementing implicit namespace packages (as specified in PEP 420) is preferred to `pkg_resources.declare_namespace`. See https://setuptools.pypa.io/en/latest/references/keywords.html#keyword-namespace-packages\n",
            "  declare_namespace(pkg)\n",
            "/usr/local/lib/python3.10/dist-packages/pkg_resources/__init__.py:2870: DeprecationWarning: Deprecated call to `pkg_resources.declare_namespace('google.cloud')`.\n",
            "Implementing implicit namespace packages (as specified in PEP 420) is preferred to `pkg_resources.declare_namespace`. See https://setuptools.pypa.io/en/latest/references/keywords.html#keyword-namespace-packages\n",
            "  declare_namespace(pkg)\n",
            "/usr/local/lib/python3.10/dist-packages/pkg_resources/__init__.py:2870: DeprecationWarning: Deprecated call to `pkg_resources.declare_namespace('google.logging')`.\n",
            "Implementing implicit namespace packages (as specified in PEP 420) is preferred to `pkg_resources.declare_namespace`. See https://setuptools.pypa.io/en/latest/references/keywords.html#keyword-namespace-packages\n",
            "  declare_namespace(pkg)\n",
            "/usr/local/lib/python3.10/dist-packages/pkg_resources/__init__.py:2870: DeprecationWarning: Deprecated call to `pkg_resources.declare_namespace('google.iam')`.\n",
            "Implementing implicit namespace packages (as specified in PEP 420) is preferred to `pkg_resources.declare_namespace`. See https://setuptools.pypa.io/en/latest/references/keywords.html#keyword-namespace-packages\n",
            "  declare_namespace(pkg)\n",
            "/usr/local/lib/python3.10/dist-packages/pkg_resources/__init__.py:2870: DeprecationWarning: Deprecated call to `pkg_resources.declare_namespace('mpl_toolkits')`.\n",
            "Implementing implicit namespace packages (as specified in PEP 420) is preferred to `pkg_resources.declare_namespace`. See https://setuptools.pypa.io/en/latest/references/keywords.html#keyword-namespace-packages\n",
            "  declare_namespace(pkg)\n",
            "/usr/local/lib/python3.10/dist-packages/pkg_resources/__init__.py:2870: DeprecationWarning: Deprecated call to `pkg_resources.declare_namespace('ruamel')`.\n",
            "Implementing implicit namespace packages (as specified in PEP 420) is preferred to `pkg_resources.declare_namespace`. See https://setuptools.pypa.io/en/latest/references/keywords.html#keyword-namespace-packages\n",
            "  declare_namespace(pkg)\n",
            "/usr/local/lib/python3.10/dist-packages/pkg_resources/__init__.py:2870: DeprecationWarning: Deprecated call to `pkg_resources.declare_namespace('ruamel.yaml')`.\n",
            "Implementing implicit namespace packages (as specified in PEP 420) is preferred to `pkg_resources.declare_namespace`. See https://setuptools.pypa.io/en/latest/references/keywords.html#keyword-namespace-packages\n",
            "  declare_namespace(pkg)\n",
            "/usr/local/lib/python3.10/dist-packages/pkg_resources/__init__.py:2870: DeprecationWarning: Deprecated call to `pkg_resources.declare_namespace('sphinxcontrib')`.\n",
            "Implementing implicit namespace packages (as specified in PEP 420) is preferred to `pkg_resources.declare_namespace`. See https://setuptools.pypa.io/en/latest/references/keywords.html#keyword-namespace-packages\n",
            "  declare_namespace(pkg)\n",
            "2023-07-01 09:52:10 \u001b[1;30mINFO    \u001b[0m \u001b[34mrasa.cli.train\u001b[0m  - Started validating domain and training data...\n",
            "/usr/local/lib/python3.10/dist-packages/jaxlib/xla_client.py:225: DeprecationWarning: ml_dtypes.float8_e4m3b11 is deprecated. Use ml_dtypes.float8_e4m3b11fnuz\n",
            "  float8_e4m3b11fnuz = ml_dtypes.float8_e4m3b11\n",
            "2023-07-01 09:52:12 \u001b[1;30mINFO    \u001b[0m \u001b[34mnumexpr.utils\u001b[0m  - NumExpr defaulting to 2 threads.\n",
            "2023-07-01 09:52:14 \u001b[1;30mINFO    \u001b[0m \u001b[34mrasa.validator\u001b[0m  - Validating intents...\n",
            "2023-07-01 09:52:14 \u001b[1;30mINFO    \u001b[0m \u001b[34mrasa.validator\u001b[0m  - Validating uniqueness of intents and stories...\n",
            "\u001b[93m/usr/local/lib/python3.10/dist-packages/rasa/shared/utils/io.py:99: UserWarning: The example '\"طریقه اطلاع رسانی فعال شدن بسته اینترنت رزرو چیست؟\"' was found labeled with multiple different intents in the training data. Each annotated message should only appear with one intent. You should fix that conflict The example is labeled with: Q41, Q44.\n",
            "\u001b[0m2023-07-01 09:52:14 \u001b[1;30mINFO    \u001b[0m \u001b[34mrasa.validator\u001b[0m  - Validating utterances...\n",
            "2023-07-01 09:52:14 \u001b[1;30mINFO    \u001b[0m \u001b[34mrasa.validator\u001b[0m  - Story structure validation...\n",
            "2023-07-01 09:52:14 \u001b[1;30mINFO    \u001b[0m \u001b[34mrasa.core.training.story_conflict\u001b[0m  - Considering all preceding turns for conflict analysis.\n",
            "2023-07-01 09:52:14 \u001b[1;30mINFO    \u001b[0m \u001b[34mrasa.validator\u001b[0m  - No story structure conflicts found.\n",
            "\u001b[93m/usr/local/lib/python3.10/dist-packages/rasa/engine/recipes/recipe.py:35: FutureWarning: From Rasa Open Source 4.0.0 onwards it will be required to specify a recipe in your model configuration. Defaulting to recipe 'default.v1'.\n",
            "  rasa.shared.utils.io.raise_deprecation_warning(\n",
            "\u001b[0mAll model checkpoint layers were used when initializing TFBertModel.\n",
            "\n",
            "All the layers of TFBertModel were initialized from the model checkpoint at rasa/LaBSE.\n",
            "If your task is similar to the task the model of the checkpoint was trained on, you can already use TFBertModel for predictions without further training.\n",
            "2023-07-01 09:52:33 \u001b[1;30mINFO    \u001b[0m \u001b[34mrasa.engine.training.hooks\u001b[0m  - Starting to train component 'DIETClassifier'.\n",
            "Epochs: 100% 50/50 [00:30<00:00,  1.62it/s, t_loss=1.81, i_acc=0.999]\n",
            "2023-07-01 09:53:05 \u001b[1;30mINFO    \u001b[0m \u001b[34mrasa.engine.training.hooks\u001b[0m  - Finished training component 'DIETClassifier'.\n",
            "2023-07-01 09:53:05 \u001b[1;30mINFO    \u001b[0m \u001b[34mrasa.engine.training.hooks\u001b[0m  - Starting to train component 'ResponseSelector'.\n",
            "2023-07-01 09:53:05 \u001b[1;30mINFO    \u001b[0m \u001b[34mrasa.nlu.selectors.response_selector\u001b[0m  - Retrieval intent parameter was left to its default value. This response selector will be trained on training examples combining all retrieval intents.\n",
            "2023-07-01 09:53:05 \u001b[1;30mINFO    \u001b[0m \u001b[34mrasa.engine.training.hooks\u001b[0m  - Finished training component 'ResponseSelector'.\n",
            "2023-07-01 09:53:05 \u001b[1;30mINFO    \u001b[0m \u001b[34mrasa.engine.training.hooks\u001b[0m  - Restored component 'MemoizationPolicy' from cache.\n",
            "2023-07-01 09:53:05 \u001b[1;30mINFO    \u001b[0m \u001b[34mrasa.engine.training.hooks\u001b[0m  - Restored component 'RulePolicy' from cache.\n",
            "2023-07-01 09:53:05 \u001b[1;30mINFO    \u001b[0m \u001b[34mrasa.engine.training.hooks\u001b[0m  - Restored component 'TEDPolicy' from cache.\n",
            "\u001b[92mYour Rasa model is trained and saved at 'models/20230701-095216-sunny-stool.tar.gz'.\u001b[0m\n"
          ]
        },
        {
          "data": {
            "text/plain": []
          },
          "execution_count": 49,
          "metadata": {},
          "output_type": "execute_result"
        }
      ],
      "source": [
        "%%shell\n",
        "rasa train"
      ]
    },
    {
      "attachments": {},
      "cell_type": "markdown",
      "metadata": {
        "id": "8z_XqaKtg3xI"
      },
      "source": [
        "### Test"
      ]
    },
    {
      "cell_type": "code",
      "execution_count": 50,
      "metadata": {
        "colab": {
          "base_uri": "https://localhost:8080/"
        },
        "id": "-yd3n7vrg3xI",
        "outputId": "ac15c799-ea8a-49da-95ac-e3c2ad779a6d"
      },
      "outputs": [
        {
          "name": "stdout",
          "output_type": "stream",
          "text": [
            "/usr/local/lib/python3.10/dist-packages/rasa/core/tracker_store.py:1042: MovedIn20Warning: \u001b[31mDeprecated API features detected! These feature(s) are not compatible with SQLAlchemy 2.0. \u001b[32mTo prevent incompatible upgrades prior to updating applications, ensure requirements files are pinned to \"sqlalchemy<2.0\". \u001b[36mSet environment variable SQLALCHEMY_WARN_20=1 to show all deprecation warnings.  Set environment variable SQLALCHEMY_SILENCE_UBER_WARNING=1 to silence this message.\u001b[0m (Background on SQLAlchemy 2.0 at: https://sqlalche.me/e/b8d9)\n",
            "  Base: DeclarativeMeta = declarative_base()\n",
            "/usr/local/lib/python3.10/dist-packages/pkg_resources/__init__.py:121: DeprecationWarning: pkg_resources is deprecated as an API\n",
            "  warnings.warn(\"pkg_resources is deprecated as an API\", DeprecationWarning)\n",
            "/usr/local/lib/python3.10/dist-packages/pkg_resources/__init__.py:2870: DeprecationWarning: Deprecated call to `pkg_resources.declare_namespace('google')`.\n",
            "Implementing implicit namespace packages (as specified in PEP 420) is preferred to `pkg_resources.declare_namespace`. See https://setuptools.pypa.io/en/latest/references/keywords.html#keyword-namespace-packages\n",
            "  declare_namespace(pkg)\n",
            "/usr/local/lib/python3.10/dist-packages/pkg_resources/__init__.py:2870: DeprecationWarning: Deprecated call to `pkg_resources.declare_namespace('google.cloud')`.\n",
            "Implementing implicit namespace packages (as specified in PEP 420) is preferred to `pkg_resources.declare_namespace`. See https://setuptools.pypa.io/en/latest/references/keywords.html#keyword-namespace-packages\n",
            "  declare_namespace(pkg)\n",
            "/usr/local/lib/python3.10/dist-packages/pkg_resources/__init__.py:2870: DeprecationWarning: Deprecated call to `pkg_resources.declare_namespace('google.logging')`.\n",
            "Implementing implicit namespace packages (as specified in PEP 420) is preferred to `pkg_resources.declare_namespace`. See https://setuptools.pypa.io/en/latest/references/keywords.html#keyword-namespace-packages\n",
            "  declare_namespace(pkg)\n",
            "/usr/local/lib/python3.10/dist-packages/pkg_resources/__init__.py:2870: DeprecationWarning: Deprecated call to `pkg_resources.declare_namespace('google.iam')`.\n",
            "Implementing implicit namespace packages (as specified in PEP 420) is preferred to `pkg_resources.declare_namespace`. See https://setuptools.pypa.io/en/latest/references/keywords.html#keyword-namespace-packages\n",
            "  declare_namespace(pkg)\n",
            "/usr/local/lib/python3.10/dist-packages/pkg_resources/__init__.py:2870: DeprecationWarning: Deprecated call to `pkg_resources.declare_namespace('mpl_toolkits')`.\n",
            "Implementing implicit namespace packages (as specified in PEP 420) is preferred to `pkg_resources.declare_namespace`. See https://setuptools.pypa.io/en/latest/references/keywords.html#keyword-namespace-packages\n",
            "  declare_namespace(pkg)\n",
            "/usr/local/lib/python3.10/dist-packages/pkg_resources/__init__.py:2870: DeprecationWarning: Deprecated call to `pkg_resources.declare_namespace('ruamel')`.\n",
            "Implementing implicit namespace packages (as specified in PEP 420) is preferred to `pkg_resources.declare_namespace`. See https://setuptools.pypa.io/en/latest/references/keywords.html#keyword-namespace-packages\n",
            "  declare_namespace(pkg)\n",
            "/usr/local/lib/python3.10/dist-packages/pkg_resources/__init__.py:2870: DeprecationWarning: Deprecated call to `pkg_resources.declare_namespace('ruamel.yaml')`.\n",
            "Implementing implicit namespace packages (as specified in PEP 420) is preferred to `pkg_resources.declare_namespace`. See https://setuptools.pypa.io/en/latest/references/keywords.html#keyword-namespace-packages\n",
            "  declare_namespace(pkg)\n",
            "/usr/local/lib/python3.10/dist-packages/pkg_resources/__init__.py:2870: DeprecationWarning: Deprecated call to `pkg_resources.declare_namespace('sphinxcontrib')`.\n",
            "Implementing implicit namespace packages (as specified in PEP 420) is preferred to `pkg_resources.declare_namespace`. See https://setuptools.pypa.io/en/latest/references/keywords.html#keyword-namespace-packages\n",
            "  declare_namespace(pkg)\n",
            "/usr/local/lib/python3.10/dist-packages/jaxlib/xla_client.py:225: DeprecationWarning: ml_dtypes.float8_e4m3b11 is deprecated. Use ml_dtypes.float8_e4m3b11fnuz\n",
            "  float8_e4m3b11fnuz = ml_dtypes.float8_e4m3b11\n",
            "2023-07-01 09:53:35 \u001b[1;30mINFO    \u001b[0m \u001b[34mnumexpr.utils\u001b[0m  - NumExpr defaulting to 2 threads.\n",
            "2023-07-01 09:53:38 \u001b[1;30mINFO    \u001b[0m \u001b[34mrasa.core.processor\u001b[0m  - Loading model models/20230701-095216-sunny-stool.tar.gz...\n",
            "All model checkpoint layers were used when initializing TFBertModel.\n",
            "\n",
            "All the layers of TFBertModel were initialized from the model checkpoint at rasa/LaBSE.\n",
            "If your task is similar to the task the model of the checkpoint was trained on, you can already use TFBertModel for predictions without further training.\n",
            "\u001b[93m/usr/local/lib/python3.10/dist-packages/rasa/shared/utils/io.py:99: UserWarning: 'evaluate_every_number_of_epochs=20' is greater than 'epochs=1'. No evaluation will occur.\n",
            "\u001b[0m2023-07-01 09:54:12 \u001b[1;30mINFO    \u001b[0m \u001b[34mrasa.nlu.test\u001b[0m  - Running model for predictions:\n",
            "100% 250/250 [01:01<00:00,  4.08it/s]\n",
            "2023-07-01 09:55:13 \u001b[1;30mINFO    \u001b[0m \u001b[34mrasa.nlu.test\u001b[0m  - Intent evaluation results:\n",
            "2023-07-01 09:55:13 \u001b[1;30mINFO    \u001b[0m \u001b[34mrasa.nlu.test\u001b[0m  - Intent Evaluation: Only considering those 250 examples that have a defined intent out of 250 examples.\n",
            "2023-07-01 09:55:13 \u001b[1;30mINFO    \u001b[0m \u001b[34mrasa.nlu.test\u001b[0m  - Classification report saved to test_result/config/intent_report.json.\n",
            "2023-07-01 09:55:13 \u001b[1;30mINFO    \u001b[0m \u001b[34mrasa.nlu.test\u001b[0m  - Incorrect intent predictions saved to test_result/config/intent_errors.json.\n",
            "/usr/local/lib/python3.10/dist-packages/jupyter_client/connect.py:28: DeprecationWarning: Jupyter is migrating its paths to use standard platformdirs\n",
            "given by the platformdirs library.  To remove this warning and\n",
            "see the appropriate new directories, set the environment variable\n",
            "`JUPYTER_PLATFORM_DIRS=1` and then run `jupyter --paths`.\n",
            "The use of platformdirs will be the default in `jupyter_core` v6\n",
            "  from jupyter_core.paths import jupyter_data_dir, jupyter_runtime_dir, secure_write\n",
            "2023-07-01 09:55:14 \u001b[1;30mINFO    \u001b[0m \u001b[34mrasa.utils.plotting\u001b[0m  - Confusion matrix, without normalization: \n",
            "[[5 0 0 ... 0 0 0]\n",
            " [0 5 0 ... 0 0 0]\n",
            " [0 0 5 ... 0 0 0]\n",
            " ...\n",
            " [0 0 0 ... 5 0 0]\n",
            " [0 0 0 ... 0 5 0]\n",
            " [0 0 0 ... 0 0 5]]\n"
          ]
        },
        {
          "data": {
            "text/plain": []
          },
          "execution_count": 50,
          "metadata": {},
          "output_type": "execute_result"
        }
      ],
      "source": [
        "%%shell\n",
        "rasa test nlu --config config.yml \\\n",
        "              --nlu test_folder/nlu_test.yml\\\n",
        "              --out test_result/config"
      ]
    },
    {
      "attachments": {},
      "cell_type": "markdown",
      "metadata": {
        "id": "5Z6SfBY0g3xI"
      },
      "source": [
        "### Result"
      ]
    },
    {
      "cell_type": "code",
      "execution_count": 51,
      "metadata": {
        "colab": {
          "base_uri": "https://localhost:8080/"
        },
        "id": "Xr2iyRufg3xI",
        "outputId": "b1b852ae-c784-41d4-e29b-a527f257d28f"
      },
      "outputs": [
        {
          "data": {
            "text/plain": [
              "{'Accuracy': 0.908,\n",
              " 'Precision': 0.9187857142857143,\n",
              " 'Recall': 0.908,\n",
              " 'F1 Score': 0.9046212676212675}"
            ]
          },
          "execution_count": 51,
          "metadata": {},
          "output_type": "execute_result"
        }
      ],
      "source": [
        "report_file_path =  \"test_result/config/intent_report.json\"\n",
        "generate_classification_metrics(report_file_path)"
      ]
    },
    {
      "attachments": {},
      "cell_type": "markdown",
      "metadata": {
        "id": "Rk9NQzofg3xI"
      },
      "source": [
        "LabSE is better so do it for 100 and 200 epochs"
      ]
    },
    {
      "cell_type": "code",
      "execution_count": null,
      "metadata": {
        "id": "1QSz7795g3xI"
      },
      "outputs": [],
      "source": []
    },
    {
      "attachments": {},
      "cell_type": "markdown",
      "metadata": {
        "id": "GTS8RoZUg3xI"
      },
      "source": [
        "## LabSE with 100 epochs"
      ]
    },
    {
      "attachments": {},
      "cell_type": "markdown",
      "metadata": {
        "id": "GGCI7BGCg3xI"
      },
      "source": [
        "### Configuration"
      ]
    },
    {
      "cell_type": "code",
      "execution_count": 52,
      "metadata": {
        "id": "-UiE6GCZg3xJ"
      },
      "outputs": [],
      "source": [
        "generate_config_multi_intent(num_epochs=100, model_weights_name=\"rasa/LaBSE\", config_file_path = './config.yml')"
      ]
    },
    {
      "attachments": {},
      "cell_type": "markdown",
      "metadata": {
        "id": "fJVrY0m8g3xJ"
      },
      "source": [
        "### Train"
      ]
    },
    {
      "cell_type": "code",
      "execution_count": 53,
      "metadata": {
        "colab": {
          "base_uri": "https://localhost:8080/"
        },
        "id": "TZeDIIzig3xJ",
        "outputId": "c6c272ae-1549-4e83-f15e-f4f071d056ad"
      },
      "outputs": [
        {
          "name": "stdout",
          "output_type": "stream",
          "text": [
            "/usr/local/lib/python3.10/dist-packages/rasa/core/tracker_store.py:1042: MovedIn20Warning: \u001b[31mDeprecated API features detected! These feature(s) are not compatible with SQLAlchemy 2.0. \u001b[32mTo prevent incompatible upgrades prior to updating applications, ensure requirements files are pinned to \"sqlalchemy<2.0\". \u001b[36mSet environment variable SQLALCHEMY_WARN_20=1 to show all deprecation warnings.  Set environment variable SQLALCHEMY_SILENCE_UBER_WARNING=1 to silence this message.\u001b[0m (Background on SQLAlchemy 2.0 at: https://sqlalche.me/e/b8d9)\n",
            "  Base: DeclarativeMeta = declarative_base()\n",
            "/usr/local/lib/python3.10/dist-packages/pkg_resources/__init__.py:121: DeprecationWarning: pkg_resources is deprecated as an API\n",
            "  warnings.warn(\"pkg_resources is deprecated as an API\", DeprecationWarning)\n",
            "/usr/local/lib/python3.10/dist-packages/pkg_resources/__init__.py:2870: DeprecationWarning: Deprecated call to `pkg_resources.declare_namespace('google')`.\n",
            "Implementing implicit namespace packages (as specified in PEP 420) is preferred to `pkg_resources.declare_namespace`. See https://setuptools.pypa.io/en/latest/references/keywords.html#keyword-namespace-packages\n",
            "  declare_namespace(pkg)\n",
            "/usr/local/lib/python3.10/dist-packages/pkg_resources/__init__.py:2870: DeprecationWarning: Deprecated call to `pkg_resources.declare_namespace('google.cloud')`.\n",
            "Implementing implicit namespace packages (as specified in PEP 420) is preferred to `pkg_resources.declare_namespace`. See https://setuptools.pypa.io/en/latest/references/keywords.html#keyword-namespace-packages\n",
            "  declare_namespace(pkg)\n",
            "/usr/local/lib/python3.10/dist-packages/pkg_resources/__init__.py:2870: DeprecationWarning: Deprecated call to `pkg_resources.declare_namespace('google.logging')`.\n",
            "Implementing implicit namespace packages (as specified in PEP 420) is preferred to `pkg_resources.declare_namespace`. See https://setuptools.pypa.io/en/latest/references/keywords.html#keyword-namespace-packages\n",
            "  declare_namespace(pkg)\n",
            "/usr/local/lib/python3.10/dist-packages/pkg_resources/__init__.py:2870: DeprecationWarning: Deprecated call to `pkg_resources.declare_namespace('google.iam')`.\n",
            "Implementing implicit namespace packages (as specified in PEP 420) is preferred to `pkg_resources.declare_namespace`. See https://setuptools.pypa.io/en/latest/references/keywords.html#keyword-namespace-packages\n",
            "  declare_namespace(pkg)\n",
            "/usr/local/lib/python3.10/dist-packages/pkg_resources/__init__.py:2870: DeprecationWarning: Deprecated call to `pkg_resources.declare_namespace('mpl_toolkits')`.\n",
            "Implementing implicit namespace packages (as specified in PEP 420) is preferred to `pkg_resources.declare_namespace`. See https://setuptools.pypa.io/en/latest/references/keywords.html#keyword-namespace-packages\n",
            "  declare_namespace(pkg)\n",
            "/usr/local/lib/python3.10/dist-packages/pkg_resources/__init__.py:2870: DeprecationWarning: Deprecated call to `pkg_resources.declare_namespace('ruamel')`.\n",
            "Implementing implicit namespace packages (as specified in PEP 420) is preferred to `pkg_resources.declare_namespace`. See https://setuptools.pypa.io/en/latest/references/keywords.html#keyword-namespace-packages\n",
            "  declare_namespace(pkg)\n",
            "/usr/local/lib/python3.10/dist-packages/pkg_resources/__init__.py:2870: DeprecationWarning: Deprecated call to `pkg_resources.declare_namespace('ruamel.yaml')`.\n",
            "Implementing implicit namespace packages (as specified in PEP 420) is preferred to `pkg_resources.declare_namespace`. See https://setuptools.pypa.io/en/latest/references/keywords.html#keyword-namespace-packages\n",
            "  declare_namespace(pkg)\n",
            "/usr/local/lib/python3.10/dist-packages/pkg_resources/__init__.py:2870: DeprecationWarning: Deprecated call to `pkg_resources.declare_namespace('sphinxcontrib')`.\n",
            "Implementing implicit namespace packages (as specified in PEP 420) is preferred to `pkg_resources.declare_namespace`. See https://setuptools.pypa.io/en/latest/references/keywords.html#keyword-namespace-packages\n",
            "  declare_namespace(pkg)\n",
            "2023-07-01 09:57:45 \u001b[1;30mINFO    \u001b[0m \u001b[34mrasa.cli.train\u001b[0m  - Started validating domain and training data...\n",
            "/usr/local/lib/python3.10/dist-packages/jaxlib/xla_client.py:225: DeprecationWarning: ml_dtypes.float8_e4m3b11 is deprecated. Use ml_dtypes.float8_e4m3b11fnuz\n",
            "  float8_e4m3b11fnuz = ml_dtypes.float8_e4m3b11\n",
            "2023-07-01 09:57:48 \u001b[1;30mINFO    \u001b[0m \u001b[34mnumexpr.utils\u001b[0m  - NumExpr defaulting to 2 threads.\n",
            "2023-07-01 09:57:50 \u001b[1;30mINFO    \u001b[0m \u001b[34mrasa.validator\u001b[0m  - Validating intents...\n",
            "2023-07-01 09:57:50 \u001b[1;30mINFO    \u001b[0m \u001b[34mrasa.validator\u001b[0m  - Validating uniqueness of intents and stories...\n",
            "\u001b[93m/usr/local/lib/python3.10/dist-packages/rasa/shared/utils/io.py:99: UserWarning: The example '\"طریقه اطلاع رسانی فعال شدن بسته اینترنت رزرو چیست؟\"' was found labeled with multiple different intents in the training data. Each annotated message should only appear with one intent. You should fix that conflict The example is labeled with: Q41, Q44.\n",
            "\u001b[0m2023-07-01 09:57:50 \u001b[1;30mINFO    \u001b[0m \u001b[34mrasa.validator\u001b[0m  - Validating utterances...\n",
            "2023-07-01 09:57:50 \u001b[1;30mINFO    \u001b[0m \u001b[34mrasa.validator\u001b[0m  - Story structure validation...\n",
            "2023-07-01 09:57:50 \u001b[1;30mINFO    \u001b[0m \u001b[34mrasa.core.training.story_conflict\u001b[0m  - Considering all preceding turns for conflict analysis.\n",
            "2023-07-01 09:57:50 \u001b[1;30mINFO    \u001b[0m \u001b[34mrasa.validator\u001b[0m  - No story structure conflicts found.\n",
            "\u001b[93m/usr/local/lib/python3.10/dist-packages/rasa/engine/recipes/recipe.py:35: FutureWarning: From Rasa Open Source 4.0.0 onwards it will be required to specify a recipe in your model configuration. Defaulting to recipe 'default.v1'.\n",
            "  rasa.shared.utils.io.raise_deprecation_warning(\n",
            "\u001b[0mAll model checkpoint layers were used when initializing TFBertModel.\n",
            "\n",
            "All the layers of TFBertModel were initialized from the model checkpoint at rasa/LaBSE.\n",
            "If your task is similar to the task the model of the checkpoint was trained on, you can already use TFBertModel for predictions without further training.\n",
            "2023-07-01 09:58:09 \u001b[1;30mINFO    \u001b[0m \u001b[34mrasa.engine.training.hooks\u001b[0m  - Starting to train component 'DIETClassifier'.\n",
            "Epochs: 100% 100/100 [00:55<00:00,  1.79it/s, t_loss=1.59, i_acc=0.999]\n",
            "2023-07-01 09:59:06 \u001b[1;30mINFO    \u001b[0m \u001b[34mrasa.engine.training.hooks\u001b[0m  - Finished training component 'DIETClassifier'.\n",
            "2023-07-01 09:59:06 \u001b[1;30mINFO    \u001b[0m \u001b[34mrasa.engine.training.hooks\u001b[0m  - Starting to train component 'ResponseSelector'.\n",
            "2023-07-01 09:59:06 \u001b[1;30mINFO    \u001b[0m \u001b[34mrasa.nlu.selectors.response_selector\u001b[0m  - Retrieval intent parameter was left to its default value. This response selector will be trained on training examples combining all retrieval intents.\n",
            "2023-07-01 09:59:06 \u001b[1;30mINFO    \u001b[0m \u001b[34mrasa.engine.training.hooks\u001b[0m  - Finished training component 'ResponseSelector'.\n",
            "2023-07-01 09:59:06 \u001b[1;30mINFO    \u001b[0m \u001b[34mrasa.engine.training.hooks\u001b[0m  - Restored component 'MemoizationPolicy' from cache.\n",
            "2023-07-01 09:59:06 \u001b[1;30mINFO    \u001b[0m \u001b[34mrasa.engine.training.hooks\u001b[0m  - Restored component 'RulePolicy' from cache.\n",
            "2023-07-01 09:59:06 \u001b[1;30mINFO    \u001b[0m \u001b[34mrasa.engine.training.hooks\u001b[0m  - Restored component 'TEDPolicy' from cache.\n",
            "\u001b[92mYour Rasa model is trained and saved at 'models/20230701-095754-equilateral-cap.tar.gz'.\u001b[0m\n"
          ]
        },
        {
          "data": {
            "text/plain": []
          },
          "execution_count": 53,
          "metadata": {},
          "output_type": "execute_result"
        }
      ],
      "source": [
        "%%shell\n",
        "rasa train"
      ]
    },
    {
      "attachments": {},
      "cell_type": "markdown",
      "metadata": {
        "id": "AEouYoEyg3xJ"
      },
      "source": [
        "### Test"
      ]
    },
    {
      "cell_type": "code",
      "execution_count": 54,
      "metadata": {
        "colab": {
          "base_uri": "https://localhost:8080/"
        },
        "id": "dvNkriiug3xJ",
        "outputId": "3d174adf-eec1-432b-ff62-75feab89b9be"
      },
      "outputs": [
        {
          "name": "stdout",
          "output_type": "stream",
          "text": [
            "/usr/local/lib/python3.10/dist-packages/rasa/core/tracker_store.py:1042: MovedIn20Warning: \u001b[31mDeprecated API features detected! These feature(s) are not compatible with SQLAlchemy 2.0. \u001b[32mTo prevent incompatible upgrades prior to updating applications, ensure requirements files are pinned to \"sqlalchemy<2.0\". \u001b[36mSet environment variable SQLALCHEMY_WARN_20=1 to show all deprecation warnings.  Set environment variable SQLALCHEMY_SILENCE_UBER_WARNING=1 to silence this message.\u001b[0m (Background on SQLAlchemy 2.0 at: https://sqlalche.me/e/b8d9)\n",
            "  Base: DeclarativeMeta = declarative_base()\n",
            "/usr/local/lib/python3.10/dist-packages/pkg_resources/__init__.py:121: DeprecationWarning: pkg_resources is deprecated as an API\n",
            "  warnings.warn(\"pkg_resources is deprecated as an API\", DeprecationWarning)\n",
            "/usr/local/lib/python3.10/dist-packages/pkg_resources/__init__.py:2870: DeprecationWarning: Deprecated call to `pkg_resources.declare_namespace('google')`.\n",
            "Implementing implicit namespace packages (as specified in PEP 420) is preferred to `pkg_resources.declare_namespace`. See https://setuptools.pypa.io/en/latest/references/keywords.html#keyword-namespace-packages\n",
            "  declare_namespace(pkg)\n",
            "/usr/local/lib/python3.10/dist-packages/pkg_resources/__init__.py:2870: DeprecationWarning: Deprecated call to `pkg_resources.declare_namespace('google.cloud')`.\n",
            "Implementing implicit namespace packages (as specified in PEP 420) is preferred to `pkg_resources.declare_namespace`. See https://setuptools.pypa.io/en/latest/references/keywords.html#keyword-namespace-packages\n",
            "  declare_namespace(pkg)\n",
            "/usr/local/lib/python3.10/dist-packages/pkg_resources/__init__.py:2870: DeprecationWarning: Deprecated call to `pkg_resources.declare_namespace('google.logging')`.\n",
            "Implementing implicit namespace packages (as specified in PEP 420) is preferred to `pkg_resources.declare_namespace`. See https://setuptools.pypa.io/en/latest/references/keywords.html#keyword-namespace-packages\n",
            "  declare_namespace(pkg)\n",
            "/usr/local/lib/python3.10/dist-packages/pkg_resources/__init__.py:2870: DeprecationWarning: Deprecated call to `pkg_resources.declare_namespace('google.iam')`.\n",
            "Implementing implicit namespace packages (as specified in PEP 420) is preferred to `pkg_resources.declare_namespace`. See https://setuptools.pypa.io/en/latest/references/keywords.html#keyword-namespace-packages\n",
            "  declare_namespace(pkg)\n",
            "/usr/local/lib/python3.10/dist-packages/pkg_resources/__init__.py:2870: DeprecationWarning: Deprecated call to `pkg_resources.declare_namespace('mpl_toolkits')`.\n",
            "Implementing implicit namespace packages (as specified in PEP 420) is preferred to `pkg_resources.declare_namespace`. See https://setuptools.pypa.io/en/latest/references/keywords.html#keyword-namespace-packages\n",
            "  declare_namespace(pkg)\n",
            "/usr/local/lib/python3.10/dist-packages/pkg_resources/__init__.py:2870: DeprecationWarning: Deprecated call to `pkg_resources.declare_namespace('ruamel')`.\n",
            "Implementing implicit namespace packages (as specified in PEP 420) is preferred to `pkg_resources.declare_namespace`. See https://setuptools.pypa.io/en/latest/references/keywords.html#keyword-namespace-packages\n",
            "  declare_namespace(pkg)\n",
            "/usr/local/lib/python3.10/dist-packages/pkg_resources/__init__.py:2870: DeprecationWarning: Deprecated call to `pkg_resources.declare_namespace('ruamel.yaml')`.\n",
            "Implementing implicit namespace packages (as specified in PEP 420) is preferred to `pkg_resources.declare_namespace`. See https://setuptools.pypa.io/en/latest/references/keywords.html#keyword-namespace-packages\n",
            "  declare_namespace(pkg)\n",
            "/usr/local/lib/python3.10/dist-packages/pkg_resources/__init__.py:2870: DeprecationWarning: Deprecated call to `pkg_resources.declare_namespace('sphinxcontrib')`.\n",
            "Implementing implicit namespace packages (as specified in PEP 420) is preferred to `pkg_resources.declare_namespace`. See https://setuptools.pypa.io/en/latest/references/keywords.html#keyword-namespace-packages\n",
            "  declare_namespace(pkg)\n",
            "/usr/local/lib/python3.10/dist-packages/jaxlib/xla_client.py:225: DeprecationWarning: ml_dtypes.float8_e4m3b11 is deprecated. Use ml_dtypes.float8_e4m3b11fnuz\n",
            "  float8_e4m3b11fnuz = ml_dtypes.float8_e4m3b11\n",
            "2023-07-01 09:59:17 \u001b[1;30mINFO    \u001b[0m \u001b[34mnumexpr.utils\u001b[0m  - NumExpr defaulting to 2 threads.\n",
            "2023-07-01 09:59:20 \u001b[1;30mINFO    \u001b[0m \u001b[34mrasa.core.processor\u001b[0m  - Loading model models/20230701-095754-equilateral-cap.tar.gz...\n",
            "All model checkpoint layers were used when initializing TFBertModel.\n",
            "\n",
            "All the layers of TFBertModel were initialized from the model checkpoint at rasa/LaBSE.\n",
            "If your task is similar to the task the model of the checkpoint was trained on, you can already use TFBertModel for predictions without further training.\n",
            "\u001b[93m/usr/local/lib/python3.10/dist-packages/rasa/shared/utils/io.py:99: UserWarning: 'evaluate_every_number_of_epochs=20' is greater than 'epochs=1'. No evaluation will occur.\n",
            "\u001b[0m2023-07-01 09:59:47 \u001b[1;30mINFO    \u001b[0m \u001b[34mrasa.nlu.test\u001b[0m  - Running model for predictions:\n",
            "100% 250/250 [00:58<00:00,  4.25it/s]\n",
            "2023-07-01 10:00:46 \u001b[1;30mINFO    \u001b[0m \u001b[34mrasa.nlu.test\u001b[0m  - Intent evaluation results:\n",
            "2023-07-01 10:00:46 \u001b[1;30mINFO    \u001b[0m \u001b[34mrasa.nlu.test\u001b[0m  - Intent Evaluation: Only considering those 250 examples that have a defined intent out of 250 examples.\n",
            "2023-07-01 10:00:46 \u001b[1;30mINFO    \u001b[0m \u001b[34mrasa.nlu.test\u001b[0m  - Classification report saved to test_result/config/intent_report.json.\n",
            "2023-07-01 10:00:46 \u001b[1;30mINFO    \u001b[0m \u001b[34mrasa.nlu.test\u001b[0m  - Incorrect intent predictions saved to test_result/config/intent_errors.json.\n",
            "/usr/local/lib/python3.10/dist-packages/jupyter_client/connect.py:28: DeprecationWarning: Jupyter is migrating its paths to use standard platformdirs\n",
            "given by the platformdirs library.  To remove this warning and\n",
            "see the appropriate new directories, set the environment variable\n",
            "`JUPYTER_PLATFORM_DIRS=1` and then run `jupyter --paths`.\n",
            "The use of platformdirs will be the default in `jupyter_core` v6\n",
            "  from jupyter_core.paths import jupyter_data_dir, jupyter_runtime_dir, secure_write\n",
            "2023-07-01 10:00:47 \u001b[1;30mINFO    \u001b[0m \u001b[34mrasa.utils.plotting\u001b[0m  - Confusion matrix, without normalization: \n",
            "[[5 0 0 ... 0 0 0]\n",
            " [0 5 0 ... 0 0 0]\n",
            " [0 0 5 ... 0 0 0]\n",
            " ...\n",
            " [0 0 0 ... 5 0 0]\n",
            " [0 0 0 ... 0 5 0]\n",
            " [0 0 0 ... 0 0 4]]\n"
          ]
        },
        {
          "data": {
            "text/plain": []
          },
          "execution_count": 54,
          "metadata": {},
          "output_type": "execute_result"
        }
      ],
      "source": [
        "%%shell\n",
        "rasa test nlu --config config.yml \\\n",
        "              --nlu test_folder/nlu_test.yml\\\n",
        "              --out test_result/config"
      ]
    },
    {
      "attachments": {},
      "cell_type": "markdown",
      "metadata": {
        "id": "L5kfsKamg3xJ"
      },
      "source": [
        "### Result"
      ]
    },
    {
      "cell_type": "code",
      "execution_count": 57,
      "metadata": {
        "colab": {
          "base_uri": "https://localhost:8080/"
        },
        "id": "0dFAyJS8g3xJ",
        "outputId": "ed226df4-a783-4f45-a301-6c5c9e0c942d"
      },
      "outputs": [
        {
          "data": {
            "text/plain": [
              "{'Accuracy': 0.904,\n",
              " 'Precision': 0.9246190476190476,\n",
              " 'Recall': 0.904,\n",
              " 'F1 Score': 0.901968253968254}"
            ]
          },
          "execution_count": 57,
          "metadata": {},
          "output_type": "execute_result"
        }
      ],
      "source": [
        "report_file_path =  \"test_result/config/intent_report.json\"\n",
        "generate_classification_metrics(report_file_path)"
      ]
    },
    {
      "cell_type": "code",
      "execution_count": null,
      "metadata": {
        "id": "wO0Jxekug3xJ"
      },
      "outputs": [],
      "source": []
    },
    {
      "attachments": {},
      "cell_type": "markdown",
      "metadata": {
        "id": "p9HVAjkhg3xJ"
      },
      "source": [
        "## LabSE with 200 epochs"
      ]
    },
    {
      "attachments": {},
      "cell_type": "markdown",
      "metadata": {
        "id": "wAjzhLNUg3xJ"
      },
      "source": [
        "### Configuration"
      ]
    },
    {
      "cell_type": "code",
      "execution_count": 58,
      "metadata": {
        "id": "9b-N_aI9g3xJ"
      },
      "outputs": [],
      "source": [
        "generate_config_multi_intent(num_epochs=200, model_weights_name=\"rasa/LaBSE\", config_file_path = './config.yml')"
      ]
    },
    {
      "attachments": {},
      "cell_type": "markdown",
      "metadata": {
        "id": "l9wAKgoCg3xK"
      },
      "source": [
        "### Train"
      ]
    },
    {
      "cell_type": "code",
      "execution_count": 59,
      "metadata": {
        "colab": {
          "base_uri": "https://localhost:8080/"
        },
        "id": "k1jal_tog3xK",
        "outputId": "ecb24c0d-45d1-403c-efb0-79cdb90d2da1"
      },
      "outputs": [
        {
          "name": "stdout",
          "output_type": "stream",
          "text": [
            "/usr/local/lib/python3.10/dist-packages/rasa/core/tracker_store.py:1042: MovedIn20Warning: \u001b[31mDeprecated API features detected! These feature(s) are not compatible with SQLAlchemy 2.0. \u001b[32mTo prevent incompatible upgrades prior to updating applications, ensure requirements files are pinned to \"sqlalchemy<2.0\". \u001b[36mSet environment variable SQLALCHEMY_WARN_20=1 to show all deprecation warnings.  Set environment variable SQLALCHEMY_SILENCE_UBER_WARNING=1 to silence this message.\u001b[0m (Background on SQLAlchemy 2.0 at: https://sqlalche.me/e/b8d9)\n",
            "  Base: DeclarativeMeta = declarative_base()\n",
            "/usr/local/lib/python3.10/dist-packages/pkg_resources/__init__.py:121: DeprecationWarning: pkg_resources is deprecated as an API\n",
            "  warnings.warn(\"pkg_resources is deprecated as an API\", DeprecationWarning)\n",
            "/usr/local/lib/python3.10/dist-packages/pkg_resources/__init__.py:2870: DeprecationWarning: Deprecated call to `pkg_resources.declare_namespace('google')`.\n",
            "Implementing implicit namespace packages (as specified in PEP 420) is preferred to `pkg_resources.declare_namespace`. See https://setuptools.pypa.io/en/latest/references/keywords.html#keyword-namespace-packages\n",
            "  declare_namespace(pkg)\n",
            "/usr/local/lib/python3.10/dist-packages/pkg_resources/__init__.py:2870: DeprecationWarning: Deprecated call to `pkg_resources.declare_namespace('google.cloud')`.\n",
            "Implementing implicit namespace packages (as specified in PEP 420) is preferred to `pkg_resources.declare_namespace`. See https://setuptools.pypa.io/en/latest/references/keywords.html#keyword-namespace-packages\n",
            "  declare_namespace(pkg)\n",
            "/usr/local/lib/python3.10/dist-packages/pkg_resources/__init__.py:2870: DeprecationWarning: Deprecated call to `pkg_resources.declare_namespace('google.logging')`.\n",
            "Implementing implicit namespace packages (as specified in PEP 420) is preferred to `pkg_resources.declare_namespace`. See https://setuptools.pypa.io/en/latest/references/keywords.html#keyword-namespace-packages\n",
            "  declare_namespace(pkg)\n",
            "/usr/local/lib/python3.10/dist-packages/pkg_resources/__init__.py:2870: DeprecationWarning: Deprecated call to `pkg_resources.declare_namespace('google.iam')`.\n",
            "Implementing implicit namespace packages (as specified in PEP 420) is preferred to `pkg_resources.declare_namespace`. See https://setuptools.pypa.io/en/latest/references/keywords.html#keyword-namespace-packages\n",
            "  declare_namespace(pkg)\n",
            "/usr/local/lib/python3.10/dist-packages/pkg_resources/__init__.py:2870: DeprecationWarning: Deprecated call to `pkg_resources.declare_namespace('mpl_toolkits')`.\n",
            "Implementing implicit namespace packages (as specified in PEP 420) is preferred to `pkg_resources.declare_namespace`. See https://setuptools.pypa.io/en/latest/references/keywords.html#keyword-namespace-packages\n",
            "  declare_namespace(pkg)\n",
            "/usr/local/lib/python3.10/dist-packages/pkg_resources/__init__.py:2870: DeprecationWarning: Deprecated call to `pkg_resources.declare_namespace('ruamel')`.\n",
            "Implementing implicit namespace packages (as specified in PEP 420) is preferred to `pkg_resources.declare_namespace`. See https://setuptools.pypa.io/en/latest/references/keywords.html#keyword-namespace-packages\n",
            "  declare_namespace(pkg)\n",
            "/usr/local/lib/python3.10/dist-packages/pkg_resources/__init__.py:2870: DeprecationWarning: Deprecated call to `pkg_resources.declare_namespace('ruamel.yaml')`.\n",
            "Implementing implicit namespace packages (as specified in PEP 420) is preferred to `pkg_resources.declare_namespace`. See https://setuptools.pypa.io/en/latest/references/keywords.html#keyword-namespace-packages\n",
            "  declare_namespace(pkg)\n",
            "/usr/local/lib/python3.10/dist-packages/pkg_resources/__init__.py:2870: DeprecationWarning: Deprecated call to `pkg_resources.declare_namespace('sphinxcontrib')`.\n",
            "Implementing implicit namespace packages (as specified in PEP 420) is preferred to `pkg_resources.declare_namespace`. See https://setuptools.pypa.io/en/latest/references/keywords.html#keyword-namespace-packages\n",
            "  declare_namespace(pkg)\n",
            "2023-07-01 10:06:08 \u001b[1;30mINFO    \u001b[0m \u001b[34mrasa.cli.train\u001b[0m  - Started validating domain and training data...\n",
            "/usr/local/lib/python3.10/dist-packages/jaxlib/xla_client.py:225: DeprecationWarning: ml_dtypes.float8_e4m3b11 is deprecated. Use ml_dtypes.float8_e4m3b11fnuz\n",
            "  float8_e4m3b11fnuz = ml_dtypes.float8_e4m3b11\n",
            "2023-07-01 10:06:11 \u001b[1;30mINFO    \u001b[0m \u001b[34mnumexpr.utils\u001b[0m  - NumExpr defaulting to 2 threads.\n",
            "2023-07-01 10:06:14 \u001b[1;30mINFO    \u001b[0m \u001b[34mrasa.validator\u001b[0m  - Validating intents...\n",
            "2023-07-01 10:06:14 \u001b[1;30mINFO    \u001b[0m \u001b[34mrasa.validator\u001b[0m  - Validating uniqueness of intents and stories...\n",
            "\u001b[93m/usr/local/lib/python3.10/dist-packages/rasa/shared/utils/io.py:99: UserWarning: The example '\"طریقه اطلاع رسانی فعال شدن بسته اینترنت رزرو چیست؟\"' was found labeled with multiple different intents in the training data. Each annotated message should only appear with one intent. You should fix that conflict The example is labeled with: Q41, Q44.\n",
            "\u001b[0m2023-07-01 10:06:14 \u001b[1;30mINFO    \u001b[0m \u001b[34mrasa.validator\u001b[0m  - Validating utterances...\n",
            "2023-07-01 10:06:14 \u001b[1;30mINFO    \u001b[0m \u001b[34mrasa.validator\u001b[0m  - Story structure validation...\n",
            "2023-07-01 10:06:14 \u001b[1;30mINFO    \u001b[0m \u001b[34mrasa.core.training.story_conflict\u001b[0m  - Considering all preceding turns for conflict analysis.\n",
            "2023-07-01 10:06:14 \u001b[1;30mINFO    \u001b[0m \u001b[34mrasa.validator\u001b[0m  - No story structure conflicts found.\n",
            "\u001b[93m/usr/local/lib/python3.10/dist-packages/rasa/engine/recipes/recipe.py:35: FutureWarning: From Rasa Open Source 4.0.0 onwards it will be required to specify a recipe in your model configuration. Defaulting to recipe 'default.v1'.\n",
            "  rasa.shared.utils.io.raise_deprecation_warning(\n",
            "\u001b[0mAll model checkpoint layers were used when initializing TFBertModel.\n",
            "\n",
            "All the layers of TFBertModel were initialized from the model checkpoint at rasa/LaBSE.\n",
            "If your task is similar to the task the model of the checkpoint was trained on, you can already use TFBertModel for predictions without further training.\n",
            "2023-07-01 10:06:33 \u001b[1;30mINFO    \u001b[0m \u001b[34mrasa.engine.training.hooks\u001b[0m  - Starting to train component 'DIETClassifier'.\n",
            "Epochs: 100% 200/200 [01:35<00:00,  2.09it/s, t_loss=1.44, i_acc=0.999]\n",
            "2023-07-01 10:09:07 \u001b[1;30mINFO    \u001b[0m \u001b[34mrasa.engine.training.hooks\u001b[0m  - Finished training component 'DIETClassifier'.\n",
            "2023-07-01 10:09:07 \u001b[1;30mINFO    \u001b[0m \u001b[34mrasa.engine.training.hooks\u001b[0m  - Starting to train component 'ResponseSelector'.\n",
            "2023-07-01 10:09:07 \u001b[1;30mINFO    \u001b[0m \u001b[34mrasa.nlu.selectors.response_selector\u001b[0m  - Retrieval intent parameter was left to its default value. This response selector will be trained on training examples combining all retrieval intents.\n",
            "2023-07-01 10:09:07 \u001b[1;30mINFO    \u001b[0m \u001b[34mrasa.engine.training.hooks\u001b[0m  - Finished training component 'ResponseSelector'.\n",
            "2023-07-01 10:09:07 \u001b[1;30mINFO    \u001b[0m \u001b[34mrasa.engine.training.hooks\u001b[0m  - Restored component 'MemoizationPolicy' from cache.\n",
            "2023-07-01 10:09:07 \u001b[1;30mINFO    \u001b[0m \u001b[34mrasa.engine.training.hooks\u001b[0m  - Restored component 'RulePolicy' from cache.\n",
            "2023-07-01 10:09:07 \u001b[1;30mINFO    \u001b[0m \u001b[34mrasa.engine.training.hooks\u001b[0m  - Restored component 'TEDPolicy' from cache.\n",
            "\u001b[92mYour Rasa model is trained and saved at 'models/20230701-100617-formal-parakeet.tar.gz'.\u001b[0m\n"
          ]
        },
        {
          "data": {
            "text/plain": []
          },
          "execution_count": 59,
          "metadata": {},
          "output_type": "execute_result"
        }
      ],
      "source": [
        "%%shell\n",
        "rasa train"
      ]
    },
    {
      "attachments": {},
      "cell_type": "markdown",
      "metadata": {
        "id": "6TMJchUlg3xK"
      },
      "source": [
        "### Test"
      ]
    },
    {
      "cell_type": "code",
      "execution_count": 60,
      "metadata": {
        "colab": {
          "base_uri": "https://localhost:8080/"
        },
        "id": "mtV4qbUCg3xK",
        "outputId": "d1c9b033-4d70-4e94-8779-d390bccec8d0"
      },
      "outputs": [
        {
          "name": "stdout",
          "output_type": "stream",
          "text": [
            "/usr/local/lib/python3.10/dist-packages/rasa/core/tracker_store.py:1042: MovedIn20Warning: \u001b[31mDeprecated API features detected! These feature(s) are not compatible with SQLAlchemy 2.0. \u001b[32mTo prevent incompatible upgrades prior to updating applications, ensure requirements files are pinned to \"sqlalchemy<2.0\". \u001b[36mSet environment variable SQLALCHEMY_WARN_20=1 to show all deprecation warnings.  Set environment variable SQLALCHEMY_SILENCE_UBER_WARNING=1 to silence this message.\u001b[0m (Background on SQLAlchemy 2.0 at: https://sqlalche.me/e/b8d9)\n",
            "  Base: DeclarativeMeta = declarative_base()\n",
            "/usr/local/lib/python3.10/dist-packages/pkg_resources/__init__.py:121: DeprecationWarning: pkg_resources is deprecated as an API\n",
            "  warnings.warn(\"pkg_resources is deprecated as an API\", DeprecationWarning)\n",
            "/usr/local/lib/python3.10/dist-packages/pkg_resources/__init__.py:2870: DeprecationWarning: Deprecated call to `pkg_resources.declare_namespace('google')`.\n",
            "Implementing implicit namespace packages (as specified in PEP 420) is preferred to `pkg_resources.declare_namespace`. See https://setuptools.pypa.io/en/latest/references/keywords.html#keyword-namespace-packages\n",
            "  declare_namespace(pkg)\n",
            "/usr/local/lib/python3.10/dist-packages/pkg_resources/__init__.py:2870: DeprecationWarning: Deprecated call to `pkg_resources.declare_namespace('google.cloud')`.\n",
            "Implementing implicit namespace packages (as specified in PEP 420) is preferred to `pkg_resources.declare_namespace`. See https://setuptools.pypa.io/en/latest/references/keywords.html#keyword-namespace-packages\n",
            "  declare_namespace(pkg)\n",
            "/usr/local/lib/python3.10/dist-packages/pkg_resources/__init__.py:2870: DeprecationWarning: Deprecated call to `pkg_resources.declare_namespace('google.logging')`.\n",
            "Implementing implicit namespace packages (as specified in PEP 420) is preferred to `pkg_resources.declare_namespace`. See https://setuptools.pypa.io/en/latest/references/keywords.html#keyword-namespace-packages\n",
            "  declare_namespace(pkg)\n",
            "/usr/local/lib/python3.10/dist-packages/pkg_resources/__init__.py:2870: DeprecationWarning: Deprecated call to `pkg_resources.declare_namespace('google.iam')`.\n",
            "Implementing implicit namespace packages (as specified in PEP 420) is preferred to `pkg_resources.declare_namespace`. See https://setuptools.pypa.io/en/latest/references/keywords.html#keyword-namespace-packages\n",
            "  declare_namespace(pkg)\n",
            "/usr/local/lib/python3.10/dist-packages/pkg_resources/__init__.py:2870: DeprecationWarning: Deprecated call to `pkg_resources.declare_namespace('mpl_toolkits')`.\n",
            "Implementing implicit namespace packages (as specified in PEP 420) is preferred to `pkg_resources.declare_namespace`. See https://setuptools.pypa.io/en/latest/references/keywords.html#keyword-namespace-packages\n",
            "  declare_namespace(pkg)\n",
            "/usr/local/lib/python3.10/dist-packages/pkg_resources/__init__.py:2870: DeprecationWarning: Deprecated call to `pkg_resources.declare_namespace('ruamel')`.\n",
            "Implementing implicit namespace packages (as specified in PEP 420) is preferred to `pkg_resources.declare_namespace`. See https://setuptools.pypa.io/en/latest/references/keywords.html#keyword-namespace-packages\n",
            "  declare_namespace(pkg)\n",
            "/usr/local/lib/python3.10/dist-packages/pkg_resources/__init__.py:2870: DeprecationWarning: Deprecated call to `pkg_resources.declare_namespace('ruamel.yaml')`.\n",
            "Implementing implicit namespace packages (as specified in PEP 420) is preferred to `pkg_resources.declare_namespace`. See https://setuptools.pypa.io/en/latest/references/keywords.html#keyword-namespace-packages\n",
            "  declare_namespace(pkg)\n",
            "/usr/local/lib/python3.10/dist-packages/pkg_resources/__init__.py:2870: DeprecationWarning: Deprecated call to `pkg_resources.declare_namespace('sphinxcontrib')`.\n",
            "Implementing implicit namespace packages (as specified in PEP 420) is preferred to `pkg_resources.declare_namespace`. See https://setuptools.pypa.io/en/latest/references/keywords.html#keyword-namespace-packages\n",
            "  declare_namespace(pkg)\n",
            "/usr/local/lib/python3.10/dist-packages/jaxlib/xla_client.py:225: DeprecationWarning: ml_dtypes.float8_e4m3b11 is deprecated. Use ml_dtypes.float8_e4m3b11fnuz\n",
            "  float8_e4m3b11fnuz = ml_dtypes.float8_e4m3b11\n",
            "2023-07-01 10:09:18 \u001b[1;30mINFO    \u001b[0m \u001b[34mnumexpr.utils\u001b[0m  - NumExpr defaulting to 2 threads.\n",
            "2023-07-01 10:09:20 \u001b[1;30mINFO    \u001b[0m \u001b[34mrasa.core.processor\u001b[0m  - Loading model models/20230701-100617-formal-parakeet.tar.gz...\n",
            "All model checkpoint layers were used when initializing TFBertModel.\n",
            "\n",
            "All the layers of TFBertModel were initialized from the model checkpoint at rasa/LaBSE.\n",
            "If your task is similar to the task the model of the checkpoint was trained on, you can already use TFBertModel for predictions without further training.\n",
            "\u001b[93m/usr/local/lib/python3.10/dist-packages/rasa/shared/utils/io.py:99: UserWarning: 'evaluate_every_number_of_epochs=20' is greater than 'epochs=1'. No evaluation will occur.\n",
            "\u001b[0m2023-07-01 10:09:49 \u001b[1;30mINFO    \u001b[0m \u001b[34mrasa.nlu.test\u001b[0m  - Running model for predictions:\n",
            "100% 250/250 [00:59<00:00,  4.20it/s]\n",
            "2023-07-01 10:10:49 \u001b[1;30mINFO    \u001b[0m \u001b[34mrasa.nlu.test\u001b[0m  - Intent evaluation results:\n",
            "2023-07-01 10:10:49 \u001b[1;30mINFO    \u001b[0m \u001b[34mrasa.nlu.test\u001b[0m  - Intent Evaluation: Only considering those 250 examples that have a defined intent out of 250 examples.\n",
            "2023-07-01 10:10:49 \u001b[1;30mINFO    \u001b[0m \u001b[34mrasa.nlu.test\u001b[0m  - Classification report saved to test_result/config/intent_report.json.\n",
            "2023-07-01 10:10:49 \u001b[1;30mINFO    \u001b[0m \u001b[34mrasa.nlu.test\u001b[0m  - Incorrect intent predictions saved to test_result/config/intent_errors.json.\n",
            "/usr/local/lib/python3.10/dist-packages/jupyter_client/connect.py:28: DeprecationWarning: Jupyter is migrating its paths to use standard platformdirs\n",
            "given by the platformdirs library.  To remove this warning and\n",
            "see the appropriate new directories, set the environment variable\n",
            "`JUPYTER_PLATFORM_DIRS=1` and then run `jupyter --paths`.\n",
            "The use of platformdirs will be the default in `jupyter_core` v6\n",
            "  from jupyter_core.paths import jupyter_data_dir, jupyter_runtime_dir, secure_write\n",
            "2023-07-01 10:10:49 \u001b[1;30mINFO    \u001b[0m \u001b[34mrasa.utils.plotting\u001b[0m  - Confusion matrix, without normalization: \n",
            "[[5 0 0 ... 0 0 0]\n",
            " [0 5 0 ... 0 0 0]\n",
            " [0 0 5 ... 0 0 0]\n",
            " ...\n",
            " [0 0 0 ... 5 0 0]\n",
            " [0 0 0 ... 0 5 0]\n",
            " [0 0 0 ... 0 0 5]]\n"
          ]
        },
        {
          "data": {
            "text/plain": []
          },
          "execution_count": 60,
          "metadata": {},
          "output_type": "execute_result"
        }
      ],
      "source": [
        "%%shell\n",
        "rasa test nlu --config config.yml \\\n",
        "              --nlu test_folder/nlu_test.yml\\\n",
        "              --out test_result/config"
      ]
    },
    {
      "attachments": {},
      "cell_type": "markdown",
      "metadata": {
        "id": "r3Dh1od7g3xK"
      },
      "source": [
        "### Result"
      ]
    },
    {
      "cell_type": "code",
      "execution_count": 61,
      "metadata": {
        "colab": {
          "base_uri": "https://localhost:8080/"
        },
        "id": "_mjSdKDig3xK",
        "outputId": "dd7e4f55-5cf2-4dd9-d56e-f292f8d254b4"
      },
      "outputs": [
        {
          "data": {
            "text/plain": [
              "{'Accuracy': 0.928,\n",
              " 'Precision': 0.9376190476190476,\n",
              " 'Recall': 0.928,\n",
              " 'F1 Score': 0.9251659451659451}"
            ]
          },
          "execution_count": 61,
          "metadata": {},
          "output_type": "execute_result"
        }
      ],
      "source": [
        "report_file_path =  \"test_result/config/intent_report.json\"\n",
        "generate_classification_metrics(report_file_path)"
      ]
    },
    {
      "cell_type": "code",
      "execution_count": 61,
      "metadata": {
        "id": "t2_jJry_g3xK"
      },
      "outputs": [],
      "source": []
    }
  ],
  "metadata": {
    "accelerator": "GPU",
    "colab": {
      "collapsed_sections": [
        "R7Q0vwwIRhOM",
        "b2p3jBL_Rqtd",
        "xmpv_ktHR22T",
        "7-5oRg9SUFDj",
        "7ECzH5fxSAKs",
        "3yB_PgZoZgTr",
        "2vIvtVOIZpWl",
        "rlVzKcUgGEKY",
        "wsA8JQ3HGEKj",
        "0fWd-B8IOzVq",
        "lhzzrtQeMWOx",
        "6bV2Cv28g3w4"
      ],
      "gpuType": "T4",
      "provenance": []
    },
    "kernelspec": {
      "display_name": "Python 3",
      "name": "python3"
    },
    "language_info": {
      "name": "python"
    }
  },
  "nbformat": 4,
  "nbformat_minor": 0
}
